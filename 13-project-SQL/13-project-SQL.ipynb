{
 "cells": [
  {
   "cell_type": "markdown",
   "metadata": {},
   "source": [
    "# Исследование для сервиса по чтению книг по подписке"
   ]
  },
  {
   "cell_type": "markdown",
   "metadata": {},
   "source": [
    "**Цель**: Провести исследование базы данных книг для дальнейшей формулировки предложения для нового продукта.  \n",
    "  \n",
    "**Задачи**:  \n",
    "  \n",
    "- Посчитать, сколько книг вышло после 1 января 2000 года  \n",
    "- Для каждой книги посчитать количество обзоров и среднюю оценку  \n",
    "- Определить издательство, которое выпустило наибольшее число книг толще 50 страниц, таким образим исключить из анализа брошюры  \n",
    "- Определить автора с самой высокой средней оценкой книг учитывая только книги с 50 и более оценками  \n",
    "- Посчитать среднее количество обзоров от пользователей, которые поставили больше 50 оценок  \n"
   ]
  },
  {
   "cell_type": "markdown",
   "metadata": {},
   "source": [
    "**Этапы исследования**:  \n",
    "  \n",
    "1. Загрузить и исследовать данные\n",
    "2. Выполнить поставленные задачи:  \n",
    "  \n",
    "2.1 Посчитать, сколько книг вышло после 1 января 2000 года  \n",
    "2.2 Для каждой книги посчитать количество обзоров и среднюю оценку  \n",
    "2.3 Определить издательство, которое выпустило наибольшее число книг толще 50 страниц, таким образим исключить из анализа брошюры  \n",
    "2.4 Определить автора с самой высокой средней оценкой книг учитывая только книги с 50 и более оценками  \n",
    "2.5 Посчитать среднее количество обзоров от пользователей, которые поставили больше 50 оценок \n",
    "  \n",
    "3. Сделать выводы"
   ]
  },
  {
   "cell_type": "markdown",
   "metadata": {},
   "source": [
    "## Загрузим и исследуем данные"
   ]
  },
  {
   "cell_type": "code",
   "execution_count": 1,
   "metadata": {},
   "outputs": [],
   "source": [
    "# импортируем библиотеки\n",
    "\n",
    "import pandas as pd\n",
    "from sqlalchemy import create_engine\n",
    "\n",
    "# устанавливаем параметры\n",
    "\n",
    "db_config = {'user': 'praktikum_student', # имя пользователя\n",
    " 'pwd': 'Sdf4$2;d-d30pp', # пароль\n",
    " 'host': 'rc1b-wcoijxj3yxfsf3fs.mdb.yandexcloud.net',\n",
    " 'port': 6432, # порт подключения\n",
    " 'db': 'data-analyst-final-project-db'} # название базы данных\n",
    "\n",
    "connection_string = 'postgresql://{}:{}@{}:{}/{}'.format(db_config['user'],\n",
    " db_config['pwd'],\n",
    " db_config['host'],\n",
    " db_config['port'],\n",
    " db_config['db'])\n",
    "\n",
    "# сохраняем коннектор\n",
    "\n",
    "engine = create_engine(connection_string, connect_args={'sslmode':'require'}) "
   ]
  },
  {
   "cell_type": "code",
   "execution_count": 7,
   "metadata": {
    "scrolled": true
   },
   "outputs": [
    {
     "data": {
      "text/html": [
       "<div>\n",
       "<style scoped>\n",
       "    .dataframe tbody tr th:only-of-type {\n",
       "        vertical-align: middle;\n",
       "    }\n",
       "\n",
       "    .dataframe tbody tr th {\n",
       "        vertical-align: top;\n",
       "    }\n",
       "\n",
       "    .dataframe thead th {\n",
       "        text-align: right;\n",
       "    }\n",
       "</style>\n",
       "<table border=\"1\" class=\"dataframe\">\n",
       "  <thead>\n",
       "    <tr style=\"text-align: right;\">\n",
       "      <th></th>\n",
       "      <th>book_id</th>\n",
       "      <th>author_id</th>\n",
       "      <th>title</th>\n",
       "      <th>num_pages</th>\n",
       "      <th>publication_date</th>\n",
       "      <th>publisher_id</th>\n",
       "    </tr>\n",
       "  </thead>\n",
       "  <tbody>\n",
       "    <tr>\n",
       "      <td>0</td>\n",
       "      <td>1</td>\n",
       "      <td>546</td>\n",
       "      <td>'Salem's Lot</td>\n",
       "      <td>594</td>\n",
       "      <td>2005-11-01</td>\n",
       "      <td>93</td>\n",
       "    </tr>\n",
       "    <tr>\n",
       "      <td>1</td>\n",
       "      <td>2</td>\n",
       "      <td>465</td>\n",
       "      <td>1 000 Places to See Before You Die</td>\n",
       "      <td>992</td>\n",
       "      <td>2003-05-22</td>\n",
       "      <td>336</td>\n",
       "    </tr>\n",
       "    <tr>\n",
       "      <td>2</td>\n",
       "      <td>3</td>\n",
       "      <td>407</td>\n",
       "      <td>13 Little Blue Envelopes (Little Blue Envelope...</td>\n",
       "      <td>322</td>\n",
       "      <td>2010-12-21</td>\n",
       "      <td>135</td>\n",
       "    </tr>\n",
       "    <tr>\n",
       "      <td>3</td>\n",
       "      <td>4</td>\n",
       "      <td>82</td>\n",
       "      <td>1491: New Revelations of the Americas Before C...</td>\n",
       "      <td>541</td>\n",
       "      <td>2006-10-10</td>\n",
       "      <td>309</td>\n",
       "    </tr>\n",
       "    <tr>\n",
       "      <td>4</td>\n",
       "      <td>5</td>\n",
       "      <td>125</td>\n",
       "      <td>1776</td>\n",
       "      <td>386</td>\n",
       "      <td>2006-07-04</td>\n",
       "      <td>268</td>\n",
       "    </tr>\n",
       "  </tbody>\n",
       "</table>\n",
       "</div>"
      ],
      "text/plain": [
       "   book_id  author_id                                              title  \\\n",
       "0        1        546                                       'Salem's Lot   \n",
       "1        2        465                 1 000 Places to See Before You Die   \n",
       "2        3        407  13 Little Blue Envelopes (Little Blue Envelope...   \n",
       "3        4         82  1491: New Revelations of the Americas Before C...   \n",
       "4        5        125                                               1776   \n",
       "\n",
       "   num_pages publication_date  publisher_id  \n",
       "0        594       2005-11-01            93  \n",
       "1        992       2003-05-22           336  \n",
       "2        322       2010-12-21           135  \n",
       "3        541       2006-10-10           309  \n",
       "4        386       2006-07-04           268  "
      ]
     },
     "execution_count": 7,
     "metadata": {},
     "output_type": "execute_result"
    }
   ],
   "source": [
    "query = ''' SELECT * \n",
    "                FROM books\n",
    "LIMIT 5 '''\n",
    "pd.io.sql.read_sql(query, con = engine) "
   ]
  },
  {
   "cell_type": "code",
   "execution_count": 8,
   "metadata": {
    "scrolled": true
   },
   "outputs": [
    {
     "data": {
      "text/html": [
       "<div>\n",
       "<style scoped>\n",
       "    .dataframe tbody tr th:only-of-type {\n",
       "        vertical-align: middle;\n",
       "    }\n",
       "\n",
       "    .dataframe tbody tr th {\n",
       "        vertical-align: top;\n",
       "    }\n",
       "\n",
       "    .dataframe thead th {\n",
       "        text-align: right;\n",
       "    }\n",
       "</style>\n",
       "<table border=\"1\" class=\"dataframe\">\n",
       "  <thead>\n",
       "    <tr style=\"text-align: right;\">\n",
       "      <th></th>\n",
       "      <th>author_id</th>\n",
       "      <th>author</th>\n",
       "    </tr>\n",
       "  </thead>\n",
       "  <tbody>\n",
       "    <tr>\n",
       "      <td>0</td>\n",
       "      <td>1</td>\n",
       "      <td>A.S. Byatt</td>\n",
       "    </tr>\n",
       "    <tr>\n",
       "      <td>1</td>\n",
       "      <td>2</td>\n",
       "      <td>Aesop/Laura Harris/Laura Gibbs</td>\n",
       "    </tr>\n",
       "    <tr>\n",
       "      <td>2</td>\n",
       "      <td>3</td>\n",
       "      <td>Agatha Christie</td>\n",
       "    </tr>\n",
       "    <tr>\n",
       "      <td>3</td>\n",
       "      <td>4</td>\n",
       "      <td>Alan Brennert</td>\n",
       "    </tr>\n",
       "    <tr>\n",
       "      <td>4</td>\n",
       "      <td>5</td>\n",
       "      <td>Alan Moore/David   Lloyd</td>\n",
       "    </tr>\n",
       "  </tbody>\n",
       "</table>\n",
       "</div>"
      ],
      "text/plain": [
       "   author_id                          author\n",
       "0          1                      A.S. Byatt\n",
       "1          2  Aesop/Laura Harris/Laura Gibbs\n",
       "2          3                 Agatha Christie\n",
       "3          4                   Alan Brennert\n",
       "4          5        Alan Moore/David   Lloyd"
      ]
     },
     "execution_count": 8,
     "metadata": {},
     "output_type": "execute_result"
    }
   ],
   "source": [
    "query = ''' SELECT * \n",
    "                FROM authors    \n",
    "LIMIT 5 '''\n",
    "\n",
    "pd.io.sql.read_sql(query, con = engine)"
   ]
  },
  {
   "cell_type": "code",
   "execution_count": 9,
   "metadata": {
    "scrolled": true
   },
   "outputs": [
    {
     "data": {
      "text/html": [
       "<div>\n",
       "<style scoped>\n",
       "    .dataframe tbody tr th:only-of-type {\n",
       "        vertical-align: middle;\n",
       "    }\n",
       "\n",
       "    .dataframe tbody tr th {\n",
       "        vertical-align: top;\n",
       "    }\n",
       "\n",
       "    .dataframe thead th {\n",
       "        text-align: right;\n",
       "    }\n",
       "</style>\n",
       "<table border=\"1\" class=\"dataframe\">\n",
       "  <thead>\n",
       "    <tr style=\"text-align: right;\">\n",
       "      <th></th>\n",
       "      <th>publisher_id</th>\n",
       "      <th>publisher</th>\n",
       "    </tr>\n",
       "  </thead>\n",
       "  <tbody>\n",
       "    <tr>\n",
       "      <td>0</td>\n",
       "      <td>1</td>\n",
       "      <td>Ace</td>\n",
       "    </tr>\n",
       "    <tr>\n",
       "      <td>1</td>\n",
       "      <td>2</td>\n",
       "      <td>Ace Book</td>\n",
       "    </tr>\n",
       "    <tr>\n",
       "      <td>2</td>\n",
       "      <td>3</td>\n",
       "      <td>Ace Books</td>\n",
       "    </tr>\n",
       "    <tr>\n",
       "      <td>3</td>\n",
       "      <td>4</td>\n",
       "      <td>Ace Hardcover</td>\n",
       "    </tr>\n",
       "    <tr>\n",
       "      <td>4</td>\n",
       "      <td>5</td>\n",
       "      <td>Addison Wesley Publishing Company</td>\n",
       "    </tr>\n",
       "  </tbody>\n",
       "</table>\n",
       "</div>"
      ],
      "text/plain": [
       "   publisher_id                          publisher\n",
       "0             1                                Ace\n",
       "1             2                           Ace Book\n",
       "2             3                          Ace Books\n",
       "3             4                      Ace Hardcover\n",
       "4             5  Addison Wesley Publishing Company"
      ]
     },
     "execution_count": 9,
     "metadata": {},
     "output_type": "execute_result"
    }
   ],
   "source": [
    "query = ''' SELECT * \n",
    "                FROM publishers    \n",
    "LIMIT 5 '''\n",
    "\n",
    "pd.io.sql.read_sql(query, con = engine)"
   ]
  },
  {
   "cell_type": "code",
   "execution_count": 10,
   "metadata": {
    "scrolled": true
   },
   "outputs": [
    {
     "data": {
      "text/html": [
       "<div>\n",
       "<style scoped>\n",
       "    .dataframe tbody tr th:only-of-type {\n",
       "        vertical-align: middle;\n",
       "    }\n",
       "\n",
       "    .dataframe tbody tr th {\n",
       "        vertical-align: top;\n",
       "    }\n",
       "\n",
       "    .dataframe thead th {\n",
       "        text-align: right;\n",
       "    }\n",
       "</style>\n",
       "<table border=\"1\" class=\"dataframe\">\n",
       "  <thead>\n",
       "    <tr style=\"text-align: right;\">\n",
       "      <th></th>\n",
       "      <th>rating_id</th>\n",
       "      <th>book_id</th>\n",
       "      <th>username</th>\n",
       "      <th>rating</th>\n",
       "    </tr>\n",
       "  </thead>\n",
       "  <tbody>\n",
       "    <tr>\n",
       "      <td>0</td>\n",
       "      <td>1</td>\n",
       "      <td>1</td>\n",
       "      <td>ryanfranco</td>\n",
       "      <td>4</td>\n",
       "    </tr>\n",
       "    <tr>\n",
       "      <td>1</td>\n",
       "      <td>2</td>\n",
       "      <td>1</td>\n",
       "      <td>grantpatricia</td>\n",
       "      <td>2</td>\n",
       "    </tr>\n",
       "    <tr>\n",
       "      <td>2</td>\n",
       "      <td>3</td>\n",
       "      <td>1</td>\n",
       "      <td>brandtandrea</td>\n",
       "      <td>5</td>\n",
       "    </tr>\n",
       "    <tr>\n",
       "      <td>3</td>\n",
       "      <td>4</td>\n",
       "      <td>2</td>\n",
       "      <td>lorichen</td>\n",
       "      <td>3</td>\n",
       "    </tr>\n",
       "    <tr>\n",
       "      <td>4</td>\n",
       "      <td>5</td>\n",
       "      <td>2</td>\n",
       "      <td>mariokeller</td>\n",
       "      <td>2</td>\n",
       "    </tr>\n",
       "  </tbody>\n",
       "</table>\n",
       "</div>"
      ],
      "text/plain": [
       "   rating_id  book_id       username  rating\n",
       "0          1        1     ryanfranco       4\n",
       "1          2        1  grantpatricia       2\n",
       "2          3        1   brandtandrea       5\n",
       "3          4        2       lorichen       3\n",
       "4          5        2    mariokeller       2"
      ]
     },
     "execution_count": 10,
     "metadata": {},
     "output_type": "execute_result"
    }
   ],
   "source": [
    "query = ''' SELECT * \n",
    "                FROM ratings    \n",
    "LIMIT 5 '''\n",
    "\n",
    "pd.io.sql.read_sql(query, con = engine)"
   ]
  },
  {
   "cell_type": "code",
   "execution_count": 11,
   "metadata": {
    "scrolled": false
   },
   "outputs": [
    {
     "data": {
      "text/html": [
       "<div>\n",
       "<style scoped>\n",
       "    .dataframe tbody tr th:only-of-type {\n",
       "        vertical-align: middle;\n",
       "    }\n",
       "\n",
       "    .dataframe tbody tr th {\n",
       "        vertical-align: top;\n",
       "    }\n",
       "\n",
       "    .dataframe thead th {\n",
       "        text-align: right;\n",
       "    }\n",
       "</style>\n",
       "<table border=\"1\" class=\"dataframe\">\n",
       "  <thead>\n",
       "    <tr style=\"text-align: right;\">\n",
       "      <th></th>\n",
       "      <th>review_id</th>\n",
       "      <th>book_id</th>\n",
       "      <th>username</th>\n",
       "      <th>text</th>\n",
       "    </tr>\n",
       "  </thead>\n",
       "  <tbody>\n",
       "    <tr>\n",
       "      <td>0</td>\n",
       "      <td>1</td>\n",
       "      <td>1</td>\n",
       "      <td>brandtandrea</td>\n",
       "      <td>Mention society tell send professor analysis. ...</td>\n",
       "    </tr>\n",
       "    <tr>\n",
       "      <td>1</td>\n",
       "      <td>2</td>\n",
       "      <td>1</td>\n",
       "      <td>ryanfranco</td>\n",
       "      <td>Foot glass pretty audience hit themselves. Amo...</td>\n",
       "    </tr>\n",
       "    <tr>\n",
       "      <td>2</td>\n",
       "      <td>3</td>\n",
       "      <td>2</td>\n",
       "      <td>lorichen</td>\n",
       "      <td>Listen treat keep worry. Miss husband tax but ...</td>\n",
       "    </tr>\n",
       "    <tr>\n",
       "      <td>3</td>\n",
       "      <td>4</td>\n",
       "      <td>3</td>\n",
       "      <td>johnsonamanda</td>\n",
       "      <td>Finally month interesting blue could nature cu...</td>\n",
       "    </tr>\n",
       "    <tr>\n",
       "      <td>4</td>\n",
       "      <td>5</td>\n",
       "      <td>3</td>\n",
       "      <td>scotttamara</td>\n",
       "      <td>Nation purpose heavy give wait song will. List...</td>\n",
       "    </tr>\n",
       "  </tbody>\n",
       "</table>\n",
       "</div>"
      ],
      "text/plain": [
       "   review_id  book_id       username  \\\n",
       "0          1        1   brandtandrea   \n",
       "1          2        1     ryanfranco   \n",
       "2          3        2       lorichen   \n",
       "3          4        3  johnsonamanda   \n",
       "4          5        3    scotttamara   \n",
       "\n",
       "                                                text  \n",
       "0  Mention society tell send professor analysis. ...  \n",
       "1  Foot glass pretty audience hit themselves. Amo...  \n",
       "2  Listen treat keep worry. Miss husband tax but ...  \n",
       "3  Finally month interesting blue could nature cu...  \n",
       "4  Nation purpose heavy give wait song will. List...  "
      ]
     },
     "execution_count": 11,
     "metadata": {},
     "output_type": "execute_result"
    }
   ],
   "source": [
    "query = ''' SELECT * \n",
    "                FROM reviews    \n",
    "LIMIT 5 '''\n",
    "\n",
    "pd.io.sql.read_sql(query, con = engine)"
   ]
  },
  {
   "cell_type": "markdown",
   "metadata": {},
   "source": [
    "В нашем распоряжении находятся 5 баз данных:  \n",
    "  \n",
    "**Таблица `books`**\n",
    "\n",
    "Содержит данные о 1000 книг:\n",
    "\n",
    "- `book_id` — идентификатор книги;\n",
    "- `author_id` — идентификатор автора;\n",
    "- `title` — название книги;\n",
    "- `num_pages` — количество страниц;\n",
    "- `publication_date` — дата публикации книги;\n",
    "- `publisher_id` — идентификатор издателя.\n",
    "\n",
    "**Таблица `authors`**\n",
    "\n",
    "Содержит данные о 636 авторах:\n",
    "\n",
    "- `author_id` — идентификатор автора;\n",
    "- `author` — имя автора.\n",
    "\n",
    "**Таблица `publishers`**\n",
    "\n",
    "Содержит данные о 340 издательствах:\n",
    "\n",
    "- `publisher_id` — идентификатор издательства;\n",
    "- `publisher` — название издательства;\n",
    "\n",
    "**Таблица `ratings`**\n",
    "\n",
    "Содержит данные о 6456 пользовательских оценках книг:\n",
    "\n",
    "- `rating_id` — идентификатор оценки;\n",
    "- `book_id` — идентификатор книги;\n",
    "- `username` — имя пользователя, оставившего оценку;\n",
    "- `rating` — оценка книги.\n",
    "\n",
    "**Таблица `reviews`**\n",
    "\n",
    "Содержит данные о 2793 пользовательских обзорах на книги:\n",
    "\n",
    "- `review_id` — идентификатор обзора;\n",
    "- `book_id` — идентификатор книги;\n",
    "- `username` — имя пользователя, написавшего обзор;\n",
    "- `text` — текст обзора."
   ]
  },
  {
   "cell_type": "markdown",
   "metadata": {},
   "source": [
    "## Выполним задачи"
   ]
  },
  {
   "cell_type": "markdown",
   "metadata": {},
   "source": [
    "### Посчитаем, сколько книг вышло после 1 января 2000 года  "
   ]
  },
  {
   "cell_type": "code",
   "execution_count": 13,
   "metadata": {},
   "outputs": [
    {
     "data": {
      "text/html": [
       "<div>\n",
       "<style scoped>\n",
       "    .dataframe tbody tr th:only-of-type {\n",
       "        vertical-align: middle;\n",
       "    }\n",
       "\n",
       "    .dataframe tbody tr th {\n",
       "        vertical-align: top;\n",
       "    }\n",
       "\n",
       "    .dataframe thead th {\n",
       "        text-align: right;\n",
       "    }\n",
       "</style>\n",
       "<table border=\"1\" class=\"dataframe\">\n",
       "  <thead>\n",
       "    <tr style=\"text-align: right;\">\n",
       "      <th></th>\n",
       "      <th>number_of_books</th>\n",
       "    </tr>\n",
       "  </thead>\n",
       "  <tbody>\n",
       "    <tr>\n",
       "      <td>0</td>\n",
       "      <td>819</td>\n",
       "    </tr>\n",
       "  </tbody>\n",
       "</table>\n",
       "</div>"
      ],
      "text/plain": [
       "   number_of_books\n",
       "0              819"
      ]
     },
     "execution_count": 13,
     "metadata": {},
     "output_type": "execute_result"
    }
   ],
   "source": [
    "query = ''' SELECT COUNT(DISTINCT book_id) AS number_of_books\n",
    "                FROM books\n",
    "                WHERE publication_date > '2000-01-01' '''   \n",
    "\n",
    "pd.io.sql.read_sql(query, con = engine)"
   ]
  },
  {
   "cell_type": "markdown",
   "metadata": {},
   "source": [
    "Большая часть книг в базе, 81.9%, вышло после 1 января 2000 года.  "
   ]
  },
  {
   "cell_type": "markdown",
   "metadata": {},
   "source": [
    "### Для каждой книги посчитаем количество обзоров и среднюю оценку "
   ]
  },
  {
   "cell_type": "code",
   "execution_count": 14,
   "metadata": {},
   "outputs": [
    {
     "data": {
      "text/html": [
       "<div>\n",
       "<style scoped>\n",
       "    .dataframe tbody tr th:only-of-type {\n",
       "        vertical-align: middle;\n",
       "    }\n",
       "\n",
       "    .dataframe tbody tr th {\n",
       "        vertical-align: top;\n",
       "    }\n",
       "\n",
       "    .dataframe thead th {\n",
       "        text-align: right;\n",
       "    }\n",
       "</style>\n",
       "<table border=\"1\" class=\"dataframe\">\n",
       "  <thead>\n",
       "    <tr style=\"text-align: right;\">\n",
       "      <th></th>\n",
       "      <th>name</th>\n",
       "      <th>number_reviews</th>\n",
       "      <th>average_rating</th>\n",
       "    </tr>\n",
       "  </thead>\n",
       "  <tbody>\n",
       "    <tr>\n",
       "      <td>0</td>\n",
       "      <td>'Salem's Lot</td>\n",
       "      <td>2</td>\n",
       "      <td>3.666667</td>\n",
       "    </tr>\n",
       "    <tr>\n",
       "      <td>1</td>\n",
       "      <td>1 000 Places to See Before You Die</td>\n",
       "      <td>1</td>\n",
       "      <td>2.500000</td>\n",
       "    </tr>\n",
       "    <tr>\n",
       "      <td>2</td>\n",
       "      <td>13 Little Blue Envelopes (Little Blue Envelope...</td>\n",
       "      <td>3</td>\n",
       "      <td>4.666667</td>\n",
       "    </tr>\n",
       "    <tr>\n",
       "      <td>3</td>\n",
       "      <td>1491: New Revelations of the Americas Before C...</td>\n",
       "      <td>2</td>\n",
       "      <td>4.500000</td>\n",
       "    </tr>\n",
       "    <tr>\n",
       "      <td>4</td>\n",
       "      <td>1776</td>\n",
       "      <td>4</td>\n",
       "      <td>4.000000</td>\n",
       "    </tr>\n",
       "    <tr>\n",
       "      <td>5</td>\n",
       "      <td>1st to Die (Women's Murder Club  #1)</td>\n",
       "      <td>4</td>\n",
       "      <td>3.500000</td>\n",
       "    </tr>\n",
       "    <tr>\n",
       "      <td>6</td>\n",
       "      <td>2nd Chance (Women's Murder Club  #2)</td>\n",
       "      <td>3</td>\n",
       "      <td>3.000000</td>\n",
       "    </tr>\n",
       "    <tr>\n",
       "      <td>7</td>\n",
       "      <td>4th of July (Women's Murder Club  #4)</td>\n",
       "      <td>3</td>\n",
       "      <td>4.000000</td>\n",
       "    </tr>\n",
       "    <tr>\n",
       "      <td>8</td>\n",
       "      <td>A Beautiful Mind</td>\n",
       "      <td>2</td>\n",
       "      <td>4.250000</td>\n",
       "    </tr>\n",
       "    <tr>\n",
       "      <td>9</td>\n",
       "      <td>A Bend in the Road</td>\n",
       "      <td>3</td>\n",
       "      <td>3.200000</td>\n",
       "    </tr>\n",
       "  </tbody>\n",
       "</table>\n",
       "</div>"
      ],
      "text/plain": [
       "                                                name  number_reviews  \\\n",
       "0                                       'Salem's Lot               2   \n",
       "1                 1 000 Places to See Before You Die               1   \n",
       "2  13 Little Blue Envelopes (Little Blue Envelope...               3   \n",
       "3  1491: New Revelations of the Americas Before C...               2   \n",
       "4                                               1776               4   \n",
       "5               1st to Die (Women's Murder Club  #1)               4   \n",
       "6               2nd Chance (Women's Murder Club  #2)               3   \n",
       "7              4th of July (Women's Murder Club  #4)               3   \n",
       "8                                   A Beautiful Mind               2   \n",
       "9                                 A Bend in the Road               3   \n",
       "\n",
       "   average_rating  \n",
       "0        3.666667  \n",
       "1        2.500000  \n",
       "2        4.666667  \n",
       "3        4.500000  \n",
       "4        4.000000  \n",
       "5        3.500000  \n",
       "6        3.000000  \n",
       "7        4.000000  \n",
       "8        4.250000  \n",
       "9        3.200000  "
      ]
     },
     "execution_count": 14,
     "metadata": {},
     "output_type": "execute_result"
    }
   ],
   "source": [
    "query ='''\n",
    "SELECT\n",
    "    books.title AS name,\n",
    "    COUNT(DISTINCT reviews.review_id) AS number_reviews,\n",
    "    AVG(ratings.rating) AS average_rating\n",
    "FROM\n",
    "    books\n",
    "    INNER JOIN reviews ON reviews.book_id = books.book_id\n",
    "    INNER JOIN ratings ON ratings.book_id = books.book_id\n",
    "GROUP BY\n",
    "    books.title\n",
    "LIMIT 10 '''\n",
    "\n",
    "pd.io.sql.read_sql(query, con = engine)"
   ]
  },
  {
   "cell_type": "markdown",
   "metadata": {},
   "source": [
    "У книг с количеством обзоров менее 10 обзоры и средний рейтинг можно считать довольно предвзятыми.  "
   ]
  },
  {
   "cell_type": "markdown",
   "metadata": {},
   "source": [
    "### Определим издательство, которое выпустило наибольшее число книг толще 50 страниц, таким образим исключим из анализа брошюры  "
   ]
  },
  {
   "cell_type": "code",
   "execution_count": 15,
   "metadata": {},
   "outputs": [
    {
     "data": {
      "text/html": [
       "<div>\n",
       "<style scoped>\n",
       "    .dataframe tbody tr th:only-of-type {\n",
       "        vertical-align: middle;\n",
       "    }\n",
       "\n",
       "    .dataframe tbody tr th {\n",
       "        vertical-align: top;\n",
       "    }\n",
       "\n",
       "    .dataframe thead th {\n",
       "        text-align: right;\n",
       "    }\n",
       "</style>\n",
       "<table border=\"1\" class=\"dataframe\">\n",
       "  <thead>\n",
       "    <tr style=\"text-align: right;\">\n",
       "      <th></th>\n",
       "      <th>publishing_house</th>\n",
       "      <th>counts</th>\n",
       "    </tr>\n",
       "  </thead>\n",
       "  <tbody>\n",
       "    <tr>\n",
       "      <td>0</td>\n",
       "      <td>Penguin Books</td>\n",
       "      <td>42</td>\n",
       "    </tr>\n",
       "    <tr>\n",
       "      <td>1</td>\n",
       "      <td>Vintage</td>\n",
       "      <td>31</td>\n",
       "    </tr>\n",
       "    <tr>\n",
       "      <td>2</td>\n",
       "      <td>Grand Central Publishing</td>\n",
       "      <td>25</td>\n",
       "    </tr>\n",
       "    <tr>\n",
       "      <td>3</td>\n",
       "      <td>Penguin Classics</td>\n",
       "      <td>24</td>\n",
       "    </tr>\n",
       "    <tr>\n",
       "      <td>4</td>\n",
       "      <td>Bantam</td>\n",
       "      <td>19</td>\n",
       "    </tr>\n",
       "  </tbody>\n",
       "</table>\n",
       "</div>"
      ],
      "text/plain": [
       "           publishing_house  counts\n",
       "0             Penguin Books      42\n",
       "1                   Vintage      31\n",
       "2  Grand Central Publishing      25\n",
       "3          Penguin Classics      24\n",
       "4                    Bantam      19"
      ]
     },
     "execution_count": 15,
     "metadata": {},
     "output_type": "execute_result"
    }
   ],
   "source": [
    "query ='''\n",
    "SELECT\n",
    "    publishers.publisher AS publishing_house,\n",
    "    COUNT(books.num_pages > 50) AS counts\n",
    "FROM\n",
    "    books\n",
    "    INNER JOIN publishers ON publishers.publisher_id = books.publisher_id\n",
    "\n",
    "GROUP BY\n",
    "    publishers.publisher\n",
    "ORDER BY\n",
    "    counts DESC\n",
    "\n",
    "LIMIT 5 '''\n",
    "\n",
    "pd.io.sql.read_sql(query, con = engine)"
   ]
  },
  {
   "cell_type": "markdown",
   "metadata": {},
   "source": [
    "Penguin Books - издательство, которое выпустило наибольшее число книг толще 50 страниц.  "
   ]
  },
  {
   "cell_type": "markdown",
   "metadata": {},
   "source": [
    "### Определим автора с самой высокой средней оценкой книг учитывая только книги с 50 и более оценками"
   ]
  },
  {
   "cell_type": "code",
   "execution_count": 16,
   "metadata": {
    "scrolled": true
   },
   "outputs": [
    {
     "data": {
      "text/html": [
       "<div>\n",
       "<style scoped>\n",
       "    .dataframe tbody tr th:only-of-type {\n",
       "        vertical-align: middle;\n",
       "    }\n",
       "\n",
       "    .dataframe tbody tr th {\n",
       "        vertical-align: top;\n",
       "    }\n",
       "\n",
       "    .dataframe thead th {\n",
       "        text-align: right;\n",
       "    }\n",
       "</style>\n",
       "<table border=\"1\" class=\"dataframe\">\n",
       "  <thead>\n",
       "    <tr style=\"text-align: right;\">\n",
       "      <th></th>\n",
       "      <th>author</th>\n",
       "      <th>author_id</th>\n",
       "      <th>avg_rating</th>\n",
       "    </tr>\n",
       "  </thead>\n",
       "  <tbody>\n",
       "    <tr>\n",
       "      <td>0</td>\n",
       "      <td>J.K. Rowling/Mary GrandPré</td>\n",
       "      <td>236</td>\n",
       "      <td>4.293466</td>\n",
       "    </tr>\n",
       "    <tr>\n",
       "      <td>1</td>\n",
       "      <td>Markus Zusak/Cao Xuân Việt Khương</td>\n",
       "      <td>402</td>\n",
       "      <td>4.264151</td>\n",
       "    </tr>\n",
       "    <tr>\n",
       "      <td>2</td>\n",
       "      <td>J.R.R. Tolkien</td>\n",
       "      <td>240</td>\n",
       "      <td>4.232892</td>\n",
       "    </tr>\n",
       "    <tr>\n",
       "      <td>3</td>\n",
       "      <td>Louisa May Alcott</td>\n",
       "      <td>376</td>\n",
       "      <td>4.196970</td>\n",
       "    </tr>\n",
       "    <tr>\n",
       "      <td>4</td>\n",
       "      <td>Rick Riordan</td>\n",
       "      <td>498</td>\n",
       "      <td>4.124481</td>\n",
       "    </tr>\n",
       "  </tbody>\n",
       "</table>\n",
       "</div>"
      ],
      "text/plain": [
       "                              author  author_id  avg_rating\n",
       "0         J.K. Rowling/Mary GrandPré        236    4.293466\n",
       "1  Markus Zusak/Cao Xuân Việt Khương        402    4.264151\n",
       "2                     J.R.R. Tolkien        240    4.232892\n",
       "3                  Louisa May Alcott        376    4.196970\n",
       "4                       Rick Riordan        498    4.124481"
      ]
     },
     "execution_count": 16,
     "metadata": {},
     "output_type": "execute_result"
    }
   ],
   "source": [
    "query = '''\n",
    "select \n",
    "       authors.author,\n",
    "       authors.author_id,\n",
    "       avg(ratings.rating) as avg_rating\n",
    "       \n",
    "FROM\n",
    "    books\n",
    "    INNER JOIN reviews ON reviews.book_id = books.book_id\n",
    "    INNER JOIN ratings ON ratings.book_id = books.book_id\n",
    "    INNER JOIN authors ON authors.author_id = books.author_id\n",
    "\n",
    "where authors.author_id in (select \n",
    "       books.author_id\n",
    "       \n",
    "from books\n",
    "\n",
    "where books.book_id in (select \n",
    "            ratings.book_id \n",
    "            \n",
    "    from ratings\n",
    "    group by ratings.book_id\n",
    "    having count(ratings.rating_id) > 50\n",
    "    ))\n",
    "group by authors.author, authors.author_id     \n",
    "order by avg_rating DESC \n",
    "LIMIT 5 '''\n",
    "\n",
    "pd.io.sql.read_sql(query, con = engine)"
   ]
  },
  {
   "cell_type": "markdown",
   "metadata": {},
   "source": [
    "Автор с самой высокой средней оценкой книг при учете только книг с 50 и более оценками - J.K. Rowling и Mary GrandPré.  \n",
    "Средний рейтинг 4.29  "
   ]
  },
  {
   "cell_type": "markdown",
   "metadata": {},
   "source": [
    "### Посчитаем среднее количество обзоров от пользователей, которые поставили больше 50 оценок "
   ]
  },
  {
   "cell_type": "code",
   "execution_count": 17,
   "metadata": {},
   "outputs": [
    {
     "data": {
      "text/html": [
       "<div>\n",
       "<style scoped>\n",
       "    .dataframe tbody tr th:only-of-type {\n",
       "        vertical-align: middle;\n",
       "    }\n",
       "\n",
       "    .dataframe tbody tr th {\n",
       "        vertical-align: top;\n",
       "    }\n",
       "\n",
       "    .dataframe thead th {\n",
       "        text-align: right;\n",
       "    }\n",
       "</style>\n",
       "<table border=\"1\" class=\"dataframe\">\n",
       "  <thead>\n",
       "    <tr style=\"text-align: right;\">\n",
       "      <th></th>\n",
       "      <th>count</th>\n",
       "    </tr>\n",
       "  </thead>\n",
       "  <tbody>\n",
       "    <tr>\n",
       "      <td>0</td>\n",
       "      <td>24.333333</td>\n",
       "    </tr>\n",
       "  </tbody>\n",
       "</table>\n",
       "</div>"
      ],
      "text/plain": [
       "       count\n",
       "0  24.333333"
      ]
     },
     "execution_count": 17,
     "metadata": {},
     "output_type": "execute_result"
    }
   ],
   "source": [
    "query = '''\n",
    "SELECT\n",
    "     SUM(Sub.count_reviews)/COUNT(Sub.count_reviews) AS count\n",
    "\n",
    "FROM(    \n",
    "    select reviews.username, \n",
    "    count(reviews.username) as count_reviews\n",
    "    from reviews\n",
    "    where reviews.username in (\n",
    "                                select ratings.username\n",
    "                                from ratings\n",
    "                                group by ratings.username\n",
    "                                having count(ratings.rating_id) > 50\n",
    "    \n",
    "                                )\n",
    "    group by username) as Sub '''\n",
    "\n",
    "pd.io.sql.read_sql(query, con = engine)"
   ]
  },
  {
   "cell_type": "markdown",
   "metadata": {},
   "source": [
    "Среднее количество обзоров от пользователей, которые поставили больше 50 оценок - 24.33"
   ]
  },
  {
   "cell_type": "markdown",
   "metadata": {},
   "source": [
    "## Сделаем выводы"
   ]
  },
  {
   "cell_type": "markdown",
   "metadata": {},
   "source": [
    "Большая часть книг в базе, 81.9%, вышло после 1 января 2000 года.  \n",
    "У книг с количеством обзоров менее 10 обзоры и средний рейтинг можно считать довольно предвзятыми.    \n",
    "Penguin Books - издательство, которое выпустило наибольшее число книг толще 50 страниц.  \n",
    "Автор с самой высокой средней оценкой книг при учете только книг с 50 и более оценками - J.K. Rowling и Mary GrandPré.  \n",
    "Среднее количество обзоров от пользователей, которые поставили больше 50 оценок - 24.33\n"
   ]
  }
 ],
 "metadata": {
  "ExecuteTimeLog": [
   {
    "duration": 157,
    "start_time": "2021-08-22T15:20:22.072Z"
   },
   {
    "duration": 527,
    "start_time": "2021-08-22T15:20:23.474Z"
   },
   {
    "duration": 175,
    "start_time": "2021-08-22T15:27:58.953Z"
   },
   {
    "duration": 465,
    "start_time": "2021-08-22T15:27:59.919Z"
   },
   {
    "duration": 140,
    "start_time": "2021-08-22T15:32:05.979Z"
   },
   {
    "duration": 397,
    "start_time": "2021-08-22T15:32:07.024Z"
   },
   {
    "duration": 380,
    "start_time": "2021-08-22T15:37:39.085Z"
   },
   {
    "duration": 3,
    "start_time": "2021-08-22T15:38:20.422Z"
   },
   {
    "duration": 394,
    "start_time": "2021-08-22T15:38:22.263Z"
   },
   {
    "duration": 141,
    "start_time": "2021-08-22T15:41:18.358Z"
   },
   {
    "duration": 131,
    "start_time": "2021-08-22T15:41:52.208Z"
   },
   {
    "duration": 129,
    "start_time": "2021-08-22T15:42:09.739Z"
   },
   {
    "duration": 914,
    "start_time": "2021-08-22T15:42:27.791Z"
   },
   {
    "duration": 4,
    "start_time": "2021-08-22T15:42:29.033Z"
   },
   {
    "duration": 62,
    "start_time": "2021-08-22T15:42:29.814Z"
   },
   {
    "duration": 43,
    "start_time": "2021-08-22T17:40:27.070Z"
   },
   {
    "duration": 21,
    "start_time": "2021-08-22T17:43:03.925Z"
   },
   {
    "duration": 19,
    "start_time": "2021-08-22T17:47:17.471Z"
   },
   {
    "duration": 41,
    "start_time": "2021-08-22T17:47:18.279Z"
   },
   {
    "duration": 34,
    "start_time": "2021-08-22T17:47:19.032Z"
   },
   {
    "duration": 130,
    "start_time": "2021-08-22T17:54:19.138Z"
   },
   {
    "duration": 14,
    "start_time": "2021-08-22T18:01:32.228Z"
   },
   {
    "duration": 49,
    "start_time": "2021-08-22T18:06:16.352Z"
   },
   {
    "duration": 28,
    "start_time": "2021-08-22T18:06:32.210Z"
   },
   {
    "duration": 46,
    "start_time": "2021-08-22T18:08:44.274Z"
   },
   {
    "duration": 29,
    "start_time": "2021-08-22T18:08:58.480Z"
   },
   {
    "duration": 20,
    "start_time": "2021-08-22T18:13:51.946Z"
   },
   {
    "duration": 20,
    "start_time": "2021-08-22T18:14:18.783Z"
   },
   {
    "duration": 26,
    "start_time": "2021-08-22T18:27:44.022Z"
   },
   {
    "duration": 213,
    "start_time": "2021-08-22T18:27:49.246Z"
   },
   {
    "duration": 24,
    "start_time": "2021-08-22T18:28:03.070Z"
   },
   {
    "duration": 29,
    "start_time": "2021-08-22T18:28:08.438Z"
   },
   {
    "duration": 138,
    "start_time": "2021-08-22T19:50:15.553Z"
   },
   {
    "duration": 17,
    "start_time": "2021-08-22T19:51:42.165Z"
   },
   {
    "duration": 975,
    "start_time": "2021-08-22T19:54:57.163Z"
   },
   {
    "duration": 65,
    "start_time": "2021-08-22T19:54:58.141Z"
   },
   {
    "duration": 22,
    "start_time": "2021-08-22T19:54:58.473Z"
   },
   {
    "duration": 19,
    "start_time": "2021-08-22T19:54:59.369Z"
   },
   {
    "duration": 40,
    "start_time": "2021-08-22T19:55:00.033Z"
   },
   {
    "duration": 30,
    "start_time": "2021-08-22T19:55:00.600Z"
   },
   {
    "duration": 14,
    "start_time": "2021-08-22T19:55:02.722Z"
   },
   {
    "duration": 37,
    "start_time": "2021-08-22T19:55:04.257Z"
   },
   {
    "duration": 20,
    "start_time": "2021-08-22T19:55:05.823Z"
   },
   {
    "duration": 26,
    "start_time": "2021-08-22T19:55:07.448Z"
   },
   {
    "duration": 21,
    "start_time": "2021-08-22T19:55:09.024Z"
   },
   {
    "duration": 576,
    "start_time": "2021-08-23T08:03:47.928Z"
   },
   {
    "duration": 281,
    "start_time": "2021-08-23T08:03:48.506Z"
   },
   {
    "duration": 72,
    "start_time": "2021-08-23T08:03:48.788Z"
   },
   {
    "duration": 71,
    "start_time": "2021-08-23T08:03:48.861Z"
   },
   {
    "duration": 103,
    "start_time": "2021-08-23T08:03:48.934Z"
   },
   {
    "duration": 87,
    "start_time": "2021-08-23T08:03:49.038Z"
   },
   {
    "duration": 69,
    "start_time": "2021-08-23T08:03:49.127Z"
   },
   {
    "duration": 82,
    "start_time": "2021-08-23T08:03:49.198Z"
   },
   {
    "duration": 69,
    "start_time": "2021-08-23T08:03:49.282Z"
   },
   {
    "duration": 81,
    "start_time": "2021-08-23T08:03:49.353Z"
   },
   {
    "duration": 73,
    "start_time": "2021-08-23T08:03:49.435Z"
   },
   {
    "duration": 824,
    "start_time": "2021-10-07T19:09:04.206Z"
   },
   {
    "duration": 149,
    "start_time": "2021-10-07T19:09:05.231Z"
   },
   {
    "duration": 94,
    "start_time": "2021-10-07T19:09:24.605Z"
   },
   {
    "duration": 95,
    "start_time": "2021-10-07T19:09:30.861Z"
   },
   {
    "duration": 251,
    "start_time": "2021-10-07T19:09:35.525Z"
   },
   {
    "duration": 62,
    "start_time": "2021-10-07T19:10:26.452Z"
   },
   {
    "duration": 65,
    "start_time": "2021-10-07T19:10:40.413Z"
   },
   {
    "duration": 59,
    "start_time": "2021-10-07T19:10:53.723Z"
   },
   {
    "duration": 61,
    "start_time": "2021-10-07T19:11:02.724Z"
   },
   {
    "duration": 62,
    "start_time": "2021-10-07T19:11:08.148Z"
   },
   {
    "duration": 63,
    "start_time": "2021-10-07T19:11:11.981Z"
   },
   {
    "duration": 68,
    "start_time": "2021-10-07T19:11:38.415Z"
   },
   {
    "duration": 60,
    "start_time": "2021-10-07T19:11:44.851Z"
   },
   {
    "duration": 74,
    "start_time": "2021-10-07T19:12:09.160Z"
   },
   {
    "duration": 61,
    "start_time": "2021-10-07T19:12:20.299Z"
   },
   {
    "duration": 68,
    "start_time": "2021-10-07T19:12:50.142Z"
   },
   {
    "duration": 62,
    "start_time": "2021-10-07T19:13:02.215Z"
   }
  ],
  "kernelspec": {
   "display_name": "Python 3",
   "language": "python",
   "name": "python3"
  },
  "language_info": {
   "codemirror_mode": {
    "name": "ipython",
    "version": 3
   },
   "file_extension": ".py",
   "mimetype": "text/x-python",
   "name": "python",
   "nbconvert_exporter": "python",
   "pygments_lexer": "ipython3",
   "version": "3.7.8"
  },
  "toc": {
   "base_numbering": 1,
   "nav_menu": {},
   "number_sections": true,
   "sideBar": true,
   "skip_h1_title": true,
   "title_cell": "Table of Contents",
   "title_sidebar": "Contents",
   "toc_cell": false,
   "toc_position": {},
   "toc_section_display": true,
   "toc_window_display": false
  }
 },
 "nbformat": 4,
 "nbformat_minor": 2
}
