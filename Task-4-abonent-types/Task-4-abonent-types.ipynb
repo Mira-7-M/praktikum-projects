{
 "cells": [
  {
   "cell_type": "markdown",
   "metadata": {},
   "source": [
    "# Задание 4\n",
    "\n",
    "**Дана выборка абонентов и показателей по ним (ежемесячные начисления, трафик, тип устройства).**  \n",
    "  \n",
    "**Необходимо подготовить выборку к анализу (выделить или исключить нехарактерные значения) и сделать сегментацию, выделив 3-5 характерных сегментов на основе профиля абонента. Обосновать выбор критериев и сделать выводы.** "
   ]
  },
  {
   "cell_type": "code",
   "execution_count": 1,
   "metadata": {},
   "outputs": [],
   "source": [
    "import pandas as pd\n",
    "import seaborn as sns\n",
    "import numpy as np\n",
    "import matplotlib.pyplot as plt\n",
    "import plotly.express as px\n",
    "import plotly.graph_objects as go\n",
    "from sklearn.preprocessing import StandardScaler\n",
    "from sklearn.tree import DecisionTreeClassifier\n",
    "from sklearn.linear_model import LogisticRegression\n",
    "from sklearn.model_selection import train_test_split\n",
    "from sklearn.ensemble import RandomForestClassifier\n",
    "from sklearn.metrics import accuracy_score, precision_score, recall_score, f1_score\n",
    "from sklearn.metrics import roc_auc_score\n",
    "from scipy.cluster.hierarchy import dendrogram, linkage\n",
    "from sklearn.cluster import KMeans"
   ]
  },
  {
   "cell_type": "code",
   "execution_count": 2,
   "metadata": {},
   "outputs": [
    {
     "data": {
      "text/html": [
       "<div>\n",
       "<style scoped>\n",
       "    .dataframe tbody tr th:only-of-type {\n",
       "        vertical-align: middle;\n",
       "    }\n",
       "\n",
       "    .dataframe tbody tr th {\n",
       "        vertical-align: top;\n",
       "    }\n",
       "\n",
       "    .dataframe thead th {\n",
       "        text-align: right;\n",
       "    }\n",
       "</style>\n",
       "<table border=\"1\" class=\"dataframe\">\n",
       "  <thead>\n",
       "    <tr style=\"text-align: right;\">\n",
       "      <th></th>\n",
       "      <th>subscriber_id</th>\n",
       "      <th>device_category</th>\n",
       "      <th>month_sum_charge_rub</th>\n",
       "      <th>voice_traffic_rub</th>\n",
       "      <th>data_traffic_mb</th>\n",
       "      <th>roaming_traffic_min</th>\n",
       "    </tr>\n",
       "  </thead>\n",
       "  <tbody>\n",
       "    <tr>\n",
       "      <td>0</td>\n",
       "      <td>4277642</td>\n",
       "      <td>SMARTPHONE</td>\n",
       "      <td>11961.99</td>\n",
       "      <td>1004</td>\n",
       "      <td>13976</td>\n",
       "      <td>2</td>\n",
       "    </tr>\n",
       "    <tr>\n",
       "      <td>1</td>\n",
       "      <td>4277933</td>\n",
       "      <td>SMARTPHONE</td>\n",
       "      <td>13864.58</td>\n",
       "      <td>1159</td>\n",
       "      <td>3620</td>\n",
       "      <td>23</td>\n",
       "    </tr>\n",
       "    <tr>\n",
       "      <td>2</td>\n",
       "      <td>4278138</td>\n",
       "      <td>SMARTPHONE</td>\n",
       "      <td>3905.09</td>\n",
       "      <td>6301</td>\n",
       "      <td>2298</td>\n",
       "      <td>0</td>\n",
       "    </tr>\n",
       "    <tr>\n",
       "      <td>3</td>\n",
       "      <td>4281994</td>\n",
       "      <td>SMARTPHONE</td>\n",
       "      <td>12475.65</td>\n",
       "      <td>1846</td>\n",
       "      <td>6296</td>\n",
       "      <td>70</td>\n",
       "    </tr>\n",
       "    <tr>\n",
       "      <td>4</td>\n",
       "      <td>4282050</td>\n",
       "      <td>SMARTPHONE</td>\n",
       "      <td>9519.5</td>\n",
       "      <td>6566</td>\n",
       "      <td>2577</td>\n",
       "      <td>2</td>\n",
       "    </tr>\n",
       "  </tbody>\n",
       "</table>\n",
       "</div>"
      ],
      "text/plain": [
       "   subscriber_id device_category month_sum_charge_rub  voice_traffic_rub  \\\n",
       "0        4277642      SMARTPHONE             11961.99               1004   \n",
       "1        4277933      SMARTPHONE             13864.58               1159   \n",
       "2        4278138      SMARTPHONE              3905.09               6301   \n",
       "3        4281994      SMARTPHONE             12475.65               1846   \n",
       "4        4282050      SMARTPHONE               9519.5               6566   \n",
       "\n",
       "   data_traffic_mb  roaming_traffic_min  \n",
       "0            13976                    2  \n",
       "1             3620                   23  \n",
       "2             2298                    0  \n",
       "3             6296                   70  \n",
       "4             2577                    2  "
      ]
     },
     "metadata": {},
     "output_type": "display_data"
    },
    {
     "data": {
      "text/html": [
       "<div>\n",
       "<style scoped>\n",
       "    .dataframe tbody tr th:only-of-type {\n",
       "        vertical-align: middle;\n",
       "    }\n",
       "\n",
       "    .dataframe tbody tr th {\n",
       "        vertical-align: top;\n",
       "    }\n",
       "\n",
       "    .dataframe thead th {\n",
       "        text-align: right;\n",
       "    }\n",
       "</style>\n",
       "<table border=\"1\" class=\"dataframe\">\n",
       "  <thead>\n",
       "    <tr style=\"text-align: right;\">\n",
       "      <th></th>\n",
       "      <th>subscriber_id</th>\n",
       "      <th>device_category</th>\n",
       "      <th>month_sum_charge_rub</th>\n",
       "      <th>voice_traffic_rub</th>\n",
       "      <th>data_traffic_mb</th>\n",
       "      <th>roaming_traffic_min</th>\n",
       "    </tr>\n",
       "  </thead>\n",
       "  <tbody>\n",
       "    <tr>\n",
       "      <td>14631</td>\n",
       "      <td>495162131</td>\n",
       "      <td>DATA CARD</td>\n",
       "      <td>44593</td>\n",
       "      <td>0</td>\n",
       "      <td>0</td>\n",
       "      <td>0</td>\n",
       "    </tr>\n",
       "    <tr>\n",
       "      <td>14632</td>\n",
       "      <td>495164487</td>\n",
       "      <td>DATA CARD</td>\n",
       "      <td>44593</td>\n",
       "      <td>0</td>\n",
       "      <td>0</td>\n",
       "      <td>0</td>\n",
       "    </tr>\n",
       "    <tr>\n",
       "      <td>14633</td>\n",
       "      <td>495454612</td>\n",
       "      <td>DATA CARD</td>\n",
       "      <td>14.43</td>\n",
       "      <td>0</td>\n",
       "      <td>1</td>\n",
       "      <td>0</td>\n",
       "    </tr>\n",
       "    <tr>\n",
       "      <td>14634</td>\n",
       "      <td>498468449</td>\n",
       "      <td>DATA CARD</td>\n",
       "      <td>-</td>\n",
       "      <td>0</td>\n",
       "      <td>0</td>\n",
       "      <td>0</td>\n",
       "    </tr>\n",
       "    <tr>\n",
       "      <td>14635</td>\n",
       "      <td>498469004</td>\n",
       "      <td>DATA CARD</td>\n",
       "      <td>-</td>\n",
       "      <td>0</td>\n",
       "      <td>0</td>\n",
       "      <td>0</td>\n",
       "    </tr>\n",
       "  </tbody>\n",
       "</table>\n",
       "</div>"
      ],
      "text/plain": [
       "       subscriber_id device_category month_sum_charge_rub  voice_traffic_rub  \\\n",
       "14631      495162131       DATA CARD                44593                  0   \n",
       "14632      495164487       DATA CARD                44593                  0   \n",
       "14633      495454612       DATA CARD                14.43                  0   \n",
       "14634      498468449       DATA CARD               -                       0   \n",
       "14635      498469004       DATA CARD               -                       0   \n",
       "\n",
       "       data_traffic_mb  roaming_traffic_min  \n",
       "14631                0                    0  \n",
       "14632                0                    0  \n",
       "14633                1                    0  \n",
       "14634                0                    0  \n",
       "14635                0                    0  "
      ]
     },
     "metadata": {},
     "output_type": "display_data"
    }
   ],
   "source": [
    "df = pd.read_csv('test_4.csv',delimiter=';',encoding='cp1251')\n",
    "display(df.head())\n",
    "display(df.tail())"
   ]
  },
  {
   "cell_type": "markdown",
   "metadata": {},
   "source": [
    "В данных есть прочерки, их необходимо удалить.  "
   ]
  },
  {
   "cell_type": "markdown",
   "metadata": {},
   "source": [
    "Проведем исследовательский анализ данных (EDA).  \n",
    "Изучим датасет: есть ли в нем отсутствующие признаки, дубликаты, отклонения, которые необходимо удалить, какие есть типы данных и заменим их при необходимости.  "
   ]
  },
  {
   "cell_type": "code",
   "execution_count": 3,
   "metadata": {},
   "outputs": [
    {
     "name": "stdout",
     "output_type": "stream",
     "text": [
      "<class 'pandas.core.frame.DataFrame'>\n",
      "RangeIndex: 14636 entries, 0 to 14635\n",
      "Data columns (total 6 columns):\n",
      "subscriber_id           14636 non-null int64\n",
      "device_category         14589 non-null object\n",
      "month_sum_charge_rub    14636 non-null object\n",
      "voice_traffic_rub       14636 non-null int64\n",
      "data_traffic_mb         14636 non-null int64\n",
      "roaming_traffic_min     14636 non-null int64\n",
      "dtypes: int64(4), object(2)\n",
      "memory usage: 686.2+ KB\n"
     ]
    }
   ],
   "source": [
    "df.info()"
   ]
  },
  {
   "cell_type": "code",
   "execution_count": 4,
   "metadata": {},
   "outputs": [
    {
     "data": {
      "text/html": [
       "<div>\n",
       "<style scoped>\n",
       "    .dataframe tbody tr th:only-of-type {\n",
       "        vertical-align: middle;\n",
       "    }\n",
       "\n",
       "    .dataframe tbody tr th {\n",
       "        vertical-align: top;\n",
       "    }\n",
       "\n",
       "    .dataframe thead th {\n",
       "        text-align: right;\n",
       "    }\n",
       "</style>\n",
       "<table border=\"1\" class=\"dataframe\">\n",
       "  <thead>\n",
       "    <tr style=\"text-align: right;\">\n",
       "      <th></th>\n",
       "      <th>subscriber_id</th>\n",
       "      <th>voice_traffic_rub</th>\n",
       "      <th>data_traffic_mb</th>\n",
       "      <th>roaming_traffic_min</th>\n",
       "    </tr>\n",
       "  </thead>\n",
       "  <tbody>\n",
       "    <tr>\n",
       "      <td>count</td>\n",
       "      <td>1.463600e+04</td>\n",
       "      <td>1.463600e+04</td>\n",
       "      <td>1.463600e+04</td>\n",
       "      <td>14636.000000</td>\n",
       "    </tr>\n",
       "    <tr>\n",
       "      <td>mean</td>\n",
       "      <td>2.633416e+08</td>\n",
       "      <td>2.241517e+03</td>\n",
       "      <td>2.353134e+04</td>\n",
       "      <td>93.169650</td>\n",
       "    </tr>\n",
       "    <tr>\n",
       "      <td>std</td>\n",
       "      <td>1.495653e+08</td>\n",
       "      <td>9.767642e+04</td>\n",
       "      <td>4.820615e+04</td>\n",
       "      <td>308.743696</td>\n",
       "    </tr>\n",
       "    <tr>\n",
       "      <td>min</td>\n",
       "      <td>4.277642e+06</td>\n",
       "      <td>-5.410000e+02</td>\n",
       "      <td>-5.193700e+04</td>\n",
       "      <td>-1.000000</td>\n",
       "    </tr>\n",
       "    <tr>\n",
       "      <td>25%</td>\n",
       "      <td>1.426874e+08</td>\n",
       "      <td>4.000000e+00</td>\n",
       "      <td>4.737500e+02</td>\n",
       "      <td>0.000000</td>\n",
       "    </tr>\n",
       "    <tr>\n",
       "      <td>50%</td>\n",
       "      <td>1.513190e+08</td>\n",
       "      <td>5.800000e+01</td>\n",
       "      <td>3.052500e+03</td>\n",
       "      <td>0.000000</td>\n",
       "    </tr>\n",
       "    <tr>\n",
       "      <td>75%</td>\n",
       "      <td>4.148627e+08</td>\n",
       "      <td>9.800000e+02</td>\n",
       "      <td>4.371575e+04</td>\n",
       "      <td>0.000000</td>\n",
       "    </tr>\n",
       "    <tr>\n",
       "      <td>max</td>\n",
       "      <td>4.984690e+08</td>\n",
       "      <td>8.335668e+06</td>\n",
       "      <td>1.772188e+06</td>\n",
       "      <td>6783.000000</td>\n",
       "    </tr>\n",
       "  </tbody>\n",
       "</table>\n",
       "</div>"
      ],
      "text/plain": [
       "       subscriber_id  voice_traffic_rub  data_traffic_mb  roaming_traffic_min\n",
       "count   1.463600e+04       1.463600e+04     1.463600e+04         14636.000000\n",
       "mean    2.633416e+08       2.241517e+03     2.353134e+04            93.169650\n",
       "std     1.495653e+08       9.767642e+04     4.820615e+04           308.743696\n",
       "min     4.277642e+06      -5.410000e+02    -5.193700e+04            -1.000000\n",
       "25%     1.426874e+08       4.000000e+00     4.737500e+02             0.000000\n",
       "50%     1.513190e+08       5.800000e+01     3.052500e+03             0.000000\n",
       "75%     4.148627e+08       9.800000e+02     4.371575e+04             0.000000\n",
       "max     4.984690e+08       8.335668e+06     1.772188e+06          6783.000000"
      ]
     },
     "execution_count": 4,
     "metadata": {},
     "output_type": "execute_result"
    }
   ],
   "source": [
    "df.describe()"
   ]
  },
  {
   "cell_type": "markdown",
   "metadata": {},
   "source": [
    "В данных есть аномально большие и отрицательные значения.   "
   ]
  },
  {
   "cell_type": "markdown",
   "metadata": {},
   "source": [
    "Найдем и удалим дубликаты."
   ]
  },
  {
   "cell_type": "code",
   "execution_count": 5,
   "metadata": {},
   "outputs": [
    {
     "name": "stdout",
     "output_type": "stream",
     "text": [
      "Изначальное кол-во дубликатов 26\n",
      "Кол-во дубликатов после удаления 0\n"
     ]
    }
   ],
   "source": [
    "print('Изначальное кол-во дубликатов', df.duplicated().sum())\n",
    "df = df.drop_duplicates()\n",
    "print('Кол-во дубликатов после удаления', df.duplicated().sum())"
   ]
  },
  {
   "cell_type": "markdown",
   "metadata": {},
   "source": [
    "Заменим прочерки в колонке \"Сумма начислений в месяц, руб\" на 0, чтобы можно было работать с цифрами."
   ]
  },
  {
   "cell_type": "code",
   "execution_count": 6,
   "metadata": {},
   "outputs": [
    {
     "data": {
      "text/html": [
       "<div>\n",
       "<style scoped>\n",
       "    .dataframe tbody tr th:only-of-type {\n",
       "        vertical-align: middle;\n",
       "    }\n",
       "\n",
       "    .dataframe tbody tr th {\n",
       "        vertical-align: top;\n",
       "    }\n",
       "\n",
       "    .dataframe thead th {\n",
       "        text-align: right;\n",
       "    }\n",
       "</style>\n",
       "<table border=\"1\" class=\"dataframe\">\n",
       "  <thead>\n",
       "    <tr style=\"text-align: right;\">\n",
       "      <th></th>\n",
       "      <th>subscriber_id</th>\n",
       "      <th>device_category</th>\n",
       "      <th>month_sum_charge_rub</th>\n",
       "      <th>voice_traffic_rub</th>\n",
       "      <th>data_traffic_mb</th>\n",
       "      <th>roaming_traffic_min</th>\n",
       "    </tr>\n",
       "  </thead>\n",
       "  <tbody>\n",
       "    <tr>\n",
       "      <td>14631</td>\n",
       "      <td>495162131</td>\n",
       "      <td>DATA CARD</td>\n",
       "      <td>44593</td>\n",
       "      <td>0</td>\n",
       "      <td>0</td>\n",
       "      <td>0</td>\n",
       "    </tr>\n",
       "    <tr>\n",
       "      <td>14632</td>\n",
       "      <td>495164487</td>\n",
       "      <td>DATA CARD</td>\n",
       "      <td>44593</td>\n",
       "      <td>0</td>\n",
       "      <td>0</td>\n",
       "      <td>0</td>\n",
       "    </tr>\n",
       "    <tr>\n",
       "      <td>14633</td>\n",
       "      <td>495454612</td>\n",
       "      <td>DATA CARD</td>\n",
       "      <td>14.43</td>\n",
       "      <td>0</td>\n",
       "      <td>1</td>\n",
       "      <td>0</td>\n",
       "    </tr>\n",
       "    <tr>\n",
       "      <td>14634</td>\n",
       "      <td>498468449</td>\n",
       "      <td>DATA CARD</td>\n",
       "      <td>0</td>\n",
       "      <td>0</td>\n",
       "      <td>0</td>\n",
       "      <td>0</td>\n",
       "    </tr>\n",
       "    <tr>\n",
       "      <td>14635</td>\n",
       "      <td>498469004</td>\n",
       "      <td>DATA CARD</td>\n",
       "      <td>0</td>\n",
       "      <td>0</td>\n",
       "      <td>0</td>\n",
       "      <td>0</td>\n",
       "    </tr>\n",
       "  </tbody>\n",
       "</table>\n",
       "</div>"
      ],
      "text/plain": [
       "       subscriber_id device_category month_sum_charge_rub  voice_traffic_rub  \\\n",
       "14631      495162131       DATA CARD                44593                  0   \n",
       "14632      495164487       DATA CARD                44593                  0   \n",
       "14633      495454612       DATA CARD                14.43                  0   \n",
       "14634      498468449       DATA CARD               0                       0   \n",
       "14635      498469004       DATA CARD               0                       0   \n",
       "\n",
       "       data_traffic_mb  roaming_traffic_min  \n",
       "14631                0                    0  \n",
       "14632                0                    0  \n",
       "14633                1                    0  \n",
       "14634                0                    0  \n",
       "14635                0                    0  "
      ]
     },
     "metadata": {},
     "output_type": "display_data"
    }
   ],
   "source": [
    "df['month_sum_charge_rub'] = df['month_sum_charge_rub'].str.replace('-','0')\n",
    "display(df.tail())"
   ]
  },
  {
   "cell_type": "markdown",
   "metadata": {},
   "source": [
    "Заменим типы данных:  \n",
    "- в столбце \"Сумма начислений в месяц, руб\" на числа с плавающей точкой,  \n",
    "- в столбцах \"Трафик голосовой, мин\" и \"Трафик передачи данных, Мб\" на целые числа  "
   ]
  },
  {
   "cell_type": "code",
   "execution_count": 7,
   "metadata": {},
   "outputs": [
    {
     "data": {
      "text/html": [
       "<div>\n",
       "<style scoped>\n",
       "    .dataframe tbody tr th:only-of-type {\n",
       "        vertical-align: middle;\n",
       "    }\n",
       "\n",
       "    .dataframe tbody tr th {\n",
       "        vertical-align: top;\n",
       "    }\n",
       "\n",
       "    .dataframe thead th {\n",
       "        text-align: right;\n",
       "    }\n",
       "</style>\n",
       "<table border=\"1\" class=\"dataframe\">\n",
       "  <thead>\n",
       "    <tr style=\"text-align: right;\">\n",
       "      <th></th>\n",
       "      <th>subscriber_id</th>\n",
       "      <th>device_category</th>\n",
       "      <th>month_sum_charge_rub</th>\n",
       "      <th>voice_traffic_rub</th>\n",
       "      <th>data_traffic_mb</th>\n",
       "      <th>roaming_traffic_min</th>\n",
       "    </tr>\n",
       "  </thead>\n",
       "  <tbody>\n",
       "    <tr>\n",
       "      <td>0</td>\n",
       "      <td>4277642</td>\n",
       "      <td>SMARTPHONE</td>\n",
       "      <td>11961.99</td>\n",
       "      <td>1004</td>\n",
       "      <td>13976</td>\n",
       "      <td>2</td>\n",
       "    </tr>\n",
       "    <tr>\n",
       "      <td>1</td>\n",
       "      <td>4277933</td>\n",
       "      <td>SMARTPHONE</td>\n",
       "      <td>13864.58</td>\n",
       "      <td>1159</td>\n",
       "      <td>3620</td>\n",
       "      <td>23</td>\n",
       "    </tr>\n",
       "    <tr>\n",
       "      <td>2</td>\n",
       "      <td>4278138</td>\n",
       "      <td>SMARTPHONE</td>\n",
       "      <td>3905.09</td>\n",
       "      <td>6301</td>\n",
       "      <td>2298</td>\n",
       "      <td>0</td>\n",
       "    </tr>\n",
       "    <tr>\n",
       "      <td>3</td>\n",
       "      <td>4281994</td>\n",
       "      <td>SMARTPHONE</td>\n",
       "      <td>12475.65</td>\n",
       "      <td>1846</td>\n",
       "      <td>6296</td>\n",
       "      <td>70</td>\n",
       "    </tr>\n",
       "    <tr>\n",
       "      <td>4</td>\n",
       "      <td>4282050</td>\n",
       "      <td>SMARTPHONE</td>\n",
       "      <td>9519.50</td>\n",
       "      <td>6566</td>\n",
       "      <td>2577</td>\n",
       "      <td>2</td>\n",
       "    </tr>\n",
       "  </tbody>\n",
       "</table>\n",
       "</div>"
      ],
      "text/plain": [
       "   subscriber_id device_category  month_sum_charge_rub  voice_traffic_rub  \\\n",
       "0        4277642      SMARTPHONE              11961.99               1004   \n",
       "1        4277933      SMARTPHONE              13864.58               1159   \n",
       "2        4278138      SMARTPHONE               3905.09               6301   \n",
       "3        4281994      SMARTPHONE              12475.65               1846   \n",
       "4        4282050      SMARTPHONE               9519.50               6566   \n",
       "\n",
       "   data_traffic_mb  roaming_traffic_min  \n",
       "0            13976                    2  \n",
       "1             3620                   23  \n",
       "2             2298                    0  \n",
       "3             6296                   70  \n",
       "4             2577                    2  "
      ]
     },
     "metadata": {},
     "output_type": "display_data"
    }
   ],
   "source": [
    "df['month_sum_charge_rub'] = df['month_sum_charge_rub'].astype('float')\n",
    "df['voice_traffic_rub'] = df['voice_traffic_rub'].astype('int')\n",
    "df['data_traffic_mb'] = df['data_traffic_mb'].astype('int')\n",
    "display(df.head())"
   ]
  },
  {
   "cell_type": "code",
   "execution_count": 8,
   "metadata": {},
   "outputs": [
    {
     "name": "stdout",
     "output_type": "stream",
     "text": [
      "<class 'pandas.core.frame.DataFrame'>\n",
      "Int64Index: 14610 entries, 0 to 14635\n",
      "Data columns (total 6 columns):\n",
      "subscriber_id           14610 non-null int64\n",
      "device_category         14563 non-null object\n",
      "month_sum_charge_rub    14610 non-null float64\n",
      "voice_traffic_rub       14610 non-null int64\n",
      "data_traffic_mb         14610 non-null int64\n",
      "roaming_traffic_min     14610 non-null int64\n",
      "dtypes: float64(1), int64(4), object(1)\n",
      "memory usage: 799.0+ KB\n"
     ]
    }
   ],
   "source": [
    "df.info()"
   ]
  },
  {
   "cell_type": "markdown",
   "metadata": {},
   "source": [
    "Найдем отклонения в данных - посчитаем перцентили и отбросим аномально большие и отрицательные значения."
   ]
  },
  {
   "cell_type": "code",
   "execution_count": 9,
   "metadata": {},
   "outputs": [
    {
     "name": "stdout",
     "output_type": "stream",
     "text": [
      "[25360.7255 44530.82  ]\n",
      "[6330.   8941.82]\n",
      "[ 675.   1226.64]\n",
      "[ 94926.55 165923.13]\n"
     ]
    }
   ],
   "source": [
    "print(np.percentile(df['month_sum_charge_rub'], [95, 99]))\n",
    "\n",
    "print(np.percentile(df['voice_traffic_rub'], [95, 99]))\n",
    "\n",
    "print(np.percentile(df['roaming_traffic_min'], [95, 99]))\n",
    "\n",
    "print(np.percentile(df['data_traffic_mb'], [95, 99]))\n"
   ]
  },
  {
   "cell_type": "markdown",
   "metadata": {},
   "source": [
    "Не более 5% абонентов имели сумму начислений в месяц более 25360.7255 руб.  \n",
    "Не более 1% абонентов имели сумму начислений в месяц более 44530.82 руб. \n",
    "\n",
    "Не более чем у 5% абонентов голосовой трафик составил более 6330 минут.  \n",
    "Не более чем у 1% абонентов голосовой трафик составил более 8941.82 минут. \n",
    "  \n",
    "Не более чем у 5% абонентов трафик в роуминге составил более 675 минут.  \n",
    "Не более чем у 1% абонентов трафик в роуминге составил более 1226.64 минут.  \n",
    "  \n",
    "Не более чем у 5% абонентов трафик передачи данных составил более 94926.55 Мб.  \n",
    "Не более чем у 1% абонентов трафик передачи данных составил более 165923.13 Мб. \n",
    " "
   ]
  },
  {
   "cell_type": "markdown",
   "metadata": {},
   "source": [
    "**Удалим не более 1% аномально высоких значений, чтобы не потерять слишком много данных, а так же отрицательные значения.**"
   ]
  },
  {
   "cell_type": "code",
   "execution_count": 10,
   "metadata": {},
   "outputs": [],
   "source": [
    "df = df.drop(df[df.month_sum_charge_rub > 44530.82].index)\n",
    "df = df.drop(df[0 > df.month_sum_charge_rub].index)\n",
    "\n",
    "df = df.drop(df[df.voice_traffic_rub > 8941.82].index)\n",
    "df = df.drop(df[0 > df.voice_traffic_rub].index)\n",
    "\n",
    "df = df.drop(df[df.roaming_traffic_min > 1226.64].index)\n",
    "df = df.drop(df[0 > df.roaming_traffic_min].index)\n",
    "\n",
    "df = df.drop(df[df.data_traffic_mb > 165923.13].index)\n",
    "df = df.drop(df[0 > df.data_traffic_mb].index)"
   ]
  },
  {
   "cell_type": "code",
   "execution_count": 11,
   "metadata": {},
   "outputs": [
    {
     "data": {
      "text/html": [
       "<div>\n",
       "<style scoped>\n",
       "    .dataframe tbody tr th:only-of-type {\n",
       "        vertical-align: middle;\n",
       "    }\n",
       "\n",
       "    .dataframe tbody tr th {\n",
       "        vertical-align: top;\n",
       "    }\n",
       "\n",
       "    .dataframe thead th {\n",
       "        text-align: right;\n",
       "    }\n",
       "</style>\n",
       "<table border=\"1\" class=\"dataframe\">\n",
       "  <thead>\n",
       "    <tr style=\"text-align: right;\">\n",
       "      <th></th>\n",
       "      <th>subscriber_id</th>\n",
       "      <th>device_category</th>\n",
       "      <th>month_sum_charge_rub</th>\n",
       "      <th>voice_traffic_rub</th>\n",
       "      <th>data_traffic_mb</th>\n",
       "      <th>roaming_traffic_min</th>\n",
       "    </tr>\n",
       "  </thead>\n",
       "  <tbody>\n",
       "    <tr>\n",
       "      <td>14626</td>\n",
       "      <td>492779356</td>\n",
       "      <td>DATA CARD</td>\n",
       "      <td>0.92</td>\n",
       "      <td>0</td>\n",
       "      <td>1</td>\n",
       "      <td>0</td>\n",
       "    </tr>\n",
       "    <tr>\n",
       "      <td>14627</td>\n",
       "      <td>493282794</td>\n",
       "      <td>DATA CARD</td>\n",
       "      <td>32721.00</td>\n",
       "      <td>0</td>\n",
       "      <td>0</td>\n",
       "      <td>0</td>\n",
       "    </tr>\n",
       "    <tr>\n",
       "      <td>14633</td>\n",
       "      <td>495454612</td>\n",
       "      <td>DATA CARD</td>\n",
       "      <td>14.43</td>\n",
       "      <td>0</td>\n",
       "      <td>1</td>\n",
       "      <td>0</td>\n",
       "    </tr>\n",
       "    <tr>\n",
       "      <td>14634</td>\n",
       "      <td>498468449</td>\n",
       "      <td>DATA CARD</td>\n",
       "      <td>0.00</td>\n",
       "      <td>0</td>\n",
       "      <td>0</td>\n",
       "      <td>0</td>\n",
       "    </tr>\n",
       "    <tr>\n",
       "      <td>14635</td>\n",
       "      <td>498469004</td>\n",
       "      <td>DATA CARD</td>\n",
       "      <td>0.00</td>\n",
       "      <td>0</td>\n",
       "      <td>0</td>\n",
       "      <td>0</td>\n",
       "    </tr>\n",
       "  </tbody>\n",
       "</table>\n",
       "</div>"
      ],
      "text/plain": [
       "       subscriber_id device_category  month_sum_charge_rub  voice_traffic_rub  \\\n",
       "14626      492779356       DATA CARD                  0.92                  0   \n",
       "14627      493282794       DATA CARD              32721.00                  0   \n",
       "14633      495454612       DATA CARD                 14.43                  0   \n",
       "14634      498468449       DATA CARD                  0.00                  0   \n",
       "14635      498469004       DATA CARD                  0.00                  0   \n",
       "\n",
       "       data_traffic_mb  roaming_traffic_min  \n",
       "14626                1                    0  \n",
       "14627                0                    0  \n",
       "14633                1                    0  \n",
       "14634                0                    0  \n",
       "14635                0                    0  "
      ]
     },
     "metadata": {},
     "output_type": "display_data"
    }
   ],
   "source": [
    "display(df.tail())"
   ]
  },
  {
   "cell_type": "markdown",
   "metadata": {},
   "source": [
    "Разделим типы устройств на 2: PHONE, SMARTPHONE и TABLET определим в категорию \"Телефоны и планшеты\" и присвоим ей цифру 1, \n",
    "а DATA CARD, MODEM, NETWORK DEVICE, ROUTER, USB MODEM - в категорию \"Сетевые устройства\" и присвоим ей цифру 0"
   ]
  },
  {
   "cell_type": "code",
   "execution_count": 12,
   "metadata": {},
   "outputs": [],
   "source": [
    "df['device_category'] = df['device_category'].str.replace('SMARTPHONE','1')\n",
    "df['device_category'] = df['device_category'].str.replace('PHONE','1')\n",
    "df['device_category'] = df['device_category'].str.replace('TABLET','1')\n",
    "df['device_category'] = df['device_category'].str.replace('DATA CARD','0')\n",
    "df['device_category'] = df['device_category'].str.replace('USB MODEM','0')\n",
    "df['device_category'] = df['device_category'].str.replace('MODEM','0')\n",
    "df['device_category'] = df['device_category'].str.replace('NETWORK DEVICE','0')\n",
    "df['device_category'] = df['device_category'].str.replace('ROUTER','0')"
   ]
  },
  {
   "cell_type": "markdown",
   "metadata": {},
   "source": [
    "Удалим строки, в которых не указан тип устройства, потому что с ними данные будут менее репрезентативны"
   ]
  },
  {
   "cell_type": "code",
   "execution_count": 13,
   "metadata": {},
   "outputs": [],
   "source": [
    "df.dropna(inplace=True)\n",
    "#display(df)"
   ]
  },
  {
   "cell_type": "markdown",
   "metadata": {},
   "source": [
    "После замены значений в столбце с типами устройств заменим и тип данных на целые числа.  \n",
    "Всего удалили 638 строк - почти 5% данных."
   ]
  },
  {
   "cell_type": "code",
   "execution_count": 14,
   "metadata": {},
   "outputs": [],
   "source": [
    "df['device_category'] = df['device_category'].astype('int')"
   ]
  },
  {
   "cell_type": "markdown",
   "metadata": {},
   "source": [
    "Стандартизируем данные, столбец с id абонента учитывать не будем"
   ]
  },
  {
   "cell_type": "code",
   "execution_count": 15,
   "metadata": {},
   "outputs": [],
   "source": [
    "scaler = StandardScaler() \n",
    "df_drop = scaler.fit_transform(df.drop(columns = ['subscriber_id']))"
   ]
  },
  {
   "cell_type": "markdown",
   "metadata": {},
   "source": [
    "Построим матрицу расстояний функцией linkage() на стандартизованной матрице признаков и нарисуем дендрограмму.  \n",
    "На основании полученного графика предположим, какое количество кластеров можно выделить."
   ]
  },
  {
   "cell_type": "code",
   "execution_count": 16,
   "metadata": {},
   "outputs": [
    {
     "data": {
      "image/png": "[encoded data removed]",
      "text/plain": [
       "<Figure size 1080x720 with 1 Axes>"
      ]
     },
     "metadata": {
      "needs_background": "light"
     },
     "output_type": "display_data"
    }
   ],
   "source": [
    "linked = linkage(df_drop, method = 'ward')\n",
    "plt.figure(figsize=(15, 10))  \n",
    "dendrogram(linked, orientation='top')\n",
    "plt.title('Дендрограмма иерархической кластеризации на основе профиля абонента')\n",
    "plt.show()"
   ]
  },
  {
   "cell_type": "markdown",
   "metadata": {},
   "source": [
    "Видим на дендрограмме 5 кластеров абонентов."
   ]
  },
  {
   "cell_type": "markdown",
   "metadata": {},
   "source": [
    "Обучим модель кластеризации на основании алгоритма K-Means"
   ]
  },
  {
   "cell_type": "code",
   "execution_count": 17,
   "metadata": {},
   "outputs": [
    {
     "data": {
      "text/html": [
       "<div>\n",
       "<style scoped>\n",
       "    .dataframe tbody tr th:only-of-type {\n",
       "        vertical-align: middle;\n",
       "    }\n",
       "\n",
       "    .dataframe tbody tr th {\n",
       "        vertical-align: top;\n",
       "    }\n",
       "\n",
       "    .dataframe thead th {\n",
       "        text-align: right;\n",
       "    }\n",
       "</style>\n",
       "<table border=\"1\" class=\"dataframe\">\n",
       "  <thead>\n",
       "    <tr style=\"text-align: right;\">\n",
       "      <th></th>\n",
       "      <th>subscriber_id</th>\n",
       "      <th>device_category</th>\n",
       "      <th>month_sum_charge_rub</th>\n",
       "      <th>voice_traffic_rub</th>\n",
       "      <th>data_traffic_mb</th>\n",
       "      <th>roaming_traffic_min</th>\n",
       "      <th>cluster_km</th>\n",
       "    </tr>\n",
       "  </thead>\n",
       "  <tbody>\n",
       "    <tr>\n",
       "      <td>0</td>\n",
       "      <td>4277642</td>\n",
       "      <td>1</td>\n",
       "      <td>11961.99</td>\n",
       "      <td>1004</td>\n",
       "      <td>13976</td>\n",
       "      <td>2</td>\n",
       "      <td>3</td>\n",
       "    </tr>\n",
       "    <tr>\n",
       "      <td>1</td>\n",
       "      <td>4277933</td>\n",
       "      <td>1</td>\n",
       "      <td>13864.58</td>\n",
       "      <td>1159</td>\n",
       "      <td>3620</td>\n",
       "      <td>23</td>\n",
       "      <td>3</td>\n",
       "    </tr>\n",
       "    <tr>\n",
       "      <td>2</td>\n",
       "      <td>4278138</td>\n",
       "      <td>1</td>\n",
       "      <td>3905.09</td>\n",
       "      <td>6301</td>\n",
       "      <td>2298</td>\n",
       "      <td>0</td>\n",
       "      <td>4</td>\n",
       "    </tr>\n",
       "    <tr>\n",
       "      <td>3</td>\n",
       "      <td>4281994</td>\n",
       "      <td>1</td>\n",
       "      <td>12475.65</td>\n",
       "      <td>1846</td>\n",
       "      <td>6296</td>\n",
       "      <td>70</td>\n",
       "      <td>3</td>\n",
       "    </tr>\n",
       "    <tr>\n",
       "      <td>4</td>\n",
       "      <td>4282050</td>\n",
       "      <td>1</td>\n",
       "      <td>9519.50</td>\n",
       "      <td>6566</td>\n",
       "      <td>2577</td>\n",
       "      <td>2</td>\n",
       "      <td>4</td>\n",
       "    </tr>\n",
       "  </tbody>\n",
       "</table>\n",
       "</div>"
      ],
      "text/plain": [
       "   subscriber_id  device_category  month_sum_charge_rub  voice_traffic_rub  \\\n",
       "0        4277642                1              11961.99               1004   \n",
       "1        4277933                1              13864.58               1159   \n",
       "2        4278138                1               3905.09               6301   \n",
       "3        4281994                1              12475.65               1846   \n",
       "4        4282050                1               9519.50               6566   \n",
       "\n",
       "   data_traffic_mb  roaming_traffic_min  cluster_km  \n",
       "0            13976                    2           3  \n",
       "1             3620                   23           3  \n",
       "2             2298                    0           4  \n",
       "3             6296                   70           3  \n",
       "4             2577                    2           4  "
      ]
     },
     "metadata": {},
     "output_type": "display_data"
    }
   ],
   "source": [
    "km = KMeans(n_clusters = 5)\n",
    "labels = km.fit_predict(df_drop)\n",
    "df['cluster_km'] = labels\n",
    "display(df.head())"
   ]
  },
  {
   "cell_type": "markdown",
   "metadata": {},
   "source": [
    "Уберем столбец с id "
   ]
  },
  {
   "cell_type": "code",
   "execution_count": 18,
   "metadata": {},
   "outputs": [],
   "source": [
    "df=df.drop(columns = ['subscriber_id'])"
   ]
  },
  {
   "cell_type": "markdown",
   "metadata": {},
   "source": [
    "Изучим средние значения признаков для кластеров.  "
   ]
  },
  {
   "cell_type": "code",
   "execution_count": 19,
   "metadata": {},
   "outputs": [
    {
     "data": {
      "text/html": [
       "<div>\n",
       "<style scoped>\n",
       "    .dataframe tbody tr th:only-of-type {\n",
       "        vertical-align: middle;\n",
       "    }\n",
       "\n",
       "    .dataframe tbody tr th {\n",
       "        vertical-align: top;\n",
       "    }\n",
       "\n",
       "    .dataframe thead th {\n",
       "        text-align: right;\n",
       "    }\n",
       "</style>\n",
       "<table border=\"1\" class=\"dataframe\">\n",
       "  <thead>\n",
       "    <tr style=\"text-align: right;\">\n",
       "      <th></th>\n",
       "      <th>cluster_0</th>\n",
       "      <th>cluster_1</th>\n",
       "      <th>cluster_2</th>\n",
       "      <th>cluster_3</th>\n",
       "      <th>cluster_4</th>\n",
       "    </tr>\n",
       "  </thead>\n",
       "  <tbody>\n",
       "    <tr>\n",
       "      <td>device_category</td>\n",
       "      <td>0.151897</td>\n",
       "      <td>0.985298</td>\n",
       "      <td>1.000000</td>\n",
       "      <td>0.739065</td>\n",
       "      <td>0.962963</td>\n",
       "    </tr>\n",
       "    <tr>\n",
       "      <td>month_sum_charge_rub</td>\n",
       "      <td>545.569115</td>\n",
       "      <td>1205.553289</td>\n",
       "      <td>3099.773014</td>\n",
       "      <td>21898.543288</td>\n",
       "      <td>2251.323852</td>\n",
       "    </tr>\n",
       "    <tr>\n",
       "      <td>voice_traffic_rub</td>\n",
       "      <td>17.980324</td>\n",
       "      <td>611.681753</td>\n",
       "      <td>1250.371097</td>\n",
       "      <td>1038.484666</td>\n",
       "      <td>6817.477778</td>\n",
       "    </tr>\n",
       "    <tr>\n",
       "      <td>data_traffic_mb</td>\n",
       "      <td>4136.051944</td>\n",
       "      <td>73224.348804</td>\n",
       "      <td>2446.071169</td>\n",
       "      <td>5952.919055</td>\n",
       "      <td>6025.466667</td>\n",
       "    </tr>\n",
       "    <tr>\n",
       "      <td>roaming_traffic_min</td>\n",
       "      <td>0.168739</td>\n",
       "      <td>2.259441</td>\n",
       "      <td>693.116195</td>\n",
       "      <td>28.020613</td>\n",
       "      <td>22.565432</td>\n",
       "    </tr>\n",
       "  </tbody>\n",
       "</table>\n",
       "</div>"
      ],
      "text/plain": [
       "                        cluster_0     cluster_1    cluster_2     cluster_3  \\\n",
       "device_category          0.151897      0.985298     1.000000      0.739065   \n",
       "month_sum_charge_rub   545.569115   1205.553289  3099.773014  21898.543288   \n",
       "voice_traffic_rub       17.980324    611.681753  1250.371097   1038.484666   \n",
       "data_traffic_mb       4136.051944  73224.348804  2446.071169   5952.919055   \n",
       "roaming_traffic_min      0.168739      2.259441   693.116195     28.020613   \n",
       "\n",
       "                        cluster_4  \n",
       "device_category          0.962963  \n",
       "month_sum_charge_rub  2251.323852  \n",
       "voice_traffic_rub     6817.477778  \n",
       "data_traffic_mb       6025.466667  \n",
       "roaming_traffic_min     22.565432  "
      ]
     },
     "metadata": {},
     "output_type": "display_data"
    }
   ],
   "source": [
    "df_mean_avg = df.groupby('cluster_km').mean()\n",
    "df_mean_avg = df_mean_avg.transpose()\n",
    "df_mean_avg.columns = ['cluster_0', 'cluster_1', 'cluster_2', 'cluster_3', 'cluster_4']\n",
    "display(df_mean_avg)"
   ]
  },
  {
   "cell_type": "markdown",
   "metadata": {},
   "source": [
    "Посчитаем долю каждого кластера от общего обьема"
   ]
  },
  {
   "cell_type": "code",
   "execution_count": 20,
   "metadata": {},
   "outputs": [
    {
     "name": "stdout",
     "output_type": "stream",
     "text": [
      "Доля кластера 0 - 45.39 %\n",
      "Доля кластера 1 - 24.78 %\n",
      "Доля кластера 2 - 9.84 %\n",
      "Доля кластера 3 - 14.21 %\n",
      "Доля кластера 4 - 5.79 %\n"
     ]
    }
   ],
   "source": [
    "for clast_part in range(0, 5):\n",
    "    df_int_part = round(df[df['cluster_km'] == clast_part].shape[0]/df.shape[0]*100, 2)\n",
    "    print('Доля кластера', clast_part, '-', df_int_part, '%')"
   ]
  },
  {
   "cell_type": "markdown",
   "metadata": {},
   "source": [
    "**Особенности кластеров:**  \n",
    "  \n",
    "**Кластер 0:**  \n",
    "- самый большой по количеству абонентов  \n",
    "- абоненты пользуются в основном сетевыми устройствами  \n",
    "- самая маленькая средняя сумма начислений в месяц  \n",
    "- самый низкий средний голосовой трафик  \n",
    "- самый низкий средний трафик в роуминге\n",
    "  \n",
    "**Кластер 1:**  \n",
    "- абоненты пользуются в основном телефонами и планшетами  \n",
    "- самый большой средний трафик передачи данных - в 12 раз больше, чем у следующего по трафику передачи данных кластеру\n",
    "  \n",
    "**Кластер 2:**  \n",
    "- абоненты пользуются только телефонами и планшетами    \n",
    "- самый маленький средний трафик передачи данных  \n",
    "- самый большой средний трафик в роуминге - почти в 25 раз больше, чем у следующего по трафику в роуминге данных кластеру\n",
    "   \n",
    "**Кластер 3:** \n",
    "- абоненты пользуются и телефонами и планшетами, и сетевыми устройствами, большая часть устройств приходится на телефоны и планшеты  \n",
    "- самая большая средняя сумма начислений в месяц - в 7 раз больше, чем у следующего по сумме начислений кластеру\n",
    "  \n",
    "**Кластер 4:**  \n",
    "- самый маленький по количеству абонентов\n",
    "- абоненты пользуются в основном телефонами и планшетами  \n",
    "- самый высокий средний голосовой трафик - в 5 раз больше, чем у следующего по голосовому трафику кластеру \n",
    "  \n",
    "**Примечательно, что самый большой по количеству абонентов кластер отличается самой маленькой средней суммой начислений в месяц, самым низким средним голосовом трафиком и самым низким средним трафиком в роуминге. Необходимо изучить причины для дальнейшего сокращения этого кластера.**  \n",
    "  \n",
    "**Средние максимальные значения показателей распределены по одному среди остальных кластеров.**"
   ]
  }
 ],
 "metadata": {
  "ExecuteTimeLog": [
   {
    "duration": 2135,
    "start_time": "2021-07-23T11:36:19.142Z"
   },
   {
    "duration": 3,
    "start_time": "2021-07-23T11:37:35.065Z"
   },
   {
    "duration": 23,
    "start_time": "2021-07-23T11:48:19.349Z"
   },
   {
    "duration": 76,
    "start_time": "2021-07-23T11:49:03.112Z"
   },
   {
    "duration": 11,
    "start_time": "2021-07-23T11:49:23.418Z"
   },
   {
    "duration": 28,
    "start_time": "2021-07-23T11:50:59.596Z"
   },
   {
    "duration": 18,
    "start_time": "2021-07-23T13:36:01.313Z"
   },
   {
    "duration": 506,
    "start_time": "2021-07-23T13:42:10.526Z"
   },
   {
    "duration": 276,
    "start_time": "2021-07-23T13:42:30.166Z"
   },
   {
    "duration": 6,
    "start_time": "2021-07-23T13:43:03.518Z"
   },
   {
    "duration": 263,
    "start_time": "2021-07-23T13:43:11.849Z"
   },
   {
    "duration": 288,
    "start_time": "2021-07-23T13:43:39.961Z"
   },
   {
    "duration": 294,
    "start_time": "2021-07-23T13:46:14.631Z"
   },
   {
    "duration": 290,
    "start_time": "2021-07-23T13:46:41.419Z"
   },
   {
    "duration": 26,
    "start_time": "2021-07-23T13:46:52.666Z"
   },
   {
    "duration": 39,
    "start_time": "2021-07-23T13:48:36.069Z"
   },
   {
    "duration": 17,
    "start_time": "2021-07-23T13:49:12.256Z"
   },
   {
    "duration": 7480,
    "start_time": "2021-07-23T14:03:24.153Z"
   },
   {
    "duration": 7326,
    "start_time": "2021-07-23T14:03:48.990Z"
   },
   {
    "duration": 6,
    "start_time": "2021-07-23T14:04:02.546Z"
   },
   {
    "duration": 7473,
    "start_time": "2021-07-23T14:04:04.109Z"
   },
   {
    "duration": 5,
    "start_time": "2021-07-23T14:05:39.894Z"
   },
   {
    "duration": 22,
    "start_time": "2021-07-23T14:05:41.501Z"
   },
   {
    "duration": 76,
    "start_time": "2021-07-23T14:05:42.075Z"
   },
   {
    "duration": 9,
    "start_time": "2021-07-23T14:05:42.926Z"
   },
   {
    "duration": 17,
    "start_time": "2021-07-23T14:05:43.656Z"
   },
   {
    "duration": 15,
    "start_time": "2021-07-23T14:05:46.313Z"
   },
   {
    "duration": 5,
    "start_time": "2021-07-23T14:05:48.198Z"
   },
   {
    "duration": 7071,
    "start_time": "2021-07-23T14:05:48.987Z"
   },
   {
    "duration": 8,
    "start_time": "2021-07-23T14:06:58.416Z"
   },
   {
    "duration": 25,
    "start_time": "2021-07-23T14:07:13.182Z"
   },
   {
    "duration": 8,
    "start_time": "2021-07-23T14:07:16.621Z"
   },
   {
    "duration": 8094,
    "start_time": "2021-07-23T14:07:18.050Z"
   },
   {
    "duration": 6962,
    "start_time": "2021-07-23T14:08:57.385Z"
   },
   {
    "duration": 7953,
    "start_time": "2021-07-23T14:10:41.385Z"
   },
   {
    "duration": 5,
    "start_time": "2021-07-23T14:11:44.364Z"
   },
   {
    "duration": 5,
    "start_time": "2021-07-23T14:12:01.026Z"
   },
   {
    "duration": 8,
    "start_time": "2021-07-23T14:12:12.955Z"
   },
   {
    "duration": 7,
    "start_time": "2021-07-23T14:12:13.651Z"
   },
   {
    "duration": 8181,
    "start_time": "2021-07-23T14:12:14.440Z"
   },
   {
    "duration": 5,
    "start_time": "2021-07-23T14:12:32.896Z"
   },
   {
    "duration": 8363,
    "start_time": "2021-07-23T14:12:34.032Z"
   },
   {
    "duration": 6,
    "start_time": "2021-07-23T14:12:53.802Z"
   },
   {
    "duration": 6644,
    "start_time": "2021-07-23T14:12:54.762Z"
   },
   {
    "duration": 6,
    "start_time": "2021-07-23T14:13:12.994Z"
   },
   {
    "duration": 7935,
    "start_time": "2021-07-23T14:13:14.924Z"
   },
   {
    "duration": 8640,
    "start_time": "2021-07-23T14:13:24.810Z"
   },
   {
    "duration": 96,
    "start_time": "2021-07-23T14:15:11.294Z"
   },
   {
    "duration": 911,
    "start_time": "2021-07-23T14:15:20.404Z"
   },
   {
    "duration": 7571,
    "start_time": "2021-07-23T14:17:38.895Z"
   },
   {
    "duration": 7297,
    "start_time": "2021-07-23T14:17:52.855Z"
   },
   {
    "duration": 5,
    "start_time": "2021-07-23T14:18:44.843Z"
   },
   {
    "duration": 7328,
    "start_time": "2021-07-23T14:18:45.461Z"
   },
   {
    "duration": 2199,
    "start_time": "2021-07-23T14:19:43.220Z"
   },
   {
    "duration": 2382,
    "start_time": "2021-07-23T14:20:05.591Z"
   },
   {
    "duration": 2331,
    "start_time": "2021-07-23T14:20:44.600Z"
   },
   {
    "duration": 2285,
    "start_time": "2021-07-23T14:20:54.248Z"
   },
   {
    "duration": 2499,
    "start_time": "2021-07-23T14:21:18.154Z"
   },
   {
    "duration": 2330,
    "start_time": "2021-07-23T14:21:26.904Z"
   },
   {
    "duration": 2285,
    "start_time": "2021-07-23T14:22:19.257Z"
   },
   {
    "duration": 2430,
    "start_time": "2021-07-23T14:24:00.342Z"
   },
   {
    "duration": 2423,
    "start_time": "2021-07-23T14:24:23.778Z"
   },
   {
    "duration": 299,
    "start_time": "2021-07-23T14:24:44.875Z"
   },
   {
    "duration": 2284,
    "start_time": "2021-07-23T14:24:53.084Z"
   },
   {
    "duration": 2276,
    "start_time": "2021-07-23T14:25:20.619Z"
   },
   {
    "duration": 2462,
    "start_time": "2021-07-23T14:25:48.971Z"
   },
   {
    "duration": 899,
    "start_time": "2021-07-23T14:26:14.535Z"
   },
   {
    "duration": 2518,
    "start_time": "2021-07-23T14:26:17.877Z"
   },
   {
    "duration": 2305,
    "start_time": "2021-07-23T14:26:41.697Z"
   },
   {
    "duration": 282,
    "start_time": "2021-07-23T14:31:46.577Z"
   },
   {
    "duration": 10,
    "start_time": "2021-07-23T14:32:00.345Z"
   },
   {
    "duration": 10,
    "start_time": "2021-07-23T14:32:44.045Z"
   },
   {
    "duration": 9,
    "start_time": "2021-07-23T14:33:02.198Z"
   },
   {
    "duration": 45,
    "start_time": "2021-07-23T14:33:21.938Z"
   },
   {
    "duration": 30,
    "start_time": "2021-07-23T14:33:27.852Z"
   },
   {
    "duration": 29,
    "start_time": "2021-07-23T14:33:56.003Z"
   },
   {
    "duration": 660,
    "start_time": "2021-07-23T14:33:57.602Z"
   },
   {
    "duration": 5,
    "start_time": "2021-07-23T14:34:22.731Z"
   },
   {
    "duration": 534,
    "start_time": "2021-07-23T14:34:34.324Z"
   },
   {
    "duration": 6,
    "start_time": "2021-07-23T14:35:27.413Z"
   },
   {
    "duration": 6,
    "start_time": "2021-07-23T14:35:40.241Z"
   },
   {
    "duration": 26,
    "start_time": "2021-07-23T14:35:42.757Z"
   },
   {
    "duration": 69,
    "start_time": "2021-07-23T14:35:43.409Z"
   },
   {
    "duration": 9,
    "start_time": "2021-07-23T14:35:44.112Z"
   },
   {
    "duration": 28,
    "start_time": "2021-07-23T14:35:44.708Z"
   },
   {
    "duration": 23,
    "start_time": "2021-07-23T14:35:47.122Z"
   },
   {
    "duration": 6,
    "start_time": "2021-07-23T14:35:50.601Z"
   },
   {
    "duration": 9389,
    "start_time": "2021-07-23T14:35:51.382Z"
   },
   {
    "duration": 2308,
    "start_time": "2021-07-23T14:36:00.774Z"
   },
   {
    "duration": 9,
    "start_time": "2021-07-23T14:36:03.085Z"
   },
   {
    "duration": 11,
    "start_time": "2021-07-23T14:36:03.097Z"
   },
   {
    "duration": 80,
    "start_time": "2021-07-23T14:36:03.110Z"
   },
   {
    "duration": 490,
    "start_time": "2021-07-23T14:36:04.197Z"
   },
   {
    "duration": 5,
    "start_time": "2021-07-23T14:36:06.065Z"
   },
   {
    "duration": 23,
    "start_time": "2021-07-23T14:36:07.004Z"
   },
   {
    "duration": 27,
    "start_time": "2021-07-23T15:18:19.833Z"
   },
   {
    "duration": 10,
    "start_time": "2021-07-23T15:20:36.264Z"
   },
   {
    "duration": 160492,
    "start_time": "2021-07-23T15:23:34.732Z"
   },
   {
    "duration": 152455,
    "start_time": "2021-07-23T15:28:46.770Z"
   },
   {
    "duration": 150242,
    "start_time": "2021-07-23T15:31:19.228Z"
   },
   {
    "duration": 1663,
    "start_time": "2021-07-23T15:37:18.948Z"
   },
   {
    "duration": 1155,
    "start_time": "2021-07-23T15:38:06.414Z"
   },
   {
    "duration": 20,
    "start_time": "2021-07-23T15:38:32.924Z"
   },
   {
    "duration": 22,
    "start_time": "2021-07-23T15:40:06.644Z"
   },
   {
    "duration": 327,
    "start_time": "2021-07-23T15:40:12.661Z"
   },
   {
    "duration": 28,
    "start_time": "2021-07-23T15:40:29.443Z"
   },
   {
    "duration": 29,
    "start_time": "2021-07-23T15:41:02.878Z"
   },
   {
    "duration": 19,
    "start_time": "2021-07-23T15:42:29.107Z"
   },
   {
    "duration": 25,
    "start_time": "2021-07-23T15:42:40.508Z"
   },
   {
    "duration": 30,
    "start_time": "2021-07-23T15:42:53.040Z"
   },
   {
    "duration": 435,
    "start_time": "2021-07-23T15:43:28.203Z"
   },
   {
    "duration": 27,
    "start_time": "2021-07-23T15:43:42.792Z"
   },
   {
    "duration": 22,
    "start_time": "2021-07-23T15:44:01.546Z"
   },
   {
    "duration": 27,
    "start_time": "2021-07-23T15:44:10.000Z"
   },
   {
    "duration": 28,
    "start_time": "2021-07-23T15:44:11.483Z"
   },
   {
    "duration": 9085,
    "start_time": "2021-07-23T15:46:42.427Z"
   },
   {
    "duration": 1118,
    "start_time": "2021-07-23T15:47:55.017Z"
   },
   {
    "duration": 8764,
    "start_time": "2021-07-23T16:11:28.671Z"
   },
   {
    "duration": 271,
    "start_time": "2021-07-23T16:12:31.350Z"
   },
   {
    "duration": 290,
    "start_time": "2021-07-23T16:12:49.405Z"
   },
   {
    "duration": 819,
    "start_time": "2021-07-23T16:13:01.126Z"
   },
   {
    "duration": 8863,
    "start_time": "2021-07-23T16:13:14.725Z"
   },
   {
    "duration": 8997,
    "start_time": "2021-07-23T16:14:29.503Z"
   },
   {
    "duration": 309,
    "start_time": "2021-07-23T16:15:00.727Z"
   },
   {
    "duration": 8502,
    "start_time": "2021-07-23T16:15:18.645Z"
   },
   {
    "duration": 27,
    "start_time": "2021-07-23T19:30:18.335Z"
   },
   {
    "duration": 19,
    "start_time": "2021-07-23T19:30:22.903Z"
   },
   {
    "duration": 19,
    "start_time": "2021-07-23T19:31:29.329Z"
   },
   {
    "duration": 277,
    "start_time": "2021-07-23T19:33:05.721Z"
   },
   {
    "duration": 262,
    "start_time": "2021-07-23T19:34:15.534Z"
   },
   {
    "duration": 7365,
    "start_time": "2021-07-23T19:34:27.547Z"
   },
   {
    "duration": 261,
    "start_time": "2021-07-23T19:35:05.346Z"
   },
   {
    "duration": 17,
    "start_time": "2021-07-23T19:35:10.895Z"
   },
   {
    "duration": 6780,
    "start_time": "2021-07-23T19:35:26.780Z"
   },
   {
    "duration": 8083,
    "start_time": "2021-07-23T21:01:03.860Z"
   },
   {
    "duration": 9210,
    "start_time": "2021-07-23T21:01:18.670Z"
   },
   {
    "duration": 2057,
    "start_time": "2021-07-23T21:09:30.368Z"
   },
   {
    "duration": 23,
    "start_time": "2021-07-23T21:09:32.428Z"
   },
   {
    "duration": 75,
    "start_time": "2021-07-23T21:09:38.424Z"
   },
   {
    "duration": 11,
    "start_time": "2021-07-23T21:09:39.922Z"
   },
   {
    "duration": 17,
    "start_time": "2021-07-23T21:09:40.918Z"
   },
   {
    "duration": 23,
    "start_time": "2021-07-23T21:09:44.722Z"
   },
   {
    "duration": 6,
    "start_time": "2021-07-23T21:09:46.395Z"
   },
   {
    "duration": 7003,
    "start_time": "2021-07-23T21:09:47.531Z"
   },
   {
    "duration": 5,
    "start_time": "2021-07-23T21:09:54.536Z"
   },
   {
    "duration": 7143,
    "start_time": "2021-07-23T21:09:56.843Z"
   },
   {
    "duration": 2416,
    "start_time": "2021-07-23T21:10:04.914Z"
   },
   {
    "duration": 10,
    "start_time": "2021-07-23T21:10:11.064Z"
   },
   {
    "duration": 10,
    "start_time": "2021-07-23T21:10:11.736Z"
   },
   {
    "duration": 33,
    "start_time": "2021-07-23T21:10:13.208Z"
   },
   {
    "duration": 502,
    "start_time": "2021-07-23T21:10:14.784Z"
   },
   {
    "duration": 5,
    "start_time": "2021-07-23T21:10:17.040Z"
   },
   {
    "duration": 24,
    "start_time": "2021-07-23T21:10:17.979Z"
   },
   {
    "duration": 10,
    "start_time": "2021-07-23T21:10:20.948Z"
   },
   {
    "duration": 143269,
    "start_time": "2021-07-23T21:10:22.722Z"
   },
   {
    "duration": 1669,
    "start_time": "2021-07-23T21:13:59.531Z"
   },
   {
    "duration": 21,
    "start_time": "2021-07-23T21:14:04.188Z"
   },
   {
    "duration": 8741,
    "start_time": "2021-07-23T21:14:08.313Z"
   },
   {
    "duration": 27,
    "start_time": "2021-07-23T21:14:19.897Z"
   },
   {
    "duration": 29,
    "start_time": "2021-07-23T21:14:23.526Z"
   },
   {
    "duration": 19,
    "start_time": "2021-07-23T21:14:24.212Z"
   },
   {
    "duration": 24045,
    "start_time": "2021-07-24T07:24:59.132Z"
   },
   {
    "duration": 20,
    "start_time": "2021-07-24T07:25:23.178Z"
   },
   {
    "duration": 41,
    "start_time": "2021-07-24T07:25:23.199Z"
   },
   {
    "duration": 6,
    "start_time": "2021-07-24T07:25:23.242Z"
   },
   {
    "duration": 12,
    "start_time": "2021-07-24T07:25:23.249Z"
   },
   {
    "duration": 31,
    "start_time": "2021-07-24T07:25:23.263Z"
   },
   {
    "duration": 3,
    "start_time": "2021-07-24T07:25:23.295Z"
   },
   {
    "duration": 3776,
    "start_time": "2021-07-24T07:25:23.300Z"
   },
   {
    "duration": 1453,
    "start_time": "2021-07-24T07:25:27.078Z"
   },
   {
    "duration": 7,
    "start_time": "2021-07-24T07:25:28.532Z"
   },
   {
    "duration": 8,
    "start_time": "2021-07-24T07:25:28.540Z"
   },
   {
    "duration": 50,
    "start_time": "2021-07-24T07:25:28.549Z"
   },
   {
    "duration": 460,
    "start_time": "2021-07-24T07:25:28.600Z"
   },
   {
    "duration": 3,
    "start_time": "2021-07-24T07:25:29.061Z"
   },
   {
    "duration": 25,
    "start_time": "2021-07-24T07:25:29.066Z"
   },
   {
    "duration": 7,
    "start_time": "2021-07-24T07:25:29.093Z"
   },
   {
    "duration": 77067,
    "start_time": "2021-07-24T07:25:29.102Z"
   },
   {
    "duration": 1523,
    "start_time": "2021-07-24T07:26:46.171Z"
   },
   {
    "duration": 14,
    "start_time": "2021-07-24T07:26:47.696Z"
   },
   {
    "duration": 4552,
    "start_time": "2021-07-24T07:26:47.711Z"
   },
   {
    "duration": 29,
    "start_time": "2021-07-24T07:26:52.265Z"
   },
   {
    "duration": 18,
    "start_time": "2021-07-24T07:26:52.296Z"
   },
   {
    "duration": 11,
    "start_time": "2021-07-24T07:26:52.316Z"
   },
   {
    "duration": 443,
    "start_time": "2021-10-16T23:55:14.546Z"
   },
   {
    "duration": 2077,
    "start_time": "2021-10-16T23:55:21.188Z"
   },
   {
    "duration": 2913,
    "start_time": "2021-10-16T23:55:25.686Z"
   },
   {
    "duration": 6490,
    "start_time": "2021-10-16T23:55:51.766Z"
   },
   {
    "duration": 5,
    "start_time": "2021-10-16T23:57:52.834Z"
   },
   {
    "duration": 4499,
    "start_time": "2021-10-16T23:57:59.568Z"
   },
   {
    "duration": 2860,
    "start_time": "2021-10-16T23:58:24.313Z"
   },
   {
    "duration": 2742,
    "start_time": "2021-10-17T00:00:06.922Z"
   },
   {
    "duration": 970,
    "start_time": "2021-10-17T00:03:02.301Z"
   },
   {
    "duration": 1087,
    "start_time": "2021-10-17T00:03:34.958Z"
   },
   {
    "duration": 2900,
    "start_time": "2021-10-17T00:04:15.610Z"
   },
   {
    "duration": 2108,
    "start_time": "2021-10-17T00:04:29.805Z"
   },
   {
    "duration": 3329,
    "start_time": "2021-10-17T00:04:34.270Z"
   },
   {
    "duration": 4895,
    "start_time": "2021-10-17T00:06:07.104Z"
   },
   {
    "duration": 2888,
    "start_time": "2021-10-17T00:07:17.039Z"
   },
   {
    "duration": 2970,
    "start_time": "2021-10-17T00:07:26.467Z"
   },
   {
    "duration": 2829,
    "start_time": "2021-10-17T00:07:55.223Z"
   },
   {
    "duration": 212,
    "start_time": "2021-10-17T00:11:29.755Z"
   },
   {
    "duration": 2025,
    "start_time": "2021-10-17T00:11:50.463Z"
   },
   {
    "duration": 308,
    "start_time": "2021-10-17T00:11:54.735Z"
   },
   {
    "duration": 32,
    "start_time": "2021-10-17T00:12:00.662Z"
   },
   {
    "duration": 231,
    "start_time": "2021-10-17T00:14:52.754Z"
   },
   {
    "duration": 26,
    "start_time": "2021-10-17T00:14:56.164Z"
   },
   {
    "duration": 20,
    "start_time": "2021-10-17T00:15:33.651Z"
   },
   {
    "duration": 2270,
    "start_time": "2021-10-17T00:17:46.497Z"
   },
   {
    "duration": 551,
    "start_time": "2021-10-17T00:17:56.590Z"
   },
   {
    "duration": 6,
    "start_time": "2021-10-17T00:18:06.904Z"
   },
   {
    "duration": 220,
    "start_time": "2021-10-17T00:18:10.189Z"
   },
   {
    "duration": 22,
    "start_time": "2021-10-17T00:18:13.674Z"
   },
   {
    "duration": 2029,
    "start_time": "2021-10-17T00:23:29.584Z"
   },
   {
    "duration": 243,
    "start_time": "2021-10-17T00:23:38.687Z"
   },
   {
    "duration": 23,
    "start_time": "2021-10-17T00:23:42.840Z"
   },
   {
    "duration": 231,
    "start_time": "2021-10-17T00:23:51.404Z"
   },
   {
    "duration": 17,
    "start_time": "2021-10-17T00:23:54.287Z"
   },
   {
    "duration": 2026,
    "start_time": "2021-10-17T00:33:02.408Z"
   },
   {
    "duration": 157,
    "start_time": "2021-10-17T00:33:05.995Z"
   },
   {
    "duration": 16,
    "start_time": "2021-10-17T00:33:09.900Z"
   },
   {
    "duration": 2060,
    "start_time": "2021-10-17T00:37:03.430Z"
   },
   {
    "duration": 162,
    "start_time": "2021-10-17T00:37:07.538Z"
   },
   {
    "duration": 17,
    "start_time": "2021-10-17T00:37:10.741Z"
   },
   {
    "duration": 2016,
    "start_time": "2021-10-17T00:37:34.960Z"
   },
   {
    "duration": 164,
    "start_time": "2021-10-17T00:37:37.521Z"
   },
   {
    "duration": 16,
    "start_time": "2021-10-17T00:37:41.227Z"
   },
   {
    "duration": 2817,
    "start_time": "2021-10-17T00:37:52.775Z"
   },
   {
    "duration": -69395,
    "start_time": "2021-10-17T00:39:04.990Z"
   },
   {
    "duration": 2072,
    "start_time": "2021-10-17T00:38:43.441Z"
   },
   {
    "duration": 165,
    "start_time": "2021-10-17T00:38:58.236Z"
   },
   {
    "duration": 15,
    "start_time": "2021-10-17T00:39:03.033Z"
   },
   {
    "duration": 2255,
    "start_time": "2021-10-17T00:42:44.615Z"
   },
   {
    "duration": 168,
    "start_time": "2021-10-17T00:42:48.014Z"
   },
   {
    "duration": 16,
    "start_time": "2021-10-17T00:42:52.451Z"
   },
   {
    "duration": 11,
    "start_time": "2021-10-17T00:42:55.783Z"
   },
   {
    "duration": 173,
    "start_time": "2021-10-17T00:44:25.904Z"
   },
   {
    "duration": 12,
    "start_time": "2021-10-17T00:44:29.095Z"
   },
   {
    "duration": 2040,
    "start_time": "2021-10-17T00:44:37.952Z"
   },
   {
    "duration": 185,
    "start_time": "2021-10-17T00:44:43.066Z"
   },
   {
    "duration": 19,
    "start_time": "2021-10-17T00:44:46.421Z"
   },
   {
    "duration": 216,
    "start_time": "2021-10-17T00:47:57.865Z"
   },
   {
    "duration": 2810,
    "start_time": "2021-10-17T00:48:08.753Z"
   },
   {
    "duration": 159,
    "start_time": "2021-10-17T00:48:18.427Z"
   },
   {
    "duration": 2210,
    "start_time": "2021-10-17T00:48:28.917Z"
   },
   {
    "duration": 186,
    "start_time": "2021-10-17T00:48:31.130Z"
   },
   {
    "duration": 155,
    "start_time": "2021-10-17T00:48:40.993Z"
   },
   {
    "duration": 182,
    "start_time": "2021-10-17T00:48:49.042Z"
   },
   {
    "duration": 184,
    "start_time": "2021-10-17T00:49:09.755Z"
   },
   {
    "duration": 210,
    "start_time": "2021-10-17T00:54:49.071Z"
   },
   {
    "duration": 2023,
    "start_time": "2021-10-17T00:59:37.249Z"
   },
   {
    "duration": 238,
    "start_time": "2021-10-17T00:59:46.697Z"
   },
   {
    "duration": 2078,
    "start_time": "2021-10-17T01:02:42.689Z"
   },
   {
    "duration": 3461,
    "start_time": "2021-10-17T01:02:44.770Z"
   },
   {
    "duration": 187,
    "start_time": "2021-10-17T01:02:57.154Z"
   },
   {
    "duration": 11,
    "start_time": "2021-10-17T01:04:36.795Z"
   },
   {
    "duration": 397,
    "start_time": "2021-10-17T01:05:30.165Z"
   },
   {
    "duration": 12,
    "start_time": "2021-10-17T01:05:44.107Z"
   },
   {
    "duration": 32,
    "start_time": "2021-10-17T01:06:07.355Z"
   },
   {
    "duration": 382,
    "start_time": "2021-10-17T01:08:59.573Z"
   },
   {
    "duration": 547,
    "start_time": "2021-10-17T01:09:10.380Z"
   },
   {
    "duration": 397,
    "start_time": "2021-10-17T01:10:07.134Z"
   },
   {
    "duration": 2044,
    "start_time": "2021-10-17T01:12:19.718Z"
   },
   {
    "duration": 217,
    "start_time": "2021-10-17T01:12:21.765Z"
   },
   {
    "duration": 13,
    "start_time": "2021-10-17T01:12:26.659Z"
   },
   {
    "duration": 19,
    "start_time": "2021-10-17T01:12:31.102Z"
   },
   {
    "duration": 580,
    "start_time": "2021-10-17T01:12:57.027Z"
   },
   {
    "duration": 9836,
    "start_time": "2021-10-17T01:19:11.507Z"
   },
   {
    "duration": 388,
    "start_time": "2021-10-17T01:20:18.995Z"
   },
   {
    "duration": 1990,
    "start_time": "2021-10-17T11:57:00.788Z"
   },
   {
    "duration": 235,
    "start_time": "2021-10-17T11:57:02.780Z"
   },
   {
    "duration": 13,
    "start_time": "2021-10-17T11:57:06.154Z"
   },
   {
    "duration": 19,
    "start_time": "2021-10-17T11:57:06.924Z"
   },
   {
    "duration": 481,
    "start_time": "2021-10-17T11:57:09.601Z"
   },
   {
    "duration": 6716,
    "start_time": "2021-10-17T11:57:19.909Z"
   },
   {
    "duration": 47,
    "start_time": "2021-10-17T11:59:05.922Z"
   },
   {
    "duration": 46,
    "start_time": "2021-10-17T12:28:41.610Z"
   },
   {
    "duration": 1918,
    "start_time": "2021-10-17T13:25:20.457Z"
   },
   {
    "duration": 150,
    "start_time": "2021-10-17T13:25:22.378Z"
   },
   {
    "duration": 11,
    "start_time": "2021-10-17T13:25:27.408Z"
   },
   {
    "duration": 33,
    "start_time": "2021-10-17T13:25:28.288Z"
   },
   {
    "duration": 38,
    "start_time": "2021-10-17T13:25:38.241Z"
   },
   {
    "duration": 1472,
    "start_time": "2021-10-17T13:26:18.403Z"
   },
   {
    "duration": 1934,
    "start_time": "2021-10-17T13:27:51.185Z"
   },
   {
    "duration": 143,
    "start_time": "2021-10-17T13:27:58.533Z"
   },
   {
    "duration": 11,
    "start_time": "2021-10-17T13:28:02.250Z"
   },
   {
    "duration": 30,
    "start_time": "2021-10-17T13:28:03.096Z"
   },
   {
    "duration": 38,
    "start_time": "2021-10-17T13:28:04.841Z"
   },
   {
    "duration": 1209,
    "start_time": "2021-10-17T13:28:07.835Z"
   },
   {
    "duration": 269,
    "start_time": "2021-10-17T13:28:36.148Z"
   },
   {
    "duration": 7,
    "start_time": "2021-10-17T13:32:17.872Z"
   },
   {
    "duration": 587,
    "start_time": "2021-10-17T13:32:21.655Z"
   },
   {
    "duration": 27,
    "start_time": "2021-10-17T13:36:29.487Z"
   },
   {
    "duration": 27,
    "start_time": "2021-10-17T13:36:40.922Z"
   },
   {
    "duration": 286,
    "start_time": "2021-10-17T13:36:55.894Z"
   },
   {
    "duration": 26,
    "start_time": "2021-10-17T13:37:22.685Z"
   },
   {
    "duration": 1975,
    "start_time": "2021-10-17T13:44:30.059Z"
   },
   {
    "duration": 179,
    "start_time": "2021-10-17T13:44:32.789Z"
   },
   {
    "duration": 11,
    "start_time": "2021-10-17T13:44:47.603Z"
   },
   {
    "duration": 35,
    "start_time": "2021-10-17T13:44:48.516Z"
   },
   {
    "duration": 48,
    "start_time": "2021-10-17T13:44:51.595Z"
   },
   {
    "duration": 32,
    "start_time": "2021-10-17T13:44:52.771Z"
   },
   {
    "duration": 6,
    "start_time": "2021-10-17T13:44:58.723Z"
   },
   {
    "duration": 610,
    "start_time": "2021-10-17T13:45:00.182Z"
   },
   {
    "duration": 1970,
    "start_time": "2021-10-17T13:48:32.381Z"
   },
   {
    "duration": 117,
    "start_time": "2021-10-17T13:48:36.215Z"
   },
   {
    "duration": 11,
    "start_time": "2021-10-17T13:48:42.421Z"
   },
   {
    "duration": 31,
    "start_time": "2021-10-17T13:48:43.408Z"
   },
   {
    "duration": 35,
    "start_time": "2021-10-17T13:48:45.574Z"
   },
   {
    "duration": 26,
    "start_time": "2021-10-17T13:48:50.520Z"
   },
   {
    "duration": 27,
    "start_time": "2021-10-17T13:49:04.535Z"
   },
   {
    "duration": 6,
    "start_time": "2021-10-17T13:51:25.217Z"
   },
   {
    "duration": 126,
    "start_time": "2021-10-17T13:51:25.983Z"
   },
   {
    "duration": 11,
    "start_time": "2021-10-17T13:51:45.521Z"
   },
   {
    "duration": 30,
    "start_time": "2021-10-17T13:51:46.476Z"
   },
   {
    "duration": 36,
    "start_time": "2021-10-17T13:51:49.878Z"
   },
   {
    "duration": 28,
    "start_time": "2021-10-17T13:51:51.521Z"
   },
   {
    "duration": 481,
    "start_time": "2021-10-17T13:55:10.083Z"
   },
   {
    "duration": 27,
    "start_time": "2021-10-17T13:55:24.188Z"
   },
   {
    "duration": 1953,
    "start_time": "2021-10-17T14:00:06.641Z"
   },
   {
    "duration": 133,
    "start_time": "2021-10-17T14:00:08.758Z"
   },
   {
    "duration": 12,
    "start_time": "2021-10-17T14:00:11.964Z"
   },
   {
    "duration": 31,
    "start_time": "2021-10-17T14:00:13.549Z"
   },
   {
    "duration": 39,
    "start_time": "2021-10-17T14:00:16.036Z"
   },
   {
    "duration": 28,
    "start_time": "2021-10-17T14:00:19.182Z"
   },
   {
    "duration": 26,
    "start_time": "2021-10-17T14:00:23.428Z"
   },
   {
    "duration": 573156,
    "start_time": "2021-10-17T14:00:24.579Z"
   },
   {
    "duration": 1802,
    "start_time": "2021-10-17T14:14:02.989Z"
   },
   {
    "duration": 1459,
    "start_time": "2021-10-17T14:14:13.631Z"
   },
   {
    "duration": 463,
    "start_time": "2021-10-17T14:15:02.865Z"
   },
   {
    "duration": 354,
    "start_time": "2021-10-17T14:20:32.049Z"
   },
   {
    "duration": 2227,
    "start_time": "2021-10-17T14:21:23.413Z"
   },
   {
    "duration": 165,
    "start_time": "2021-10-17T14:21:26.448Z"
   },
   {
    "duration": 11,
    "start_time": "2021-10-17T14:21:29.848Z"
   },
   {
    "duration": 34,
    "start_time": "2021-10-17T14:21:30.777Z"
   },
   {
    "duration": 35,
    "start_time": "2021-10-17T14:21:33.342Z"
   },
   {
    "duration": 27,
    "start_time": "2021-10-17T14:21:34.432Z"
   },
   {
    "duration": 476,
    "start_time": "2021-10-17T14:21:37.801Z"
   },
   {
    "duration": 715,
    "start_time": "2021-10-17T14:37:24.912Z"
   },
   {
    "duration": 23,
    "start_time": "2021-10-17T14:37:51.575Z"
   },
   {
    "duration": 2277,
    "start_time": "2021-10-17T14:37:59.283Z"
   },
   {
    "duration": 163,
    "start_time": "2021-10-17T14:38:03.017Z"
   },
   {
    "duration": 11,
    "start_time": "2021-10-17T14:38:06.443Z"
   },
   {
    "duration": 32,
    "start_time": "2021-10-17T14:38:07.707Z"
   },
   {
    "duration": 40,
    "start_time": "2021-10-17T14:38:37.574Z"
   },
   {
    "duration": 29,
    "start_time": "2021-10-17T14:38:40.086Z"
   },
   {
    "duration": 22,
    "start_time": "2021-10-17T14:38:43.827Z"
   },
   {
    "duration": 574745,
    "start_time": "2021-10-17T14:38:46.787Z"
   },
   {
    "duration": 778,
    "start_time": "2021-10-17T14:59:31.406Z"
   },
   {
    "duration": 18,
    "start_time": "2021-10-17T14:59:58.873Z"
   },
   {
    "duration": 32,
    "start_time": "2021-10-17T15:31:15.942Z"
   },
   {
    "duration": 1988,
    "start_time": "2021-10-17T15:31:24.366Z"
   },
   {
    "duration": 221,
    "start_time": "2021-10-17T15:31:26.357Z"
   },
   {
    "duration": 11,
    "start_time": "2021-10-17T15:31:28.967Z"
   },
   {
    "duration": 31,
    "start_time": "2021-10-17T15:31:29.668Z"
   },
   {
    "duration": 43,
    "start_time": "2021-10-17T15:31:32.688Z"
   },
   {
    "duration": 27,
    "start_time": "2021-10-17T15:31:33.398Z"
   },
   {
    "duration": 45,
    "start_time": "2021-10-17T15:31:34.764Z"
   },
   {
    "duration": 29,
    "start_time": "2021-10-17T15:31:47.069Z"
   },
   {
    "duration": 146,
    "start_time": "2021-10-17T15:40:02.700Z"
   },
   {
    "duration": 160,
    "start_time": "2021-10-17T15:40:50.871Z"
   },
   {
    "duration": 99,
    "start_time": "2021-10-17T15:41:05.859Z"
   },
   {
    "duration": 2717,
    "start_time": "2021-10-17T15:41:21.177Z"
   },
   {
    "duration": 243,
    "start_time": "2021-10-17T15:41:23.898Z"
   },
   {
    "duration": 11,
    "start_time": "2021-10-17T15:41:29.186Z"
   },
   {
    "duration": 45,
    "start_time": "2021-10-17T15:41:29.947Z"
   },
   {
    "duration": 53,
    "start_time": "2021-10-17T15:41:32.444Z"
   },
   {
    "duration": 42,
    "start_time": "2021-10-17T15:41:33.978Z"
   },
   {
    "duration": 110,
    "start_time": "2021-10-17T15:41:37.610Z"
   },
   {
    "duration": 106,
    "start_time": "2021-10-17T15:42:11.171Z"
   },
   {
    "duration": 120,
    "start_time": "2021-10-17T15:42:29.020Z"
   },
   {
    "duration": 1983,
    "start_time": "2021-10-17T15:42:38.384Z"
   },
   {
    "duration": 171,
    "start_time": "2021-10-17T15:42:41.041Z"
   },
   {
    "duration": 13,
    "start_time": "2021-10-17T15:42:43.337Z"
   },
   {
    "duration": 33,
    "start_time": "2021-10-17T15:42:44.032Z"
   },
   {
    "duration": 38,
    "start_time": "2021-10-17T15:42:46.553Z"
   },
   {
    "duration": 28,
    "start_time": "2021-10-17T15:42:47.568Z"
   },
   {
    "duration": 104,
    "start_time": "2021-10-17T15:42:48.905Z"
   },
   {
    "duration": 666,
    "start_time": "2021-10-17T15:43:03.015Z"
   },
   {
    "duration": 2198,
    "start_time": "2021-10-17T15:43:33.120Z"
   },
   {
    "duration": 158,
    "start_time": "2021-10-17T15:43:36.362Z"
   },
   {
    "duration": 12,
    "start_time": "2021-10-17T15:43:39.174Z"
   },
   {
    "duration": 61,
    "start_time": "2021-10-17T15:43:39.858Z"
   },
   {
    "duration": 47,
    "start_time": "2021-10-17T15:43:42.064Z"
   },
   {
    "duration": 34,
    "start_time": "2021-10-17T15:43:42.737Z"
   },
   {
    "duration": 110,
    "start_time": "2021-10-17T15:43:57.339Z"
   },
   {
    "duration": 26,
    "start_time": "2021-10-17T15:43:58.776Z"
   },
   {
    "duration": 1507,
    "start_time": "2021-10-17T15:44:04.264Z"
   },
   {
    "duration": 112,
    "start_time": "2021-10-17T15:45:18.927Z"
   },
   {
    "duration": 110,
    "start_time": "2021-10-17T15:45:37.531Z"
   },
   {
    "duration": 118,
    "start_time": "2021-10-17T15:45:48.344Z"
   },
   {
    "duration": 164,
    "start_time": "2021-10-17T15:45:59.548Z"
   },
   {
    "duration": 33,
    "start_time": "2021-10-17T15:46:05.969Z"
   },
   {
    "duration": 2057,
    "start_time": "2021-10-17T15:46:07.179Z"
   },
   {
    "duration": 1035,
    "start_time": "2021-10-17T15:50:34.499Z"
   },
   {
    "duration": 14,
    "start_time": "2021-10-17T15:56:23.792Z"
   },
   {
    "duration": 34,
    "start_time": "2021-10-17T15:56:24.991Z"
   },
   {
    "duration": 9,
    "start_time": "2021-10-17T15:58:21.468Z"
   },
   {
    "duration": 19,
    "start_time": "2021-10-17T15:58:23.394Z"
   },
   {
    "duration": 26,
    "start_time": "2021-10-17T15:58:27.753Z"
   },
   {
    "duration": 554941,
    "start_time": "2021-10-17T15:58:28.409Z"
   },
   {
    "duration": 871,
    "start_time": "2021-10-17T16:08:16.714Z"
   },
   {
    "duration": 18,
    "start_time": "2021-10-17T16:08:18.704Z"
   },
   {
    "duration": 6,
    "start_time": "2021-10-17T16:09:49.859Z"
   },
   {
    "duration": 17,
    "start_time": "2021-10-17T16:09:50.788Z"
   },
   {
    "duration": 17,
    "start_time": "2021-10-17T16:14:20.244Z"
   },
   {
    "duration": 268,
    "start_time": "2021-10-17T16:18:39.046Z"
   },
   {
    "duration": 1216,
    "start_time": "2021-10-17T16:19:28.696Z"
   },
   {
    "duration": 1838,
    "start_time": "2021-10-17T16:20:16.161Z"
   },
   {
    "duration": 1277,
    "start_time": "2021-10-17T16:20:24.512Z"
   },
   {
    "duration": 465,
    "start_time": "2021-10-17T16:20:27.735Z"
   },
   {
    "duration": 282,
    "start_time": "2021-10-17T16:20:33.481Z"
   },
   {
    "duration": 16,
    "start_time": "2021-10-17T16:20:42.113Z"
   },
   {
    "duration": 1454,
    "start_time": "2021-10-17T16:20:45.953Z"
   },
   {
    "duration": 3621,
    "start_time": "2021-10-17T16:21:01.910Z"
   },
   {
    "duration": 201,
    "start_time": "2021-10-17T16:21:07.590Z"
   },
   {
    "duration": 11,
    "start_time": "2021-10-17T16:21:12.620Z"
   },
   {
    "duration": 32,
    "start_time": "2021-10-17T16:21:14.807Z"
   },
   {
    "duration": 38,
    "start_time": "2021-10-17T16:21:17.092Z"
   },
   {
    "duration": 43,
    "start_time": "2021-10-17T16:21:19.326Z"
   },
   {
    "duration": 106,
    "start_time": "2021-10-17T16:21:22.735Z"
   },
   {
    "duration": 9,
    "start_time": "2021-10-17T16:21:25.442Z"
   },
   {
    "duration": 22,
    "start_time": "2021-10-17T16:21:26.012Z"
   },
   {
    "duration": 31,
    "start_time": "2021-10-17T16:21:26.971Z"
   },
   {
    "duration": 2130,
    "start_time": "2021-10-17T16:29:10.371Z"
   },
   {
    "duration": 810,
    "start_time": "2021-10-17T16:29:15.029Z"
   },
   {
    "duration": 12,
    "start_time": "2021-10-17T16:29:18.740Z"
   },
   {
    "duration": 33,
    "start_time": "2021-10-17T16:29:19.588Z"
   },
   {
    "duration": 40,
    "start_time": "2021-10-17T16:29:20.558Z"
   },
   {
    "duration": 28,
    "start_time": "2021-10-17T16:29:22.596Z"
   },
   {
    "duration": 91,
    "start_time": "2021-10-17T16:29:24.419Z"
   },
   {
    "duration": 8,
    "start_time": "2021-10-17T16:29:25.779Z"
   },
   {
    "duration": 1205,
    "start_time": "2021-10-17T16:29:26.733Z"
   },
   {
    "duration": 32,
    "start_time": "2021-10-17T16:29:38.269Z"
   },
   {
    "duration": 1932,
    "start_time": "2021-10-17T16:30:44.898Z"
   },
   {
    "duration": 129,
    "start_time": "2021-10-17T16:30:48.623Z"
   },
   {
    "duration": 12,
    "start_time": "2021-10-17T16:30:50.788Z"
   },
   {
    "duration": 33,
    "start_time": "2021-10-17T16:30:51.421Z"
   },
   {
    "duration": 49,
    "start_time": "2021-10-17T16:30:52.044Z"
   },
   {
    "duration": 27,
    "start_time": "2021-10-17T16:30:53.155Z"
   },
   {
    "duration": 89,
    "start_time": "2021-10-17T16:30:54.494Z"
   },
   {
    "duration": 10,
    "start_time": "2021-10-17T16:30:55.666Z"
   },
   {
    "duration": 25,
    "start_time": "2021-10-17T16:30:56.251Z"
   },
   {
    "duration": 11,
    "start_time": "2021-10-17T16:30:56.988Z"
   },
   {
    "duration": 533036,
    "start_time": "2021-10-17T16:30:57.848Z"
   },
   {
    "duration": 698,
    "start_time": "2021-10-17T16:39:57.204Z"
   },
   {
    "duration": 6,
    "start_time": "2021-10-17T16:40:04.718Z"
   },
   {
    "duration": 17,
    "start_time": "2021-10-17T16:40:06.356Z"
   },
   {
    "duration": 4455,
    "start_time": "2021-10-17T16:40:16.445Z"
   },
   {
    "duration": 5,
    "start_time": "2021-10-17T16:40:53.477Z"
   },
   {
    "duration": 4643,
    "start_time": "2021-10-17T16:41:02.108Z"
   },
   {
    "duration": 290,
    "start_time": "2021-10-17T16:44:11.941Z"
   },
   {
    "duration": 2810,
    "start_time": "2021-10-17T16:44:31.865Z"
   },
   {
    "duration": 134,
    "start_time": "2021-10-17T16:44:35.948Z"
   },
   {
    "duration": 319,
    "start_time": "2021-10-17T16:44:41.265Z"
   },
   {
    "duration": 314,
    "start_time": "2021-10-17T16:46:56.055Z"
   },
   {
    "duration": 12,
    "start_time": "2021-10-17T16:51:51.127Z"
   },
   {
    "duration": 1603,
    "start_time": "2021-10-17T16:53:35.458Z"
   },
   {
    "duration": -69429,
    "start_time": "2021-10-17T16:54:46.495Z"
   },
   {
    "duration": 1891,
    "start_time": "2021-10-17T16:54:58.262Z"
   },
   {
    "duration": 169,
    "start_time": "2021-10-17T16:55:02.815Z"
   },
   {
    "duration": 11,
    "start_time": "2021-10-17T16:55:09.653Z"
   },
   {
    "duration": 31,
    "start_time": "2021-10-17T16:55:11.653Z"
   },
   {
    "duration": 36,
    "start_time": "2021-10-17T16:55:22.837Z"
   },
   {
    "duration": 29,
    "start_time": "2021-10-17T16:55:24.239Z"
   },
   {
    "duration": 10,
    "start_time": "2021-10-17T16:55:27.167Z"
   },
   {
    "duration": 89,
    "start_time": "2021-10-17T16:55:32.238Z"
   },
   {
    "duration": 9,
    "start_time": "2021-10-17T16:55:33.958Z"
   },
   {
    "duration": 468,
    "start_time": "2021-10-17T16:55:34.984Z"
   },
   {
    "duration": 7,
    "start_time": "2021-10-17T16:58:03.585Z"
   },
   {
    "duration": 5,
    "start_time": "2021-10-17T16:58:16.785Z"
   },
   {
    "duration": 149,
    "start_time": "2021-10-17T16:58:17.939Z"
   },
   {
    "duration": 2013,
    "start_time": "2021-10-17T16:58:25.966Z"
   },
   {
    "duration": 132,
    "start_time": "2021-10-17T16:58:30.237Z"
   },
   {
    "duration": 11,
    "start_time": "2021-10-17T16:58:32.946Z"
   },
   {
    "duration": 31,
    "start_time": "2021-10-17T16:58:34.532Z"
   },
   {
    "duration": 1680,
    "start_time": "2021-10-17T16:58:37.796Z"
   },
   {
    "duration": 334,
    "start_time": "2021-10-17T16:58:55.180Z"
   },
   {
    "duration": 241,
    "start_time": "2021-10-17T16:59:15.201Z"
   },
   {
    "duration": 35,
    "start_time": "2021-10-17T16:59:16.809Z"
   },
   {
    "duration": 28,
    "start_time": "2021-10-17T16:59:19.029Z"
   },
   {
    "duration": 25,
    "start_time": "2021-10-17T16:59:20.092Z"
   },
   {
    "duration": 9,
    "start_time": "2021-10-17T16:59:21.699Z"
   },
   {
    "duration": 85,
    "start_time": "2021-10-17T16:59:32.925Z"
   },
   {
    "duration": 9,
    "start_time": "2021-10-17T16:59:35.826Z"
   },
   {
    "duration": 27,
    "start_time": "2021-10-17T16:59:39.571Z"
   },
   {
    "duration": 40,
    "start_time": "2021-10-17T17:01:27.374Z"
   },
   {
    "duration": 6,
    "start_time": "2021-10-17T17:02:53.861Z"
   },
   {
    "duration": 123,
    "start_time": "2021-10-17T17:02:55.054Z"
   },
   {
    "duration": 14,
    "start_time": "2021-10-17T17:02:57.881Z"
   },
   {
    "duration": 31,
    "start_time": "2021-10-17T17:02:59.133Z"
   },
   {
    "duration": 240,
    "start_time": "2021-10-17T17:03:02.361Z"
   },
   {
    "duration": 43,
    "start_time": "2021-10-17T17:03:03.437Z"
   },
   {
    "duration": 28,
    "start_time": "2021-10-17T17:03:05.871Z"
   },
   {
    "duration": 40,
    "start_time": "2021-10-17T17:03:09.340Z"
   },
   {
    "duration": 11,
    "start_time": "2021-10-17T17:03:11.133Z"
   },
   {
    "duration": 87,
    "start_time": "2021-10-17T17:03:15.996Z"
   },
   {
    "duration": 24,
    "start_time": "2021-10-17T17:03:23.720Z"
   },
   {
    "duration": 39,
    "start_time": "2021-10-17T17:03:24.507Z"
   },
   {
    "duration": 307,
    "start_time": "2021-10-17T17:03:56.812Z"
   },
   {
    "duration": 276,
    "start_time": "2021-10-17T17:04:17.143Z"
   },
   {
    "duration": 38,
    "start_time": "2021-10-17T17:04:31.334Z"
   },
   {
    "duration": 275,
    "start_time": "2021-10-17T17:05:52.650Z"
   },
   {
    "duration": 576,
    "start_time": "2021-10-17T17:06:45.740Z"
   },
   {
    "duration": 304,
    "start_time": "2021-10-17T17:07:07.067Z"
   },
   {
    "duration": 21,
    "start_time": "2021-10-17T17:07:22.681Z"
   },
   {
    "duration": 11,
    "start_time": "2021-10-17T17:07:30.409Z"
   },
   {
    "duration": 6,
    "start_time": "2021-10-17T17:07:42.887Z"
   },
   {
    "duration": 175,
    "start_time": "2021-10-17T17:07:43.689Z"
   },
   {
    "duration": 11,
    "start_time": "2021-10-17T17:07:47.495Z"
   },
   {
    "duration": 31,
    "start_time": "2021-10-17T17:07:50.001Z"
   },
   {
    "duration": 291,
    "start_time": "2021-10-17T17:08:09.994Z"
   },
   {
    "duration": 38,
    "start_time": "2021-10-17T17:08:11.072Z"
   },
   {
    "duration": 25,
    "start_time": "2021-10-17T17:08:13.171Z"
   },
   {
    "duration": 22,
    "start_time": "2021-10-17T17:08:16.658Z"
   },
   {
    "duration": 9,
    "start_time": "2021-10-17T17:08:20.522Z"
   },
   {
    "duration": 88,
    "start_time": "2021-10-17T17:08:23.217Z"
   },
   {
    "duration": 9,
    "start_time": "2021-10-17T17:08:25.582Z"
   },
   {
    "duration": 24,
    "start_time": "2021-10-17T17:08:35.854Z"
   },
   {
    "duration": 1355,
    "start_time": "2021-10-17T17:09:47.028Z"
   },
   {
    "duration": 1034,
    "start_time": "2021-10-17T17:10:00.458Z"
   },
   {
    "duration": 7,
    "start_time": "2021-10-17T17:10:07.147Z"
   },
   {
    "duration": 17,
    "start_time": "2021-10-17T17:10:12.899Z"
   },
   {
    "duration": 36,
    "start_time": "2021-10-17T17:10:54.162Z"
   },
   {
    "duration": 552,
    "start_time": "2021-10-17T17:33:00.278Z"
   },
   {
    "duration": 1908,
    "start_time": "2021-10-17T17:34:19.439Z"
   },
   {
    "duration": 196,
    "start_time": "2021-10-17T17:34:22.922Z"
   },
   {
    "duration": 36,
    "start_time": "2021-10-17T17:34:31.320Z"
   },
   {
    "duration": 25,
    "start_time": "2021-10-17T17:34:32.465Z"
   },
   {
    "duration": 23,
    "start_time": "2021-10-17T17:34:35.026Z"
   },
   {
    "duration": 9,
    "start_time": "2021-10-17T17:34:37.056Z"
   },
   {
    "duration": 5,
    "start_time": "2021-10-17T17:34:43.449Z"
   },
   {
    "duration": 6,
    "start_time": "2021-10-17T17:39:17.509Z"
   },
   {
    "duration": 6,
    "start_time": "2021-10-17T17:39:30.332Z"
   },
   {
    "duration": 5,
    "start_time": "2021-10-17T17:39:56.124Z"
   },
   {
    "duration": 5,
    "start_time": "2021-10-17T17:46:15.069Z"
   },
   {
    "duration": 479,
    "start_time": "2021-10-17T17:46:23.967Z"
   },
   {
    "duration": 2098,
    "start_time": "2021-10-17T17:48:03.813Z"
   },
   {
    "duration": 208,
    "start_time": "2021-10-17T17:48:05.914Z"
   },
   {
    "duration": 439,
    "start_time": "2021-10-17T17:48:10.445Z"
   },
   {
    "duration": 36,
    "start_time": "2021-10-17T17:48:11.620Z"
   },
   {
    "duration": 27,
    "start_time": "2021-10-17T17:48:13.349Z"
   },
   {
    "duration": 24,
    "start_time": "2021-10-17T17:48:14.023Z"
   },
   {
    "duration": 12,
    "start_time": "2021-10-17T17:48:14.834Z"
   },
   {
    "duration": 6,
    "start_time": "2021-10-17T17:48:15.652Z"
   },
   {
    "duration": 5,
    "start_time": "2021-10-17T17:48:18.234Z"
   },
   {
    "duration": 573,
    "start_time": "2021-10-17T17:48:19.068Z"
   },
   {
    "duration": 1928,
    "start_time": "2021-10-17T17:48:51.444Z"
   },
   {
    "duration": 186,
    "start_time": "2021-10-17T17:48:53.375Z"
   },
   {
    "duration": 11,
    "start_time": "2021-10-17T17:48:55.691Z"
   },
   {
    "duration": 32,
    "start_time": "2021-10-17T17:48:56.454Z"
   },
   {
    "duration": 479,
    "start_time": "2021-10-17T17:48:57.460Z"
   },
   {
    "duration": 38,
    "start_time": "2021-10-17T17:48:58.304Z"
   },
   {
    "duration": 29,
    "start_time": "2021-10-17T17:48:59.270Z"
   },
   {
    "duration": 24,
    "start_time": "2021-10-17T17:49:00.079Z"
   },
   {
    "duration": 11,
    "start_time": "2021-10-17T17:49:00.941Z"
   },
   {
    "duration": 6,
    "start_time": "2021-10-17T17:49:01.702Z"
   },
   {
    "duration": 6,
    "start_time": "2021-10-17T17:49:02.444Z"
   },
   {
    "duration": 6,
    "start_time": "2021-10-17T17:49:03.099Z"
   },
   {
    "duration": 4,
    "start_time": "2021-10-17T17:49:03.764Z"
   },
   {
    "duration": 1385,
    "start_time": "2021-10-17T17:49:04.872Z"
   },
   {
    "duration": 8,
    "start_time": "2021-10-17T17:56:46.528Z"
   },
   {
    "duration": 19,
    "start_time": "2021-10-17T17:57:17.053Z"
   },
   {
    "duration": 10,
    "start_time": "2021-10-17T17:57:30.442Z"
   },
   {
    "duration": 18,
    "start_time": "2021-10-17T17:57:36.394Z"
   },
   {
    "duration": 6,
    "start_time": "2021-10-17T17:58:53.038Z"
   },
   {
    "duration": 7,
    "start_time": "2021-10-17T17:58:54.500Z"
   },
   {
    "duration": 6,
    "start_time": "2021-10-17T17:58:55.381Z"
   },
   {
    "duration": 8,
    "start_time": "2021-10-17T17:58:56.688Z"
   },
   {
    "duration": 18,
    "start_time": "2021-10-17T17:58:58.687Z"
   },
   {
    "duration": 89,
    "start_time": "2021-10-17T17:59:08.875Z"
   },
   {
    "duration": 8,
    "start_time": "2021-10-17T17:59:10.721Z"
   },
   {
    "duration": 23,
    "start_time": "2021-10-17T17:59:11.429Z"
   },
   {
    "duration": 496134,
    "start_time": "2021-10-17T17:59:17.395Z"
   },
   {
    "duration": 1546,
    "start_time": "2021-10-17T18:08:14.744Z"
   },
   {
    "duration": 6,
    "start_time": "2021-10-17T18:08:16.293Z"
   },
   {
    "duration": 36,
    "start_time": "2021-10-17T18:08:19.116Z"
   },
   {
    "duration": 18,
    "start_time": "2021-10-17T18:08:40.788Z"
   },
   {
    "duration": 5,
    "start_time": "2021-10-17T18:09:31.066Z"
   },
   {
    "duration": 1672,
    "start_time": "2021-10-17T18:10:17.720Z"
   },
   {
    "duration": 305,
    "start_time": "2021-10-17T18:10:20.235Z"
   },
   {
    "duration": 272,
    "start_time": "2021-10-17T18:10:24.348Z"
   },
   {
    "duration": 38,
    "start_time": "2021-10-17T18:10:25.455Z"
   },
   {
    "duration": 20,
    "start_time": "2021-10-17T18:10:30.373Z"
   },
   {
    "duration": 17,
    "start_time": "2021-10-17T18:11:33.676Z"
   },
   {
    "duration": 34,
    "start_time": "2021-10-17T18:11:37.030Z"
   },
   {
    "duration": 19,
    "start_time": "2021-10-17T18:11:38.253Z"
   },
   {
    "duration": 5,
    "start_time": "2021-10-17T18:12:05.413Z"
   },
   {
    "duration": 278,
    "start_time": "2021-10-17T18:13:19.053Z"
   },
   {
    "duration": 1995,
    "start_time": "2021-10-17T18:13:32.777Z"
   },
   {
    "duration": 436,
    "start_time": "2021-10-17T18:15:19.455Z"
   },
   {
    "duration": 1909,
    "start_time": "2021-10-17T18:15:43.668Z"
   },
   {
    "duration": 201,
    "start_time": "2021-10-17T18:15:46.242Z"
   },
   {
    "duration": 11,
    "start_time": "2021-10-17T18:15:50.617Z"
   },
   {
    "duration": 33,
    "start_time": "2021-10-17T18:15:51.391Z"
   },
   {
    "duration": 38,
    "start_time": "2021-10-17T18:15:57.437Z"
   },
   {
    "duration": 25,
    "start_time": "2021-10-17T18:15:58.648Z"
   },
   {
    "duration": 24,
    "start_time": "2021-10-17T18:16:01.953Z"
   },
   {
    "duration": 10,
    "start_time": "2021-10-17T18:16:10.160Z"
   },
   {
    "duration": 6,
    "start_time": "2021-10-17T18:16:12.926Z"
   },
   {
    "duration": 483,
    "start_time": "2021-10-17T18:16:15.006Z"
   },
   {
    "duration": 9,
    "start_time": "2021-10-17T18:16:20.727Z"
   },
   {
    "duration": 9,
    "start_time": "2021-10-17T18:16:22.096Z"
   },
   {
    "duration": 6,
    "start_time": "2021-10-17T18:16:23.743Z"
   },
   {
    "duration": 8,
    "start_time": "2021-10-17T18:16:44.681Z"
   },
   {
    "duration": 8,
    "start_time": "2021-10-17T18:16:46.624Z"
   },
   {
    "duration": 11,
    "start_time": "2021-10-17T18:17:24.072Z"
   },
   {
    "duration": 2028,
    "start_time": "2021-10-17T18:17:36.242Z"
   },
   {
    "duration": 173,
    "start_time": "2021-10-17T18:17:39.659Z"
   },
   {
    "duration": 12,
    "start_time": "2021-10-17T18:17:42.953Z"
   },
   {
    "duration": 30,
    "start_time": "2021-10-17T18:17:43.899Z"
   },
   {
    "duration": 35,
    "start_time": "2021-10-17T18:17:45.275Z"
   },
   {
    "duration": 26,
    "start_time": "2021-10-17T18:17:46.268Z"
   },
   {
    "duration": 22,
    "start_time": "2021-10-17T18:17:48.597Z"
   },
   {
    "duration": 10,
    "start_time": "2021-10-17T18:17:50.451Z"
   },
   {
    "duration": 10,
    "start_time": "2021-10-17T18:17:51.810Z"
   },
   {
    "duration": 7,
    "start_time": "2021-10-17T18:18:02.594Z"
   },
   {
    "duration": 8,
    "start_time": "2021-10-17T18:18:06.642Z"
   },
   {
    "duration": 35,
    "start_time": "2021-10-17T18:20:28.560Z"
   },
   {
    "duration": 18,
    "start_time": "2021-10-17T18:21:13.957Z"
   },
   {
    "duration": 92,
    "start_time": "2021-10-17T18:21:19.307Z"
   },
   {
    "duration": 9,
    "start_time": "2021-10-17T18:21:39.556Z"
   },
   {
    "duration": 23,
    "start_time": "2021-10-17T18:21:40.444Z"
   },
   {
    "duration": 485274,
    "start_time": "2021-10-17T18:21:42.231Z"
   },
   {
    "duration": 1477,
    "start_time": "2021-10-17T18:29:58.411Z"
   },
   {
    "duration": 20,
    "start_time": "2021-10-17T18:30:11.502Z"
   },
   {
    "duration": 6,
    "start_time": "2021-10-17T18:30:21.019Z"
   },
   {
    "duration": 18,
    "start_time": "2021-10-17T18:30:23.376Z"
   },
   {
    "duration": 36,
    "start_time": "2021-10-17T18:30:26.880Z"
   },
   {
    "duration": 26,
    "start_time": "2021-10-17T18:30:30.907Z"
   },
   {
    "duration": 2365,
    "start_time": "2021-10-17T18:30:40.759Z"
   },
   {
    "duration": 19,
    "start_time": "2021-10-17T18:30:53.902Z"
   },
   {
    "duration": 5,
    "start_time": "2021-10-17T18:31:43.096Z"
   },
   {
    "duration": 496,
    "start_time": "2021-10-17T18:32:34.160Z"
   },
   {
    "duration": 7,
    "start_time": "2021-10-17T18:34:20.115Z"
   },
   {
    "duration": 1983,
    "start_time": "2021-10-17T18:34:32.199Z"
   },
   {
    "duration": 181,
    "start_time": "2021-10-17T18:34:35.072Z"
   },
   {
    "duration": 11,
    "start_time": "2021-10-17T18:34:38.453Z"
   },
   {
    "duration": 31,
    "start_time": "2021-10-17T18:34:39.439Z"
   },
   {
    "duration": 38,
    "start_time": "2021-10-17T18:34:47.645Z"
   },
   {
    "duration": 29,
    "start_time": "2021-10-17T18:34:49.008Z"
   },
   {
    "duration": 23,
    "start_time": "2021-10-17T18:34:50.121Z"
   },
   {
    "duration": 11,
    "start_time": "2021-10-17T18:34:51.488Z"
   },
   {
    "duration": 11,
    "start_time": "2021-10-17T18:34:53.784Z"
   },
   {
    "duration": 32,
    "start_time": "2021-10-17T18:34:57.045Z"
   },
   {
    "duration": 20,
    "start_time": "2021-10-17T18:34:58.179Z"
   },
   {
    "duration": 89,
    "start_time": "2021-10-17T18:35:00.150Z"
   },
   {
    "duration": 1307,
    "start_time": "2021-10-17T18:35:01.377Z"
   },
   {
    "duration": 10,
    "start_time": "2021-10-17T18:35:36.143Z"
   },
   {
    "duration": 6,
    "start_time": "2021-10-17T18:35:36.949Z"
   },
   {
    "duration": 10,
    "start_time": "2021-10-17T18:35:38.223Z"
   },
   {
    "duration": 1940,
    "start_time": "2021-10-17T18:35:45.704Z"
   },
   {
    "duration": 191,
    "start_time": "2021-10-17T18:35:50.807Z"
   },
   {
    "duration": 12,
    "start_time": "2021-10-17T18:35:53.134Z"
   },
   {
    "duration": 32,
    "start_time": "2021-10-17T18:35:53.915Z"
   },
   {
    "duration": 40,
    "start_time": "2021-10-17T18:35:54.639Z"
   },
   {
    "duration": 27,
    "start_time": "2021-10-17T18:35:55.289Z"
   },
   {
    "duration": 24,
    "start_time": "2021-10-17T18:35:56.072Z"
   },
   {
    "duration": 10,
    "start_time": "2021-10-17T18:35:56.782Z"
   },
   {
    "duration": 10,
    "start_time": "2021-10-17T18:35:57.463Z"
   },
   {
    "duration": 32,
    "start_time": "2021-10-17T18:35:58.957Z"
   },
   {
    "duration": 18,
    "start_time": "2021-10-17T18:35:59.744Z"
   },
   {
    "duration": 86,
    "start_time": "2021-10-17T18:36:01.393Z"
   },
   {
    "duration": 8,
    "start_time": "2021-10-17T18:36:03.870Z"
   },
   {
    "duration": 7,
    "start_time": "2021-10-17T18:36:04.551Z"
   },
   {
    "duration": 10,
    "start_time": "2021-10-17T18:36:05.943Z"
   },
   {
    "duration": 484090,
    "start_time": "2021-10-17T18:36:09.895Z"
   },
   {
    "duration": 1505,
    "start_time": "2021-10-17T18:46:58.205Z"
   },
   {
    "duration": 6,
    "start_time": "2021-10-17T18:47:02.134Z"
   },
   {
    "duration": 19,
    "start_time": "2021-10-17T18:47:04.620Z"
   },
   {
    "duration": 41,
    "start_time": "2021-10-17T18:47:08.013Z"
   },
   {
    "duration": 20,
    "start_time": "2021-10-17T18:47:14.315Z"
   },
   {
    "duration": 454,
    "start_time": "2021-10-17T20:28:43.887Z"
   },
   {
    "duration": 1804,
    "start_time": "2021-10-17T20:28:51.918Z"
   },
   {
    "duration": 167,
    "start_time": "2021-10-17T20:28:54.410Z"
   },
   {
    "duration": 169,
    "start_time": "2021-10-17T20:29:17.670Z"
   },
   {
    "duration": 13,
    "start_time": "2021-10-17T20:29:24.009Z"
   },
   {
    "duration": 33,
    "start_time": "2021-10-17T20:29:26.018Z"
   },
   {
    "duration": 9,
    "start_time": "2021-10-17T20:30:16.160Z"
   },
   {
    "duration": 30,
    "start_time": "2021-10-17T20:30:18.458Z"
   },
   {
    "duration": 35,
    "start_time": "2021-10-17T20:30:27.430Z"
   },
   {
    "duration": 21,
    "start_time": "2021-10-17T20:30:31.163Z"
   },
   {
    "duration": 21,
    "start_time": "2021-10-17T20:31:58.731Z"
   },
   {
    "duration": 18,
    "start_time": "2021-10-17T20:35:52.815Z"
   },
   {
    "duration": 10,
    "start_time": "2021-10-17T20:35:53.002Z"
   },
   {
    "duration": 13,
    "start_time": "2021-10-17T20:48:06.431Z"
   },
   {
    "duration": 1872,
    "start_time": "2021-10-17T20:48:13.676Z"
   },
   {
    "duration": 162,
    "start_time": "2021-10-17T20:48:16.806Z"
   },
   {
    "duration": 12,
    "start_time": "2021-10-17T20:48:21.400Z"
   },
   {
    "duration": 30,
    "start_time": "2021-10-17T20:48:22.242Z"
   },
   {
    "duration": 35,
    "start_time": "2021-10-17T20:48:29.298Z"
   },
   {
    "duration": 21,
    "start_time": "2021-10-17T20:48:34.178Z"
   },
   {
    "duration": 19,
    "start_time": "2021-10-17T20:48:43.559Z"
   },
   {
    "duration": 10,
    "start_time": "2021-10-17T20:48:45.066Z"
   },
   {
    "duration": 12,
    "start_time": "2021-10-17T20:48:48.377Z"
   },
   {
    "duration": 32,
    "start_time": "2021-10-17T20:48:56.290Z"
   },
   {
    "duration": 11,
    "start_time": "2021-10-17T20:48:57.257Z"
   },
   {
    "duration": 86,
    "start_time": "2021-10-17T20:49:10.954Z"
   },
   {
    "duration": 9,
    "start_time": "2021-10-17T20:49:12.481Z"
   },
   {
    "duration": 5,
    "start_time": "2021-10-17T20:49:13.146Z"
   },
   {
    "duration": 1915,
    "start_time": "2021-10-17T20:50:07.000Z"
   },
   {
    "duration": 167,
    "start_time": "2021-10-17T20:50:09.404Z"
   },
   {
    "duration": 10,
    "start_time": "2021-10-17T20:50:13.700Z"
   },
   {
    "duration": 30,
    "start_time": "2021-10-17T20:50:15.071Z"
   },
   {
    "duration": 36,
    "start_time": "2021-10-17T20:50:21.338Z"
   },
   {
    "duration": 20,
    "start_time": "2021-10-17T20:50:23.165Z"
   },
   {
    "duration": 16,
    "start_time": "2021-10-17T20:50:26.749Z"
   },
   {
    "duration": 10,
    "start_time": "2021-10-17T20:50:28.198Z"
   },
   {
    "duration": 11,
    "start_time": "2021-10-17T20:50:31.945Z"
   },
   {
    "duration": 34,
    "start_time": "2021-10-17T20:50:34.933Z"
   },
   {
    "duration": 13,
    "start_time": "2021-10-17T20:50:35.644Z"
   },
   {
    "duration": 19,
    "start_time": "2021-10-17T20:51:10.002Z"
   },
   {
    "duration": 185,
    "start_time": "2021-10-17T20:51:37.214Z"
   },
   {
    "duration": 12,
    "start_time": "2021-10-17T20:52:06.954Z"
   },
   {
    "duration": 167,
    "start_time": "2021-10-17T20:52:22.049Z"
   },
   {
    "duration": 1922,
    "start_time": "2021-10-17T21:02:18.842Z"
   },
   {
    "duration": 128,
    "start_time": "2021-10-17T21:02:21.462Z"
   },
   {
    "duration": 13,
    "start_time": "2021-10-17T21:02:24.737Z"
   },
   {
    "duration": 32,
    "start_time": "2021-10-17T21:02:25.603Z"
   },
   {
    "duration": 36,
    "start_time": "2021-10-17T21:02:27.897Z"
   },
   {
    "duration": 22,
    "start_time": "2021-10-17T21:02:30.443Z"
   },
   {
    "duration": 17,
    "start_time": "2021-10-17T21:02:32.436Z"
   },
   {
    "duration": 10,
    "start_time": "2021-10-17T21:02:34.091Z"
   },
   {
    "duration": 11,
    "start_time": "2021-10-17T21:02:37.167Z"
   },
   {
    "duration": 34,
    "start_time": "2021-10-17T21:02:43.481Z"
   },
   {
    "duration": 14,
    "start_time": "2021-10-17T21:02:44.082Z"
   },
   {
    "duration": 12,
    "start_time": "2021-10-17T21:02:57.547Z"
   },
   {
    "duration": 85,
    "start_time": "2021-10-17T21:02:59.184Z"
   },
   {
    "duration": 9,
    "start_time": "2021-10-17T21:03:00.794Z"
   },
   {
    "duration": 20,
    "start_time": "2021-10-17T21:03:15.946Z"
   },
   {
    "duration": 6,
    "start_time": "2021-10-17T21:04:08.385Z"
   },
   {
    "duration": 4,
    "start_time": "2021-10-17T21:05:18.211Z"
   },
   {
    "duration": 10,
    "start_time": "2021-10-17T21:05:20.706Z"
   },
   {
    "duration": 487314,
    "start_time": "2021-10-17T21:05:22.749Z"
   },
   {
    "duration": 1283,
    "start_time": "2021-10-17T21:41:24.811Z"
   },
   {
    "duration": 6,
    "start_time": "2021-10-17T21:41:28.946Z"
   },
   {
    "duration": 20,
    "start_time": "2021-10-17T21:41:30.377Z"
   },
   {
    "duration": 19,
    "start_time": "2021-10-17T21:41:34.130Z"
   },
   {
    "duration": 15,
    "start_time": "2021-10-17T21:42:03.779Z"
   },
   {
    "duration": 17,
    "start_time": "2021-10-17T21:42:08.809Z"
   },
   {
    "duration": 1925,
    "start_time": "2021-10-17T22:58:54.325Z"
   },
   {
    "duration": 197,
    "start_time": "2021-10-17T22:58:56.789Z"
   },
   {
    "duration": 11,
    "start_time": "2021-10-17T22:59:02.405Z"
   },
   {
    "duration": 33,
    "start_time": "2021-10-17T22:59:03.438Z"
   },
   {
    "duration": 37,
    "start_time": "2021-10-17T22:59:05.812Z"
   },
   {
    "duration": 21,
    "start_time": "2021-10-17T22:59:07.461Z"
   },
   {
    "duration": 18,
    "start_time": "2021-10-17T22:59:09.165Z"
   },
   {
    "duration": 11,
    "start_time": "2021-10-17T22:59:10.030Z"
   },
   {
    "duration": 11,
    "start_time": "2021-10-17T22:59:15.571Z"
   },
   {
    "duration": 36,
    "start_time": "2021-10-17T22:59:37.573Z"
   },
   {
    "duration": 12,
    "start_time": "2021-10-17T22:59:38.951Z"
   },
   {
    "duration": 82,
    "start_time": "2021-10-17T22:59:40.996Z"
   },
   {
    "duration": 9,
    "start_time": "2021-10-17T22:59:43.093Z"
   },
   {
    "duration": 18,
    "start_time": "2021-10-17T22:59:44.930Z"
   },
   {
    "duration": 6,
    "start_time": "2021-10-17T22:59:54.029Z"
   },
   {
    "duration": 12,
    "start_time": "2021-10-17T22:59:57.965Z"
   },
   {
    "duration": 472424,
    "start_time": "2021-10-17T23:00:00.710Z"
   },
   {
    "duration": 1354,
    "start_time": "2021-10-17T23:14:34.840Z"
   },
   {
    "duration": 5,
    "start_time": "2021-10-17T23:14:38.590Z"
   },
   {
    "duration": 18,
    "start_time": "2021-10-17T23:14:39.951Z"
   },
   {
    "duration": 18,
    "start_time": "2021-10-17T23:14:41.382Z"
   },
   {
    "duration": 1825,
    "start_time": "2021-10-17T23:16:22.880Z"
   },
   {
    "duration": 136,
    "start_time": "2021-10-17T23:16:25.963Z"
   },
   {
    "duration": 10,
    "start_time": "2021-10-17T23:16:29.625Z"
   },
   {
    "duration": 32,
    "start_time": "2021-10-17T23:16:30.530Z"
   },
   {
    "duration": 37,
    "start_time": "2021-10-17T23:16:33.209Z"
   },
   {
    "duration": 21,
    "start_time": "2021-10-17T23:16:34.802Z"
   },
   {
    "duration": 18,
    "start_time": "2021-10-17T23:16:37.546Z"
   },
   {
    "duration": 10,
    "start_time": "2021-10-17T23:16:38.321Z"
   },
   {
    "duration": 9,
    "start_time": "2021-10-17T23:16:39.825Z"
   },
   {
    "duration": 32,
    "start_time": "2021-10-17T23:16:51.322Z"
   },
   {
    "duration": 12,
    "start_time": "2021-10-17T23:16:52.187Z"
   },
   {
    "duration": 84,
    "start_time": "2021-10-17T23:16:55.417Z"
   },
   {
    "duration": 8,
    "start_time": "2021-10-17T23:16:56.841Z"
   },
   {
    "duration": 6,
    "start_time": "2021-10-17T23:16:59.065Z"
   },
   {
    "duration": 11,
    "start_time": "2021-10-17T23:17:01.137Z"
   },
   {
    "duration": 472646,
    "start_time": "2021-10-17T23:17:05.477Z"
   },
   {
    "duration": 1455,
    "start_time": "2021-10-17T23:25:14.447Z"
   },
   {
    "duration": 6,
    "start_time": "2021-10-17T23:25:17.982Z"
   },
   {
    "duration": 19,
    "start_time": "2021-10-17T23:25:19.761Z"
   },
   {
    "duration": 17,
    "start_time": "2021-10-17T23:25:22.710Z"
   }
  ],
  "kernelspec": {
   "display_name": "Python 3",
   "language": "python",
   "name": "python3"
  },
  "language_info": {
   "codemirror_mode": {
    "name": "ipython",
    "version": 3
   },
   "file_extension": ".py",
   "mimetype": "text/x-python",
   "name": "python",
   "nbconvert_exporter": "python",
   "pygments_lexer": "ipython3",
   "version": "3.7.8"
  },
  "toc": {
   "base_numbering": 1,
   "nav_menu": {},
   "number_sections": true,
   "sideBar": true,
   "skip_h1_title": true,
   "title_cell": "Table of Contents",
   "title_sidebar": "Contents",
   "toc_cell": false,
   "toc_position": {},
   "toc_section_display": true,
   "toc_window_display": false
  }
 },
 "nbformat": 4,
 "nbformat_minor": 2
}
