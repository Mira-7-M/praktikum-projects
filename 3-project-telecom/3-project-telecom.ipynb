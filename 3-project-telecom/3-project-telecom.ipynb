{
 "cells": [
  {
   "cell_type": "markdown",
   "metadata": {},
   "source": [
    "# Определение перспективного тарифа для телеком компании\n",
    "\n"
   ]
  },
  {
   "cell_type": "markdown",
   "metadata": {},
   "source": [
    "**Описание проекта**\n",
    "  \n",
    "**Цель**: Определить, какой тариф приносит компании больше денег.  \n",
    "  \n",
    "  \n",
    "**Описание тарифов**  \n",
    "  \n",
    "**Тариф «Смарт»**  \n",
    "1.\tЕжемесячная плата: 550 рублей  \n",
    "2.\tВключено 500 минут разговора, 50 сообщений и 15 Гб интернет-трафика  \n",
    "3.\tСтоимость услуг сверх тарифного пакета:  \n",
    "•\tминута разговора: 3 рубля  \n",
    "•\tсообщение: 3 рубля  \n",
    "•\t1 Гб интернет-трафика: 200 рублей  \n",
    "  \n",
    "**Тариф «Ультра»**  \n",
    "1.\tЕжемесячная плата: 1950 рублей  \n",
    "2.\tВключено 3000 минут разговора, 1000 сообщений и 30 Гб интернет-трафика  \n",
    "3.\tСтоимость услуг сверх тарифного пакета:  \n",
    "•\tминута разговора: 1 рубль  \n",
    "•\tсообщение: 1 рубль  \n",
    "•\t1 Гб интернет-трафика: 150 рублей  \n",
    "  \n",
    "Важно: «Мегалайн» всегда округляет вверх значения минут и мегабайтов. Если пользователь проговорил всего 1 секунду, в тарифе засчитывается целая минута.  \n",
    "      \n",
    "\n"
   ]
  },
  {
   "cell_type": "markdown",
   "metadata": {},
   "source": [
    "**Этапы выполнения:**\n",
    "  \n",
    "**Шаг 1. Открыть файлы с данными и изучить общую информацию**  \n",
    "  \n",
    "**Шаг 2. Подготовить данные**  \n",
    "•\tПривести данные к нужным типам  \n",
    "•\tНайти и исправить ошибки в данных  \n",
    "   \n",
    "  Посчитать для каждого пользователя:  \n",
    "•\tколичество сделанных звонков и израсходованных минут разговора по месяцам  \n",
    "•\tколичество отправленных сообщений по месяцам  \n",
    "•\tобъем израсходованного интернет-трафика по месяцам  \n",
    "•\tпомесячную выручку с каждого пользователя    \n",
    "  \n",
    "**Шаг 3. Проанализировать данные**  \n",
    "• Описать поведение клиентов оператора, исходя из выборки  \n",
    "• Сколько минут разговора, сколько сообщений и какой объем интернет-трафика требуется пользователям каждого тарифа в месяц?   \n",
    "• Посчитать среднее количество, дисперсию и стандартное отклонение  \n",
    "•Построить гистограммы  \n",
    "•Описать распределения  \n",
    "  \n",
    "**Шаг 4. Проверить гипотезы**  \n",
    "•\tСредняя выручка пользователей тарифов «Ультра» и «Смарт» различается  \n",
    "•\tСредняя выручка пользователей из Москвы отличается от выручки пользователей из других регионов\n",
    "  \n",
    "**Шаг 5. Написать общий вывод**\n",
    "\n"
   ]
  },
  {
   "cell_type": "markdown",
   "metadata": {},
   "source": [
    "# 1. Откроем файл с данными и изучим общую информацию"
   ]
  },
  {
   "cell_type": "code",
   "execution_count": 1,
   "metadata": {},
   "outputs": [
    {
     "data": {
      "text/html": [
       "<div>\n",
       "<style scoped>\n",
       "    .dataframe tbody tr th:only-of-type {\n",
       "        vertical-align: middle;\n",
       "    }\n",
       "\n",
       "    .dataframe tbody tr th {\n",
       "        vertical-align: top;\n",
       "    }\n",
       "\n",
       "    .dataframe thead th {\n",
       "        text-align: right;\n",
       "    }\n",
       "</style>\n",
       "<table border=\"1\" class=\"dataframe\">\n",
       "  <thead>\n",
       "    <tr style=\"text-align: right;\">\n",
       "      <th></th>\n",
       "      <th>id</th>\n",
       "      <th>call_date</th>\n",
       "      <th>duration</th>\n",
       "      <th>user_id</th>\n",
       "    </tr>\n",
       "  </thead>\n",
       "  <tbody>\n",
       "    <tr>\n",
       "      <td>0</td>\n",
       "      <td>1000_0</td>\n",
       "      <td>2018-07-25</td>\n",
       "      <td>0.00</td>\n",
       "      <td>1000</td>\n",
       "    </tr>\n",
       "    <tr>\n",
       "      <td>1</td>\n",
       "      <td>1000_1</td>\n",
       "      <td>2018-08-17</td>\n",
       "      <td>0.00</td>\n",
       "      <td>1000</td>\n",
       "    </tr>\n",
       "    <tr>\n",
       "      <td>2</td>\n",
       "      <td>1000_2</td>\n",
       "      <td>2018-06-11</td>\n",
       "      <td>2.85</td>\n",
       "      <td>1000</td>\n",
       "    </tr>\n",
       "    <tr>\n",
       "      <td>3</td>\n",
       "      <td>1000_3</td>\n",
       "      <td>2018-09-21</td>\n",
       "      <td>13.80</td>\n",
       "      <td>1000</td>\n",
       "    </tr>\n",
       "    <tr>\n",
       "      <td>4</td>\n",
       "      <td>1000_4</td>\n",
       "      <td>2018-12-15</td>\n",
       "      <td>5.18</td>\n",
       "      <td>1000</td>\n",
       "    </tr>\n",
       "  </tbody>\n",
       "</table>\n",
       "</div>"
      ],
      "text/plain": [
       "       id   call_date  duration  user_id\n",
       "0  1000_0  2018-07-25      0.00     1000\n",
       "1  1000_1  2018-08-17      0.00     1000\n",
       "2  1000_2  2018-06-11      2.85     1000\n",
       "3  1000_3  2018-09-21     13.80     1000\n",
       "4  1000_4  2018-12-15      5.18     1000"
      ]
     },
     "metadata": {},
     "output_type": "display_data"
    },
    {
     "data": {
      "text/html": [
       "<div>\n",
       "<style scoped>\n",
       "    .dataframe tbody tr th:only-of-type {\n",
       "        vertical-align: middle;\n",
       "    }\n",
       "\n",
       "    .dataframe tbody tr th {\n",
       "        vertical-align: top;\n",
       "    }\n",
       "\n",
       "    .dataframe thead th {\n",
       "        text-align: right;\n",
       "    }\n",
       "</style>\n",
       "<table border=\"1\" class=\"dataframe\">\n",
       "  <thead>\n",
       "    <tr style=\"text-align: right;\">\n",
       "      <th></th>\n",
       "      <th>Unnamed: 0</th>\n",
       "      <th>id</th>\n",
       "      <th>mb_used</th>\n",
       "      <th>session_date</th>\n",
       "      <th>user_id</th>\n",
       "    </tr>\n",
       "  </thead>\n",
       "  <tbody>\n",
       "    <tr>\n",
       "      <td>0</td>\n",
       "      <td>0</td>\n",
       "      <td>1000_0</td>\n",
       "      <td>112.95</td>\n",
       "      <td>2018-11-25</td>\n",
       "      <td>1000</td>\n",
       "    </tr>\n",
       "    <tr>\n",
       "      <td>1</td>\n",
       "      <td>1</td>\n",
       "      <td>1000_1</td>\n",
       "      <td>1052.81</td>\n",
       "      <td>2018-09-07</td>\n",
       "      <td>1000</td>\n",
       "    </tr>\n",
       "    <tr>\n",
       "      <td>2</td>\n",
       "      <td>2</td>\n",
       "      <td>1000_2</td>\n",
       "      <td>1197.26</td>\n",
       "      <td>2018-06-25</td>\n",
       "      <td>1000</td>\n",
       "    </tr>\n",
       "    <tr>\n",
       "      <td>3</td>\n",
       "      <td>3</td>\n",
       "      <td>1000_3</td>\n",
       "      <td>550.27</td>\n",
       "      <td>2018-08-22</td>\n",
       "      <td>1000</td>\n",
       "    </tr>\n",
       "    <tr>\n",
       "      <td>4</td>\n",
       "      <td>4</td>\n",
       "      <td>1000_4</td>\n",
       "      <td>302.56</td>\n",
       "      <td>2018-09-24</td>\n",
       "      <td>1000</td>\n",
       "    </tr>\n",
       "  </tbody>\n",
       "</table>\n",
       "</div>"
      ],
      "text/plain": [
       "   Unnamed: 0      id  mb_used session_date  user_id\n",
       "0           0  1000_0   112.95   2018-11-25     1000\n",
       "1           1  1000_1  1052.81   2018-09-07     1000\n",
       "2           2  1000_2  1197.26   2018-06-25     1000\n",
       "3           3  1000_3   550.27   2018-08-22     1000\n",
       "4           4  1000_4   302.56   2018-09-24     1000"
      ]
     },
     "metadata": {},
     "output_type": "display_data"
    },
    {
     "data": {
      "text/html": [
       "<div>\n",
       "<style scoped>\n",
       "    .dataframe tbody tr th:only-of-type {\n",
       "        vertical-align: middle;\n",
       "    }\n",
       "\n",
       "    .dataframe tbody tr th {\n",
       "        vertical-align: top;\n",
       "    }\n",
       "\n",
       "    .dataframe thead th {\n",
       "        text-align: right;\n",
       "    }\n",
       "</style>\n",
       "<table border=\"1\" class=\"dataframe\">\n",
       "  <thead>\n",
       "    <tr style=\"text-align: right;\">\n",
       "      <th></th>\n",
       "      <th>id</th>\n",
       "      <th>message_date</th>\n",
       "      <th>user_id</th>\n",
       "    </tr>\n",
       "  </thead>\n",
       "  <tbody>\n",
       "    <tr>\n",
       "      <td>0</td>\n",
       "      <td>1000_0</td>\n",
       "      <td>2018-06-27</td>\n",
       "      <td>1000</td>\n",
       "    </tr>\n",
       "    <tr>\n",
       "      <td>1</td>\n",
       "      <td>1000_1</td>\n",
       "      <td>2018-10-08</td>\n",
       "      <td>1000</td>\n",
       "    </tr>\n",
       "    <tr>\n",
       "      <td>2</td>\n",
       "      <td>1000_2</td>\n",
       "      <td>2018-08-04</td>\n",
       "      <td>1000</td>\n",
       "    </tr>\n",
       "    <tr>\n",
       "      <td>3</td>\n",
       "      <td>1000_3</td>\n",
       "      <td>2018-06-16</td>\n",
       "      <td>1000</td>\n",
       "    </tr>\n",
       "    <tr>\n",
       "      <td>4</td>\n",
       "      <td>1000_4</td>\n",
       "      <td>2018-12-05</td>\n",
       "      <td>1000</td>\n",
       "    </tr>\n",
       "  </tbody>\n",
       "</table>\n",
       "</div>"
      ],
      "text/plain": [
       "       id message_date  user_id\n",
       "0  1000_0   2018-06-27     1000\n",
       "1  1000_1   2018-10-08     1000\n",
       "2  1000_2   2018-08-04     1000\n",
       "3  1000_3   2018-06-16     1000\n",
       "4  1000_4   2018-12-05     1000"
      ]
     },
     "metadata": {},
     "output_type": "display_data"
    },
    {
     "data": {
      "text/html": [
       "<div>\n",
       "<style scoped>\n",
       "    .dataframe tbody tr th:only-of-type {\n",
       "        vertical-align: middle;\n",
       "    }\n",
       "\n",
       "    .dataframe tbody tr th {\n",
       "        vertical-align: top;\n",
       "    }\n",
       "\n",
       "    .dataframe thead th {\n",
       "        text-align: right;\n",
       "    }\n",
       "</style>\n",
       "<table border=\"1\" class=\"dataframe\">\n",
       "  <thead>\n",
       "    <tr style=\"text-align: right;\">\n",
       "      <th></th>\n",
       "      <th>messages_included</th>\n",
       "      <th>mb_per_month_included</th>\n",
       "      <th>minutes_included</th>\n",
       "      <th>rub_monthly_fee</th>\n",
       "      <th>rub_per_gb</th>\n",
       "      <th>rub_per_message</th>\n",
       "      <th>rub_per_minute</th>\n",
       "      <th>tariff_name</th>\n",
       "    </tr>\n",
       "  </thead>\n",
       "  <tbody>\n",
       "    <tr>\n",
       "      <td>0</td>\n",
       "      <td>50</td>\n",
       "      <td>15360</td>\n",
       "      <td>500</td>\n",
       "      <td>550</td>\n",
       "      <td>200</td>\n",
       "      <td>3</td>\n",
       "      <td>3</td>\n",
       "      <td>smart</td>\n",
       "    </tr>\n",
       "    <tr>\n",
       "      <td>1</td>\n",
       "      <td>1000</td>\n",
       "      <td>30720</td>\n",
       "      <td>3000</td>\n",
       "      <td>1950</td>\n",
       "      <td>150</td>\n",
       "      <td>1</td>\n",
       "      <td>1</td>\n",
       "      <td>ultra</td>\n",
       "    </tr>\n",
       "  </tbody>\n",
       "</table>\n",
       "</div>"
      ],
      "text/plain": [
       "   messages_included  mb_per_month_included  minutes_included  \\\n",
       "0                 50                  15360               500   \n",
       "1               1000                  30720              3000   \n",
       "\n",
       "   rub_monthly_fee  rub_per_gb  rub_per_message  rub_per_minute tariff_name  \n",
       "0              550         200                3               3       smart  \n",
       "1             1950         150                1               1       ultra  "
      ]
     },
     "metadata": {},
     "output_type": "display_data"
    },
    {
     "data": {
      "text/html": [
       "<div>\n",
       "<style scoped>\n",
       "    .dataframe tbody tr th:only-of-type {\n",
       "        vertical-align: middle;\n",
       "    }\n",
       "\n",
       "    .dataframe tbody tr th {\n",
       "        vertical-align: top;\n",
       "    }\n",
       "\n",
       "    .dataframe thead th {\n",
       "        text-align: right;\n",
       "    }\n",
       "</style>\n",
       "<table border=\"1\" class=\"dataframe\">\n",
       "  <thead>\n",
       "    <tr style=\"text-align: right;\">\n",
       "      <th></th>\n",
       "      <th>user_id</th>\n",
       "      <th>age</th>\n",
       "      <th>churn_date</th>\n",
       "      <th>city</th>\n",
       "      <th>first_name</th>\n",
       "      <th>last_name</th>\n",
       "      <th>reg_date</th>\n",
       "      <th>tariff</th>\n",
       "    </tr>\n",
       "  </thead>\n",
       "  <tbody>\n",
       "    <tr>\n",
       "      <td>0</td>\n",
       "      <td>1000</td>\n",
       "      <td>52</td>\n",
       "      <td>NaN</td>\n",
       "      <td>Краснодар</td>\n",
       "      <td>Рафаил</td>\n",
       "      <td>Верещагин</td>\n",
       "      <td>2018-05-25</td>\n",
       "      <td>ultra</td>\n",
       "    </tr>\n",
       "    <tr>\n",
       "      <td>1</td>\n",
       "      <td>1001</td>\n",
       "      <td>41</td>\n",
       "      <td>NaN</td>\n",
       "      <td>Москва</td>\n",
       "      <td>Иван</td>\n",
       "      <td>Ежов</td>\n",
       "      <td>2018-11-01</td>\n",
       "      <td>smart</td>\n",
       "    </tr>\n",
       "    <tr>\n",
       "      <td>2</td>\n",
       "      <td>1002</td>\n",
       "      <td>59</td>\n",
       "      <td>NaN</td>\n",
       "      <td>Стерлитамак</td>\n",
       "      <td>Евгений</td>\n",
       "      <td>Абрамович</td>\n",
       "      <td>2018-06-17</td>\n",
       "      <td>smart</td>\n",
       "    </tr>\n",
       "    <tr>\n",
       "      <td>3</td>\n",
       "      <td>1003</td>\n",
       "      <td>23</td>\n",
       "      <td>NaN</td>\n",
       "      <td>Москва</td>\n",
       "      <td>Белла</td>\n",
       "      <td>Белякова</td>\n",
       "      <td>2018-08-17</td>\n",
       "      <td>ultra</td>\n",
       "    </tr>\n",
       "    <tr>\n",
       "      <td>4</td>\n",
       "      <td>1004</td>\n",
       "      <td>68</td>\n",
       "      <td>NaN</td>\n",
       "      <td>Новокузнецк</td>\n",
       "      <td>Татьяна</td>\n",
       "      <td>Авдеенко</td>\n",
       "      <td>2018-05-14</td>\n",
       "      <td>ultra</td>\n",
       "    </tr>\n",
       "  </tbody>\n",
       "</table>\n",
       "</div>"
      ],
      "text/plain": [
       "   user_id  age churn_date         city first_name  last_name    reg_date  \\\n",
       "0     1000   52        NaN    Краснодар     Рафаил  Верещагин  2018-05-25   \n",
       "1     1001   41        NaN       Москва       Иван       Ежов  2018-11-01   \n",
       "2     1002   59        NaN  Стерлитамак    Евгений  Абрамович  2018-06-17   \n",
       "3     1003   23        NaN       Москва      Белла   Белякова  2018-08-17   \n",
       "4     1004   68        NaN  Новокузнецк    Татьяна   Авдеенко  2018-05-14   \n",
       "\n",
       "  tariff  \n",
       "0  ultra  \n",
       "1  smart  \n",
       "2  smart  \n",
       "3  ultra  \n",
       "4  ultra  "
      ]
     },
     "metadata": {},
     "output_type": "display_data"
    }
   ],
   "source": [
    "import pandas as pd\n",
    "import seaborn as sns\n",
    "import matplotlib.pyplot as plt\n",
    "import numpy as np\n",
    "import scipy.stats as st\n",
    "\n",
    "calls = pd.read_csv('/datasets/calls.csv')\n",
    "internet = pd.read_csv('/datasets/internet.csv')\n",
    "messages = pd.read_csv('/datasets/messages.csv')\n",
    "tariffs = pd.read_csv('/datasets/tariffs.csv')\n",
    "users = pd.read_csv('/datasets/users.csv')\n",
    "\n",
    "display(calls.head())\n",
    "display(internet.head())\n",
    "display(messages.head())\n",
    "display(tariffs.head())\n",
    "display(users.head())"
   ]
  },
  {
   "cell_type": "markdown",
   "metadata": {},
   "source": [
    "Файлы содержат данные о 500 пользователях.  \n",
    "Типы данных столбцов: object(1), int64, datetime64[ns], float64(1).  \n",
    "  \n",
    "\n",
    "**Таблица users (информация о пользователях):**\n",
    "  \n",
    "•\tuser_id — уникальный идентификатор пользователя  \n",
    "•\tfirst_name — имя пользователя  \n",
    "•\tlast_name — фамилия пользователя  \n",
    "•\tage — возраст пользователя (годы)  \n",
    "•\treg_date — дата подключения тарифа (день, месяц, год)  \n",
    "•\tchurn_date — дата прекращения пользования тарифом (если значение пропущено, то тариф ещё действовал на момент выгрузки данных)  \n",
    "•\tcity — город проживания пользователя  \n",
    "•\ttariff — название тарифного плана \n",
    "  \n",
    "**Таблица calls (информация о звонках):** \n",
    "  \n",
    "•\tid — уникальный номер звонка  \n",
    "•\tcall_date — дата звонка  \n",
    "•\tduration — длительность звонка в минутах  \n",
    "•\tuser_id — идентификатор пользователя, сделавшего звонок\n",
    "  \n",
    "**Таблица messages (информация о сообщениях):**  \n",
    "  \n",
    "•\tid — уникальный номер сообщения  \n",
    "•\tmessage_date — дата сообщения  \n",
    "•\tuser_id — идентификатор пользователя, отправившего сообщение  \n",
    "  \n",
    "**Таблица internet (информация об интернет-сессиях):**  \n",
    "  \n",
    "•\tid — уникальный номер сессии  \n",
    "•\tmb_used — объём потраченного за сессию интернет-трафика (в мегабайтах)  \n",
    "•\tsession_date — дата интернет-сессии  \n",
    "•\tuser_id — идентификатор пользователя \n",
    "  \n",
    "**Таблица tariffs (информация о тарифах):** \n",
    "  \n",
    "•\ttariff_name — название тарифа  \n",
    "•\trub_monthly_fee — ежемесячная абонентская плата в рублях  \n",
    "•\tminutes_included — количество минут разговора в месяц, включённых в абонентскую плату  \n",
    "•\tmessages_included — количество сообщений в месяц, включённых в абонентскую плату  \n",
    "•\tmb_per_month_included — объём интернет-трафика, включённого в абонентскую плату (в мегабайтах)  \n",
    "•\trub_per_minute — стоимость минуты разговора сверх тарифного пакета (например, если в тарифе 100 минут разговора в месяц, то со 101 минуты будет взиматься плата)  \n",
    "•\trub_per_message — стоимость отправки сообщения сверх тарифного пакета  \n",
    "•\trub_per_gb — стоимость дополнительного гигабайта интернет-трафика сверх тарифного пакета (1 гигабайт = 1024 мегабайта)  \n",
    "  \n"
   ]
  },
  {
   "cell_type": "markdown",
   "metadata": {},
   "source": [
    "# Рассмотрим данные по каждой таблице"
   ]
  },
  {
   "cell_type": "code",
   "execution_count": 2,
   "metadata": {},
   "outputs": [
    {
     "data": {
      "text/html": [
       "<div>\n",
       "<style scoped>\n",
       "    .dataframe tbody tr th:only-of-type {\n",
       "        vertical-align: middle;\n",
       "    }\n",
       "\n",
       "    .dataframe tbody tr th {\n",
       "        vertical-align: top;\n",
       "    }\n",
       "\n",
       "    .dataframe thead th {\n",
       "        text-align: right;\n",
       "    }\n",
       "</style>\n",
       "<table border=\"1\" class=\"dataframe\">\n",
       "  <thead>\n",
       "    <tr style=\"text-align: right;\">\n",
       "      <th></th>\n",
       "      <th>user_id</th>\n",
       "      <th>age</th>\n",
       "    </tr>\n",
       "  </thead>\n",
       "  <tbody>\n",
       "    <tr>\n",
       "      <td>count</td>\n",
       "      <td>500.000000</td>\n",
       "      <td>500.00000</td>\n",
       "    </tr>\n",
       "    <tr>\n",
       "      <td>mean</td>\n",
       "      <td>1249.500000</td>\n",
       "      <td>46.58800</td>\n",
       "    </tr>\n",
       "    <tr>\n",
       "      <td>std</td>\n",
       "      <td>144.481833</td>\n",
       "      <td>16.66763</td>\n",
       "    </tr>\n",
       "    <tr>\n",
       "      <td>min</td>\n",
       "      <td>1000.000000</td>\n",
       "      <td>18.00000</td>\n",
       "    </tr>\n",
       "    <tr>\n",
       "      <td>25%</td>\n",
       "      <td>1124.750000</td>\n",
       "      <td>32.00000</td>\n",
       "    </tr>\n",
       "    <tr>\n",
       "      <td>50%</td>\n",
       "      <td>1249.500000</td>\n",
       "      <td>46.00000</td>\n",
       "    </tr>\n",
       "    <tr>\n",
       "      <td>75%</td>\n",
       "      <td>1374.250000</td>\n",
       "      <td>62.00000</td>\n",
       "    </tr>\n",
       "    <tr>\n",
       "      <td>max</td>\n",
       "      <td>1499.000000</td>\n",
       "      <td>75.00000</td>\n",
       "    </tr>\n",
       "  </tbody>\n",
       "</table>\n",
       "</div>"
      ],
      "text/plain": [
       "           user_id        age\n",
       "count   500.000000  500.00000\n",
       "mean   1249.500000   46.58800\n",
       "std     144.481833   16.66763\n",
       "min    1000.000000   18.00000\n",
       "25%    1124.750000   32.00000\n",
       "50%    1249.500000   46.00000\n",
       "75%    1374.250000   62.00000\n",
       "max    1499.000000   75.00000"
      ]
     },
     "execution_count": 2,
     "metadata": {},
     "output_type": "execute_result"
    }
   ],
   "source": [
    "users.describe()"
   ]
  },
  {
   "cell_type": "markdown",
   "metadata": {},
   "source": [
    "Всего 500 пользователей.\n",
    "Минимальный возраст пользователя - 18 лет, максимальный - 75 лет, средний - 46,6 лет."
   ]
  },
  {
   "cell_type": "code",
   "execution_count": 3,
   "metadata": {},
   "outputs": [
    {
     "data": {
      "text/html": [
       "<div>\n",
       "<style scoped>\n",
       "    .dataframe tbody tr th:only-of-type {\n",
       "        vertical-align: middle;\n",
       "    }\n",
       "\n",
       "    .dataframe tbody tr th {\n",
       "        vertical-align: top;\n",
       "    }\n",
       "\n",
       "    .dataframe thead th {\n",
       "        text-align: right;\n",
       "    }\n",
       "</style>\n",
       "<table border=\"1\" class=\"dataframe\">\n",
       "  <thead>\n",
       "    <tr style=\"text-align: right;\">\n",
       "      <th></th>\n",
       "      <th>duration</th>\n",
       "      <th>user_id</th>\n",
       "    </tr>\n",
       "  </thead>\n",
       "  <tbody>\n",
       "    <tr>\n",
       "      <td>count</td>\n",
       "      <td>202607.000000</td>\n",
       "      <td>202607.000000</td>\n",
       "    </tr>\n",
       "    <tr>\n",
       "      <td>mean</td>\n",
       "      <td>6.755887</td>\n",
       "      <td>1253.940619</td>\n",
       "    </tr>\n",
       "    <tr>\n",
       "      <td>std</td>\n",
       "      <td>5.843365</td>\n",
       "      <td>144.722751</td>\n",
       "    </tr>\n",
       "    <tr>\n",
       "      <td>min</td>\n",
       "      <td>0.000000</td>\n",
       "      <td>1000.000000</td>\n",
       "    </tr>\n",
       "    <tr>\n",
       "      <td>25%</td>\n",
       "      <td>1.300000</td>\n",
       "      <td>1126.000000</td>\n",
       "    </tr>\n",
       "    <tr>\n",
       "      <td>50%</td>\n",
       "      <td>6.000000</td>\n",
       "      <td>1260.000000</td>\n",
       "    </tr>\n",
       "    <tr>\n",
       "      <td>75%</td>\n",
       "      <td>10.700000</td>\n",
       "      <td>1379.000000</td>\n",
       "    </tr>\n",
       "    <tr>\n",
       "      <td>max</td>\n",
       "      <td>38.000000</td>\n",
       "      <td>1499.000000</td>\n",
       "    </tr>\n",
       "  </tbody>\n",
       "</table>\n",
       "</div>"
      ],
      "text/plain": [
       "            duration        user_id\n",
       "count  202607.000000  202607.000000\n",
       "mean        6.755887    1253.940619\n",
       "std         5.843365     144.722751\n",
       "min         0.000000    1000.000000\n",
       "25%         1.300000    1126.000000\n",
       "50%         6.000000    1260.000000\n",
       "75%        10.700000    1379.000000\n",
       "max        38.000000    1499.000000"
      ]
     },
     "execution_count": 3,
     "metadata": {},
     "output_type": "execute_result"
    }
   ],
   "source": [
    "calls.describe()"
   ]
  },
  {
   "cell_type": "markdown",
   "metadata": {},
   "source": [
    "Минимальная длительность звонка 0 минут, максимальная - 38 минут, средняя - 6,8 минут."
   ]
  },
  {
   "cell_type": "code",
   "execution_count": 4,
   "metadata": {},
   "outputs": [
    {
     "data": {
      "text/html": [
       "<div>\n",
       "<style scoped>\n",
       "    .dataframe tbody tr th:only-of-type {\n",
       "        vertical-align: middle;\n",
       "    }\n",
       "\n",
       "    .dataframe tbody tr th {\n",
       "        vertical-align: top;\n",
       "    }\n",
       "\n",
       "    .dataframe thead th {\n",
       "        text-align: right;\n",
       "    }\n",
       "</style>\n",
       "<table border=\"1\" class=\"dataframe\">\n",
       "  <thead>\n",
       "    <tr style=\"text-align: right;\">\n",
       "      <th></th>\n",
       "      <th>Unnamed: 0</th>\n",
       "      <th>mb_used</th>\n",
       "      <th>user_id</th>\n",
       "    </tr>\n",
       "  </thead>\n",
       "  <tbody>\n",
       "    <tr>\n",
       "      <td>count</td>\n",
       "      <td>149396.000000</td>\n",
       "      <td>149396.000000</td>\n",
       "      <td>149396.000000</td>\n",
       "    </tr>\n",
       "    <tr>\n",
       "      <td>mean</td>\n",
       "      <td>74697.500000</td>\n",
       "      <td>370.192426</td>\n",
       "      <td>1252.099842</td>\n",
       "    </tr>\n",
       "    <tr>\n",
       "      <td>std</td>\n",
       "      <td>43127.054745</td>\n",
       "      <td>278.300951</td>\n",
       "      <td>144.050823</td>\n",
       "    </tr>\n",
       "    <tr>\n",
       "      <td>min</td>\n",
       "      <td>0.000000</td>\n",
       "      <td>0.000000</td>\n",
       "      <td>1000.000000</td>\n",
       "    </tr>\n",
       "    <tr>\n",
       "      <td>25%</td>\n",
       "      <td>37348.750000</td>\n",
       "      <td>138.187500</td>\n",
       "      <td>1130.000000</td>\n",
       "    </tr>\n",
       "    <tr>\n",
       "      <td>50%</td>\n",
       "      <td>74697.500000</td>\n",
       "      <td>348.015000</td>\n",
       "      <td>1251.000000</td>\n",
       "    </tr>\n",
       "    <tr>\n",
       "      <td>75%</td>\n",
       "      <td>112046.250000</td>\n",
       "      <td>559.552500</td>\n",
       "      <td>1380.000000</td>\n",
       "    </tr>\n",
       "    <tr>\n",
       "      <td>max</td>\n",
       "      <td>149395.000000</td>\n",
       "      <td>1724.830000</td>\n",
       "      <td>1499.000000</td>\n",
       "    </tr>\n",
       "  </tbody>\n",
       "</table>\n",
       "</div>"
      ],
      "text/plain": [
       "          Unnamed: 0        mb_used        user_id\n",
       "count  149396.000000  149396.000000  149396.000000\n",
       "mean    74697.500000     370.192426    1252.099842\n",
       "std     43127.054745     278.300951     144.050823\n",
       "min         0.000000       0.000000    1000.000000\n",
       "25%     37348.750000     138.187500    1130.000000\n",
       "50%     74697.500000     348.015000    1251.000000\n",
       "75%    112046.250000     559.552500    1380.000000\n",
       "max    149395.000000    1724.830000    1499.000000"
      ]
     },
     "execution_count": 4,
     "metadata": {},
     "output_type": "execute_result"
    }
   ],
   "source": [
    "internet.describe()"
   ]
  },
  {
   "cell_type": "markdown",
   "metadata": {},
   "source": [
    "Всего пользователями использовано 149396 МБайт, минимальное значение - 0 МБайт, максимальное МБайт - 1724,8 МБайт."
   ]
  },
  {
   "cell_type": "code",
   "execution_count": 5,
   "metadata": {},
   "outputs": [
    {
     "data": {
      "text/html": [
       "<div>\n",
       "<style scoped>\n",
       "    .dataframe tbody tr th:only-of-type {\n",
       "        vertical-align: middle;\n",
       "    }\n",
       "\n",
       "    .dataframe tbody tr th {\n",
       "        vertical-align: top;\n",
       "    }\n",
       "\n",
       "    .dataframe thead th {\n",
       "        text-align: right;\n",
       "    }\n",
       "</style>\n",
       "<table border=\"1\" class=\"dataframe\">\n",
       "  <thead>\n",
       "    <tr style=\"text-align: right;\">\n",
       "      <th></th>\n",
       "      <th>user_id</th>\n",
       "    </tr>\n",
       "  </thead>\n",
       "  <tbody>\n",
       "    <tr>\n",
       "      <td>count</td>\n",
       "      <td>123036.000000</td>\n",
       "    </tr>\n",
       "    <tr>\n",
       "      <td>mean</td>\n",
       "      <td>1256.989410</td>\n",
       "    </tr>\n",
       "    <tr>\n",
       "      <td>std</td>\n",
       "      <td>143.523967</td>\n",
       "    </tr>\n",
       "    <tr>\n",
       "      <td>min</td>\n",
       "      <td>1000.000000</td>\n",
       "    </tr>\n",
       "    <tr>\n",
       "      <td>25%</td>\n",
       "      <td>1134.000000</td>\n",
       "    </tr>\n",
       "    <tr>\n",
       "      <td>50%</td>\n",
       "      <td>1271.000000</td>\n",
       "    </tr>\n",
       "    <tr>\n",
       "      <td>75%</td>\n",
       "      <td>1381.000000</td>\n",
       "    </tr>\n",
       "    <tr>\n",
       "      <td>max</td>\n",
       "      <td>1499.000000</td>\n",
       "    </tr>\n",
       "  </tbody>\n",
       "</table>\n",
       "</div>"
      ],
      "text/plain": [
       "             user_id\n",
       "count  123036.000000\n",
       "mean     1256.989410\n",
       "std       143.523967\n",
       "min      1000.000000\n",
       "25%      1134.000000\n",
       "50%      1271.000000\n",
       "75%      1381.000000\n",
       "max      1499.000000"
      ]
     },
     "execution_count": 5,
     "metadata": {},
     "output_type": "execute_result"
    }
   ],
   "source": [
    "messages.describe()"
   ]
  },
  {
   "cell_type": "markdown",
   "metadata": {},
   "source": [
    "В таблице указаны данные с датами отправленных сообщений."
   ]
  },
  {
   "cell_type": "code",
   "execution_count": 6,
   "metadata": {},
   "outputs": [
    {
     "data": {
      "text/html": [
       "<div>\n",
       "<style scoped>\n",
       "    .dataframe tbody tr th:only-of-type {\n",
       "        vertical-align: middle;\n",
       "    }\n",
       "\n",
       "    .dataframe tbody tr th {\n",
       "        vertical-align: top;\n",
       "    }\n",
       "\n",
       "    .dataframe thead th {\n",
       "        text-align: right;\n",
       "    }\n",
       "</style>\n",
       "<table border=\"1\" class=\"dataframe\">\n",
       "  <thead>\n",
       "    <tr style=\"text-align: right;\">\n",
       "      <th></th>\n",
       "      <th>messages_included</th>\n",
       "      <th>mb_per_month_included</th>\n",
       "      <th>minutes_included</th>\n",
       "      <th>rub_monthly_fee</th>\n",
       "      <th>rub_per_gb</th>\n",
       "      <th>rub_per_message</th>\n",
       "      <th>rub_per_minute</th>\n",
       "    </tr>\n",
       "  </thead>\n",
       "  <tbody>\n",
       "    <tr>\n",
       "      <td>count</td>\n",
       "      <td>2.000000</td>\n",
       "      <td>2.000000</td>\n",
       "      <td>2.000000</td>\n",
       "      <td>2.000000</td>\n",
       "      <td>2.000000</td>\n",
       "      <td>2.000000</td>\n",
       "      <td>2.000000</td>\n",
       "    </tr>\n",
       "    <tr>\n",
       "      <td>mean</td>\n",
       "      <td>525.000000</td>\n",
       "      <td>23040.000000</td>\n",
       "      <td>1750.000000</td>\n",
       "      <td>1250.000000</td>\n",
       "      <td>175.000000</td>\n",
       "      <td>2.000000</td>\n",
       "      <td>2.000000</td>\n",
       "    </tr>\n",
       "    <tr>\n",
       "      <td>std</td>\n",
       "      <td>671.751442</td>\n",
       "      <td>10861.160159</td>\n",
       "      <td>1767.766953</td>\n",
       "      <td>989.949494</td>\n",
       "      <td>35.355339</td>\n",
       "      <td>1.414214</td>\n",
       "      <td>1.414214</td>\n",
       "    </tr>\n",
       "    <tr>\n",
       "      <td>min</td>\n",
       "      <td>50.000000</td>\n",
       "      <td>15360.000000</td>\n",
       "      <td>500.000000</td>\n",
       "      <td>550.000000</td>\n",
       "      <td>150.000000</td>\n",
       "      <td>1.000000</td>\n",
       "      <td>1.000000</td>\n",
       "    </tr>\n",
       "    <tr>\n",
       "      <td>25%</td>\n",
       "      <td>287.500000</td>\n",
       "      <td>19200.000000</td>\n",
       "      <td>1125.000000</td>\n",
       "      <td>900.000000</td>\n",
       "      <td>162.500000</td>\n",
       "      <td>1.500000</td>\n",
       "      <td>1.500000</td>\n",
       "    </tr>\n",
       "    <tr>\n",
       "      <td>50%</td>\n",
       "      <td>525.000000</td>\n",
       "      <td>23040.000000</td>\n",
       "      <td>1750.000000</td>\n",
       "      <td>1250.000000</td>\n",
       "      <td>175.000000</td>\n",
       "      <td>2.000000</td>\n",
       "      <td>2.000000</td>\n",
       "    </tr>\n",
       "    <tr>\n",
       "      <td>75%</td>\n",
       "      <td>762.500000</td>\n",
       "      <td>26880.000000</td>\n",
       "      <td>2375.000000</td>\n",
       "      <td>1600.000000</td>\n",
       "      <td>187.500000</td>\n",
       "      <td>2.500000</td>\n",
       "      <td>2.500000</td>\n",
       "    </tr>\n",
       "    <tr>\n",
       "      <td>max</td>\n",
       "      <td>1000.000000</td>\n",
       "      <td>30720.000000</td>\n",
       "      <td>3000.000000</td>\n",
       "      <td>1950.000000</td>\n",
       "      <td>200.000000</td>\n",
       "      <td>3.000000</td>\n",
       "      <td>3.000000</td>\n",
       "    </tr>\n",
       "  </tbody>\n",
       "</table>\n",
       "</div>"
      ],
      "text/plain": [
       "       messages_included  mb_per_month_included  minutes_included  \\\n",
       "count           2.000000               2.000000          2.000000   \n",
       "mean          525.000000           23040.000000       1750.000000   \n",
       "std           671.751442           10861.160159       1767.766953   \n",
       "min            50.000000           15360.000000        500.000000   \n",
       "25%           287.500000           19200.000000       1125.000000   \n",
       "50%           525.000000           23040.000000       1750.000000   \n",
       "75%           762.500000           26880.000000       2375.000000   \n",
       "max          1000.000000           30720.000000       3000.000000   \n",
       "\n",
       "       rub_monthly_fee  rub_per_gb  rub_per_message  rub_per_minute  \n",
       "count         2.000000    2.000000         2.000000        2.000000  \n",
       "mean       1250.000000  175.000000         2.000000        2.000000  \n",
       "std         989.949494   35.355339         1.414214        1.414214  \n",
       "min         550.000000  150.000000         1.000000        1.000000  \n",
       "25%         900.000000  162.500000         1.500000        1.500000  \n",
       "50%        1250.000000  175.000000         2.000000        2.000000  \n",
       "75%        1600.000000  187.500000         2.500000        2.500000  \n",
       "max        1950.000000  200.000000         3.000000        3.000000  "
      ]
     },
     "execution_count": 6,
     "metadata": {},
     "output_type": "execute_result"
    }
   ],
   "source": [
    "tariffs.describe()"
   ]
  },
  {
   "cell_type": "markdown",
   "metadata": {},
   "source": [
    "В таблице указана абонентская плата по двум тарифам и стоимость минуты, сообщения и Gb. "
   ]
  },
  {
   "cell_type": "markdown",
   "metadata": {},
   "source": [
    "# 2. Подготовим данные"
   ]
  },
  {
   "cell_type": "code",
   "execution_count": 7,
   "metadata": {},
   "outputs": [
    {
     "name": "stdout",
     "output_type": "stream",
     "text": [
      "Количество дубликатов в данных о звонках: 0\n",
      "Количество дубликатов в данных об интернет-сессиях: 0\n",
      "Количество дубликатов в данных о сообщениях: 0\n",
      "Количество дубликатов в данных о тарифах: 0\n",
      "Количество дубликатов в данных о пользователях: 0\n"
     ]
    }
   ],
   "source": [
    "# посчитаем количество дубликатов в данных\n",
    "print('Количество дубликатов в данных о звонках:', calls.duplicated().sum()) \n",
    "print('Количество дубликатов в данных об интернет-сессиях:', internet.duplicated().sum()) \n",
    "print('Количество дубликатов в данных о сообщениях:', messages.duplicated().sum())\n",
    "print('Количество дубликатов в данных о тарифах:', tariffs.duplicated().sum())\n",
    "print('Количество дубликатов в данных о пользователях:', users.duplicated().sum())"
   ]
  },
  {
   "cell_type": "markdown",
   "metadata": {},
   "source": [
    "Дубликатов нет"
   ]
  },
  {
   "cell_type": "markdown",
   "metadata": {},
   "source": [
    "«Мегалайн» всегда округляет вверх значения минут и мегабайтов. Если пользователь проговорил всего 1 секунду, в тарифе засчитывается целая минута. \n",
    "Столбец duration - длительность звонка в минутах - имеет тип данных float64, его необходимо преобразовать данный столбец к типу данных int - целое число и округлить в верхнюю сторону.\n"
   ]
  },
  {
   "cell_type": "code",
   "execution_count": 8,
   "metadata": {},
   "outputs": [
    {
     "name": "stdout",
     "output_type": "stream",
     "text": [
      "<class 'pandas.core.frame.DataFrame'>\n",
      "RangeIndex: 202607 entries, 0 to 202606\n",
      "Data columns (total 4 columns):\n",
      "id           202607 non-null object\n",
      "call_date    202607 non-null object\n",
      "duration     202607 non-null int64\n",
      "user_id      202607 non-null int64\n",
      "dtypes: int64(2), object(2)\n",
      "memory usage: 6.2+ MB\n"
     ]
    }
   ],
   "source": [
    "# округлим значения в большую сторону\n",
    "calls['duration'] = np.ceil(calls['duration']) \n",
    "\n",
    "# в данных о длительности звонков изменим тип данных на int\n",
    "calls['duration'] = calls['duration'].astype('int')\n",
    "calls.info()\n",
    "\n",
    "# округлим значения в большую сторону\n",
    "internet['mb_used'] = np.ceil(internet['mb_used']) \n",
    "\n",
    "# в данных о трафике изменим тип данных на int\n",
    "internet['mb_used'] = internet['mb_used'].astype('int') \n"
   ]
  },
  {
   "cell_type": "code",
   "execution_count": 9,
   "metadata": {},
   "outputs": [
    {
     "data": {
      "text/html": [
       "<div>\n",
       "<style scoped>\n",
       "    .dataframe tbody tr th:only-of-type {\n",
       "        vertical-align: middle;\n",
       "    }\n",
       "\n",
       "    .dataframe tbody tr th {\n",
       "        vertical-align: top;\n",
       "    }\n",
       "\n",
       "    .dataframe thead th {\n",
       "        text-align: right;\n",
       "    }\n",
       "</style>\n",
       "<table border=\"1\" class=\"dataframe\">\n",
       "  <thead>\n",
       "    <tr style=\"text-align: right;\">\n",
       "      <th></th>\n",
       "      <th>user_id</th>\n",
       "      <th>age</th>\n",
       "      <th>churn_date</th>\n",
       "      <th>city</th>\n",
       "      <th>first_name</th>\n",
       "      <th>last_name</th>\n",
       "      <th>reg_date</th>\n",
       "      <th>tariff</th>\n",
       "    </tr>\n",
       "  </thead>\n",
       "  <tbody>\n",
       "    <tr>\n",
       "      <td>0</td>\n",
       "      <td>1000</td>\n",
       "      <td>52</td>\n",
       "      <td>NaT</td>\n",
       "      <td>Краснодар</td>\n",
       "      <td>Рафаил</td>\n",
       "      <td>Верещагин</td>\n",
       "      <td>2018-05-25</td>\n",
       "      <td>ultra</td>\n",
       "    </tr>\n",
       "    <tr>\n",
       "      <td>1</td>\n",
       "      <td>1001</td>\n",
       "      <td>41</td>\n",
       "      <td>NaT</td>\n",
       "      <td>Москва</td>\n",
       "      <td>Иван</td>\n",
       "      <td>Ежов</td>\n",
       "      <td>2018-11-01</td>\n",
       "      <td>smart</td>\n",
       "    </tr>\n",
       "    <tr>\n",
       "      <td>2</td>\n",
       "      <td>1002</td>\n",
       "      <td>59</td>\n",
       "      <td>NaT</td>\n",
       "      <td>Стерлитамак</td>\n",
       "      <td>Евгений</td>\n",
       "      <td>Абрамович</td>\n",
       "      <td>2018-06-17</td>\n",
       "      <td>smart</td>\n",
       "    </tr>\n",
       "    <tr>\n",
       "      <td>3</td>\n",
       "      <td>1003</td>\n",
       "      <td>23</td>\n",
       "      <td>NaT</td>\n",
       "      <td>Москва</td>\n",
       "      <td>Белла</td>\n",
       "      <td>Белякова</td>\n",
       "      <td>2018-08-17</td>\n",
       "      <td>ultra</td>\n",
       "    </tr>\n",
       "    <tr>\n",
       "      <td>4</td>\n",
       "      <td>1004</td>\n",
       "      <td>68</td>\n",
       "      <td>NaT</td>\n",
       "      <td>Новокузнецк</td>\n",
       "      <td>Татьяна</td>\n",
       "      <td>Авдеенко</td>\n",
       "      <td>2018-05-14</td>\n",
       "      <td>ultra</td>\n",
       "    </tr>\n",
       "  </tbody>\n",
       "</table>\n",
       "</div>"
      ],
      "text/plain": [
       "   user_id  age churn_date         city first_name  last_name   reg_date  \\\n",
       "0     1000   52        NaT    Краснодар     Рафаил  Верещагин 2018-05-25   \n",
       "1     1001   41        NaT       Москва       Иван       Ежов 2018-11-01   \n",
       "2     1002   59        NaT  Стерлитамак    Евгений  Абрамович 2018-06-17   \n",
       "3     1003   23        NaT       Москва      Белла   Белякова 2018-08-17   \n",
       "4     1004   68        NaT  Новокузнецк    Татьяна   Авдеенко 2018-05-14   \n",
       "\n",
       "  tariff  \n",
       "0  ultra  \n",
       "1  smart  \n",
       "2  smart  \n",
       "3  ultra  \n",
       "4  ultra  "
      ]
     },
     "metadata": {},
     "output_type": "display_data"
    }
   ],
   "source": [
    "# в колонках с датами изменим формат данных на %Y-%m-%d\n",
    "users['reg_date'] = pd.to_datetime(users['reg_date'], format='%Y-%m-%d')\n",
    "users['churn_date'] = pd.to_datetime(users['churn_date'], format='%Y-%m-%d')\n",
    "calls['call_date'] = pd.to_datetime(calls['call_date'], format='%Y-%m-%d')\n",
    "internet['session_date'] = pd.to_datetime(internet['session_date'], format='%Y-%m-%d')\n",
    "messages['message_date'] = pd.to_datetime(messages['message_date'], format='%Y-%m-%d')\n",
    "\n",
    "display(users.head())"
   ]
  },
  {
   "cell_type": "code",
   "execution_count": 10,
   "metadata": {},
   "outputs": [
    {
     "name": "stdout",
     "output_type": "stream",
     "text": [
      "Количество пропущенных значений: 0\n"
     ]
    }
   ],
   "source": [
    "# заменим пропуски на '0', 0 в кавычках, иначе дата заменяется на 1970 год, проверим количество пропусков после замены\n",
    "users['churn_date'] = users['churn_date'].fillna('0') \n",
    "\n",
    "print('Количество пропущенных значений:', users['churn_date'].isnull().sum()) "
   ]
  },
  {
   "cell_type": "code",
   "execution_count": 11,
   "metadata": {
    "scrolled": true
   },
   "outputs": [
    {
     "name": "stdout",
     "output_type": "stream",
     "text": [
      "Количество звонков с длительностью, равной нулю: 39613\n"
     ]
    }
   ],
   "source": [
    "# посчитаем количество звонков с длительностью, равной нулю\n",
    "print('Количество звонков с длительностью, равной нулю:', calls.loc[calls['duration'] == 0, 'duration'].value_counts()[0])"
   ]
  },
  {
   "cell_type": "markdown",
   "metadata": {},
   "source": [
    "Скорее всего, нулевое значение имеют неотвеченные звонки, абонентская плата за них не взимается.  \n",
    "Оставим строки со звонками, длительность которых равна 0, чтобы видеть всю картину целиком."
   ]
  },
  {
   "cell_type": "markdown",
   "metadata": {},
   "source": [
    "**Посчитаем для каждого пользователя количество сделанных звонков и израсходованных минут разговора по месяцам**"
   ]
  },
  {
   "cell_type": "code",
   "execution_count": 12,
   "metadata": {},
   "outputs": [
    {
     "data": {
      "text/html": [
       "<div>\n",
       "<style scoped>\n",
       "    .dataframe tbody tr th:only-of-type {\n",
       "        vertical-align: middle;\n",
       "    }\n",
       "\n",
       "    .dataframe tbody tr th {\n",
       "        vertical-align: top;\n",
       "    }\n",
       "\n",
       "    .dataframe thead th {\n",
       "        text-align: right;\n",
       "    }\n",
       "</style>\n",
       "<table border=\"1\" class=\"dataframe\">\n",
       "  <thead>\n",
       "    <tr style=\"text-align: right;\">\n",
       "      <th></th>\n",
       "      <th>id</th>\n",
       "      <th>call_date</th>\n",
       "      <th>duration</th>\n",
       "      <th>user_id</th>\n",
       "      <th>month</th>\n",
       "    </tr>\n",
       "  </thead>\n",
       "  <tbody>\n",
       "    <tr>\n",
       "      <td>0</td>\n",
       "      <td>1000_0</td>\n",
       "      <td>2018-07-25</td>\n",
       "      <td>0</td>\n",
       "      <td>1000</td>\n",
       "      <td>7</td>\n",
       "    </tr>\n",
       "    <tr>\n",
       "      <td>1</td>\n",
       "      <td>1000_1</td>\n",
       "      <td>2018-08-17</td>\n",
       "      <td>0</td>\n",
       "      <td>1000</td>\n",
       "      <td>8</td>\n",
       "    </tr>\n",
       "    <tr>\n",
       "      <td>2</td>\n",
       "      <td>1000_2</td>\n",
       "      <td>2018-06-11</td>\n",
       "      <td>3</td>\n",
       "      <td>1000</td>\n",
       "      <td>6</td>\n",
       "    </tr>\n",
       "    <tr>\n",
       "      <td>3</td>\n",
       "      <td>1000_3</td>\n",
       "      <td>2018-09-21</td>\n",
       "      <td>14</td>\n",
       "      <td>1000</td>\n",
       "      <td>9</td>\n",
       "    </tr>\n",
       "    <tr>\n",
       "      <td>4</td>\n",
       "      <td>1000_4</td>\n",
       "      <td>2018-12-15</td>\n",
       "      <td>6</td>\n",
       "      <td>1000</td>\n",
       "      <td>12</td>\n",
       "    </tr>\n",
       "  </tbody>\n",
       "</table>\n",
       "</div>"
      ],
      "text/plain": [
       "       id  call_date  duration  user_id  month\n",
       "0  1000_0 2018-07-25         0     1000      7\n",
       "1  1000_1 2018-08-17         0     1000      8\n",
       "2  1000_2 2018-06-11         3     1000      6\n",
       "3  1000_3 2018-09-21        14     1000      9\n",
       "4  1000_4 2018-12-15         6     1000     12"
      ]
     },
     "metadata": {},
     "output_type": "display_data"
    },
    {
     "data": {
      "text/html": [
       "<div>\n",
       "<style scoped>\n",
       "    .dataframe tbody tr th:only-of-type {\n",
       "        vertical-align: middle;\n",
       "    }\n",
       "\n",
       "    .dataframe tbody tr th {\n",
       "        vertical-align: top;\n",
       "    }\n",
       "\n",
       "    .dataframe thead th {\n",
       "        text-align: right;\n",
       "    }\n",
       "</style>\n",
       "<table border=\"1\" class=\"dataframe\">\n",
       "  <thead>\n",
       "    <tr style=\"text-align: right;\">\n",
       "      <th></th>\n",
       "      <th>id</th>\n",
       "      <th>message_date</th>\n",
       "      <th>user_id</th>\n",
       "      <th>month</th>\n",
       "    </tr>\n",
       "  </thead>\n",
       "  <tbody>\n",
       "    <tr>\n",
       "      <td>0</td>\n",
       "      <td>1000_0</td>\n",
       "      <td>2018-06-27</td>\n",
       "      <td>1000</td>\n",
       "      <td>6</td>\n",
       "    </tr>\n",
       "    <tr>\n",
       "      <td>1</td>\n",
       "      <td>1000_1</td>\n",
       "      <td>2018-10-08</td>\n",
       "      <td>1000</td>\n",
       "      <td>10</td>\n",
       "    </tr>\n",
       "    <tr>\n",
       "      <td>2</td>\n",
       "      <td>1000_2</td>\n",
       "      <td>2018-08-04</td>\n",
       "      <td>1000</td>\n",
       "      <td>8</td>\n",
       "    </tr>\n",
       "    <tr>\n",
       "      <td>3</td>\n",
       "      <td>1000_3</td>\n",
       "      <td>2018-06-16</td>\n",
       "      <td>1000</td>\n",
       "      <td>6</td>\n",
       "    </tr>\n",
       "    <tr>\n",
       "      <td>4</td>\n",
       "      <td>1000_4</td>\n",
       "      <td>2018-12-05</td>\n",
       "      <td>1000</td>\n",
       "      <td>12</td>\n",
       "    </tr>\n",
       "  </tbody>\n",
       "</table>\n",
       "</div>"
      ],
      "text/plain": [
       "       id message_date  user_id  month\n",
       "0  1000_0   2018-06-27     1000      6\n",
       "1  1000_1   2018-10-08     1000     10\n",
       "2  1000_2   2018-08-04     1000      8\n",
       "3  1000_3   2018-06-16     1000      6\n",
       "4  1000_4   2018-12-05     1000     12"
      ]
     },
     "metadata": {},
     "output_type": "display_data"
    },
    {
     "data": {
      "text/html": [
       "<div>\n",
       "<style scoped>\n",
       "    .dataframe tbody tr th:only-of-type {\n",
       "        vertical-align: middle;\n",
       "    }\n",
       "\n",
       "    .dataframe tbody tr th {\n",
       "        vertical-align: top;\n",
       "    }\n",
       "\n",
       "    .dataframe thead th {\n",
       "        text-align: right;\n",
       "    }\n",
       "</style>\n",
       "<table border=\"1\" class=\"dataframe\">\n",
       "  <thead>\n",
       "    <tr style=\"text-align: right;\">\n",
       "      <th></th>\n",
       "      <th>Unnamed: 0</th>\n",
       "      <th>id</th>\n",
       "      <th>mb_used</th>\n",
       "      <th>session_date</th>\n",
       "      <th>user_id</th>\n",
       "      <th>month</th>\n",
       "    </tr>\n",
       "  </thead>\n",
       "  <tbody>\n",
       "    <tr>\n",
       "      <td>0</td>\n",
       "      <td>0</td>\n",
       "      <td>1000_0</td>\n",
       "      <td>113</td>\n",
       "      <td>2018-11-25</td>\n",
       "      <td>1000</td>\n",
       "      <td>11</td>\n",
       "    </tr>\n",
       "    <tr>\n",
       "      <td>1</td>\n",
       "      <td>1</td>\n",
       "      <td>1000_1</td>\n",
       "      <td>1053</td>\n",
       "      <td>2018-09-07</td>\n",
       "      <td>1000</td>\n",
       "      <td>9</td>\n",
       "    </tr>\n",
       "    <tr>\n",
       "      <td>2</td>\n",
       "      <td>2</td>\n",
       "      <td>1000_2</td>\n",
       "      <td>1198</td>\n",
       "      <td>2018-06-25</td>\n",
       "      <td>1000</td>\n",
       "      <td>6</td>\n",
       "    </tr>\n",
       "    <tr>\n",
       "      <td>3</td>\n",
       "      <td>3</td>\n",
       "      <td>1000_3</td>\n",
       "      <td>551</td>\n",
       "      <td>2018-08-22</td>\n",
       "      <td>1000</td>\n",
       "      <td>8</td>\n",
       "    </tr>\n",
       "    <tr>\n",
       "      <td>4</td>\n",
       "      <td>4</td>\n",
       "      <td>1000_4</td>\n",
       "      <td>303</td>\n",
       "      <td>2018-09-24</td>\n",
       "      <td>1000</td>\n",
       "      <td>9</td>\n",
       "    </tr>\n",
       "  </tbody>\n",
       "</table>\n",
       "</div>"
      ],
      "text/plain": [
       "   Unnamed: 0      id  mb_used session_date  user_id  month\n",
       "0           0  1000_0      113   2018-11-25     1000     11\n",
       "1           1  1000_1     1053   2018-09-07     1000      9\n",
       "2           2  1000_2     1198   2018-06-25     1000      6\n",
       "3           3  1000_3      551   2018-08-22     1000      8\n",
       "4           4  1000_4      303   2018-09-24     1000      9"
      ]
     },
     "metadata": {},
     "output_type": "display_data"
    }
   ],
   "source": [
    "# добавим столбцы с месяцами в таблицы со звонками, сообщениями и интернетом\n",
    "calls['call_date'] = pd.to_datetime(\n",
    "    calls['call_date'], format='%Y-%m-%d'\n",
    ")\n",
    "calls['month'] = pd.DatetimeIndex(calls['call_date']).month\n",
    "\n",
    "display(calls.head())\n",
    "\n",
    "messages['message_date'] = pd.to_datetime(\n",
    "    messages['message_date'], format='%Y-%m-%d'\n",
    ")\n",
    "messages['month'] = pd.DatetimeIndex(messages['message_date']).month\n",
    "\n",
    "display(messages.head())\n",
    "\n",
    "internet['session_date'] = pd.to_datetime(\n",
    "    internet['session_date'], format='%Y-%m-%d'\n",
    ")\n",
    "internet['month'] = pd.DatetimeIndex(internet['session_date']).month\n",
    "\n",
    "display(internet.head())\n"
   ]
  },
  {
   "cell_type": "code",
   "execution_count": 13,
   "metadata": {
    "scrolled": true
   },
   "outputs": [
    {
     "data": {
      "text/html": [
       "<div>\n",
       "<style scoped>\n",
       "    .dataframe tbody tr th:only-of-type {\n",
       "        vertical-align: middle;\n",
       "    }\n",
       "\n",
       "    .dataframe tbody tr th {\n",
       "        vertical-align: top;\n",
       "    }\n",
       "\n",
       "    .dataframe thead th {\n",
       "        text-align: right;\n",
       "    }\n",
       "</style>\n",
       "<table border=\"1\" class=\"dataframe\">\n",
       "  <thead>\n",
       "    <tr style=\"text-align: right;\">\n",
       "      <th></th>\n",
       "      <th></th>\n",
       "      <th>duration</th>\n",
       "      <th>calls</th>\n",
       "    </tr>\n",
       "    <tr>\n",
       "      <th>user_id</th>\n",
       "      <th>month</th>\n",
       "      <th></th>\n",
       "      <th></th>\n",
       "    </tr>\n",
       "  </thead>\n",
       "  <tbody>\n",
       "    <tr>\n",
       "      <td rowspan=\"5\" valign=\"top\">1000</td>\n",
       "      <td>5</td>\n",
       "      <td>159</td>\n",
       "      <td>22</td>\n",
       "    </tr>\n",
       "    <tr>\n",
       "      <td>6</td>\n",
       "      <td>172</td>\n",
       "      <td>43</td>\n",
       "    </tr>\n",
       "    <tr>\n",
       "      <td>7</td>\n",
       "      <td>340</td>\n",
       "      <td>47</td>\n",
       "    </tr>\n",
       "    <tr>\n",
       "      <td>8</td>\n",
       "      <td>408</td>\n",
       "      <td>52</td>\n",
       "    </tr>\n",
       "    <tr>\n",
       "      <td>9</td>\n",
       "      <td>466</td>\n",
       "      <td>58</td>\n",
       "    </tr>\n",
       "  </tbody>\n",
       "</table>\n",
       "</div>"
      ],
      "text/plain": [
       "               duration  calls\n",
       "user_id month                 \n",
       "1000    5           159     22\n",
       "        6           172     43\n",
       "        7           340     47\n",
       "        8           408     52\n",
       "        9           466     58"
      ]
     },
     "metadata": {},
     "output_type": "display_data"
    }
   ],
   "source": [
    "# сгенерируем уникальный код из имени и населенного пункта абонента для создания сводной таблицы\n",
    "users['unique_name'] = users['city'] + users['first_name'] + users['last_name']\n",
    "\n",
    "# создадим сводную таблицу по звонкам\n",
    "calls['month'] = calls['call_date'].dt.month\n",
    "calls_temp = calls.merge(users, on='user_id', how='inner')\n",
    "calls_grouped = calls_temp.pivot_table(values=['unique_name', 'duration'], \n",
    "                       index=['user_id', 'month'], \n",
    "                       aggfunc={'unique_name': 'count', 'duration': 'sum'})\n",
    "calls_grouped.columns = ['duration', 'calls']\n",
    "\n",
    "display(calls_grouped.head())"
   ]
  },
  {
   "cell_type": "code",
   "execution_count": 14,
   "metadata": {},
   "outputs": [
    {
     "data": {
      "text/html": [
       "<div>\n",
       "<style scoped>\n",
       "    .dataframe tbody tr th:only-of-type {\n",
       "        vertical-align: middle;\n",
       "    }\n",
       "\n",
       "    .dataframe tbody tr th {\n",
       "        vertical-align: top;\n",
       "    }\n",
       "\n",
       "    .dataframe thead th {\n",
       "        text-align: right;\n",
       "    }\n",
       "</style>\n",
       "<table border=\"1\" class=\"dataframe\">\n",
       "  <thead>\n",
       "    <tr style=\"text-align: right;\">\n",
       "      <th></th>\n",
       "      <th></th>\n",
       "      <th>messages</th>\n",
       "    </tr>\n",
       "    <tr>\n",
       "      <th>user_id</th>\n",
       "      <th>month</th>\n",
       "      <th></th>\n",
       "    </tr>\n",
       "  </thead>\n",
       "  <tbody>\n",
       "    <tr>\n",
       "      <td rowspan=\"5\" valign=\"top\">1000</td>\n",
       "      <td>5</td>\n",
       "      <td>22</td>\n",
       "    </tr>\n",
       "    <tr>\n",
       "      <td>6</td>\n",
       "      <td>60</td>\n",
       "    </tr>\n",
       "    <tr>\n",
       "      <td>7</td>\n",
       "      <td>75</td>\n",
       "    </tr>\n",
       "    <tr>\n",
       "      <td>8</td>\n",
       "      <td>81</td>\n",
       "    </tr>\n",
       "    <tr>\n",
       "      <td>9</td>\n",
       "      <td>57</td>\n",
       "    </tr>\n",
       "  </tbody>\n",
       "</table>\n",
       "</div>"
      ],
      "text/plain": [
       "               messages\n",
       "user_id month          \n",
       "1000    5            22\n",
       "        6            60\n",
       "        7            75\n",
       "        8            81\n",
       "        9            57"
      ]
     },
     "metadata": {},
     "output_type": "display_data"
    }
   ],
   "source": [
    "# создадим сводную таблицу по сообщениям\n",
    "messages['month'] = messages['message_date'].dt.month\n",
    "messages_temp = messages.merge(users, on='user_id', how='inner')\n",
    "messages_grouped = messages_temp.pivot_table(values='unique_name', \n",
    "                       index=['user_id', 'month'], \n",
    "                       aggfunc={'unique_name': 'count'})\n",
    "messages_grouped.columns = ['messages']\n",
    "\n",
    "display(messages_grouped.head())"
   ]
  },
  {
   "cell_type": "code",
   "execution_count": 15,
   "metadata": {},
   "outputs": [
    {
     "data": {
      "text/html": [
       "<div>\n",
       "<style scoped>\n",
       "    .dataframe tbody tr th:only-of-type {\n",
       "        vertical-align: middle;\n",
       "    }\n",
       "\n",
       "    .dataframe tbody tr th {\n",
       "        vertical-align: top;\n",
       "    }\n",
       "\n",
       "    .dataframe thead th {\n",
       "        text-align: right;\n",
       "    }\n",
       "</style>\n",
       "<table border=\"1\" class=\"dataframe\">\n",
       "  <thead>\n",
       "    <tr style=\"text-align: right;\">\n",
       "      <th></th>\n",
       "      <th></th>\n",
       "      <th>mb_used</th>\n",
       "    </tr>\n",
       "    <tr>\n",
       "      <th>user_id</th>\n",
       "      <th>month</th>\n",
       "      <th></th>\n",
       "    </tr>\n",
       "  </thead>\n",
       "  <tbody>\n",
       "    <tr>\n",
       "      <td rowspan=\"5\" valign=\"top\">1000</td>\n",
       "      <td>5</td>\n",
       "      <td>2256</td>\n",
       "    </tr>\n",
       "    <tr>\n",
       "      <td>6</td>\n",
       "      <td>23257</td>\n",
       "    </tr>\n",
       "    <tr>\n",
       "      <td>7</td>\n",
       "      <td>14016</td>\n",
       "    </tr>\n",
       "    <tr>\n",
       "      <td>8</td>\n",
       "      <td>14070</td>\n",
       "    </tr>\n",
       "    <tr>\n",
       "      <td>9</td>\n",
       "      <td>14581</td>\n",
       "    </tr>\n",
       "  </tbody>\n",
       "</table>\n",
       "</div>"
      ],
      "text/plain": [
       "               mb_used\n",
       "user_id month         \n",
       "1000    5         2256\n",
       "        6        23257\n",
       "        7        14016\n",
       "        8        14070\n",
       "        9        14581"
      ]
     },
     "metadata": {},
     "output_type": "display_data"
    }
   ],
   "source": [
    "# создадим сводную таблицу по интернет-трафику\n",
    "internet['month'] = internet['session_date'].dt.month\n",
    "internet_temp = internet.merge(users, on='user_id', how='inner')\n",
    "internet_grouped = internet_temp.pivot_table(values='mb_used', \n",
    "                       index=['user_id', 'month'], \n",
    "                       aggfunc={'mb_used': 'sum'})\n",
    "internet_grouped.columns = ['mb_used']\n",
    "\n",
    "display(internet_grouped.head())"
   ]
  },
  {
   "cell_type": "code",
   "execution_count": 16,
   "metadata": {},
   "outputs": [
    {
     "data": {
      "text/html": [
       "<div>\n",
       "<style scoped>\n",
       "    .dataframe tbody tr th:only-of-type {\n",
       "        vertical-align: middle;\n",
       "    }\n",
       "\n",
       "    .dataframe tbody tr th {\n",
       "        vertical-align: top;\n",
       "    }\n",
       "\n",
       "    .dataframe thead th {\n",
       "        text-align: right;\n",
       "    }\n",
       "</style>\n",
       "<table border=\"1\" class=\"dataframe\">\n",
       "  <thead>\n",
       "    <tr style=\"text-align: right;\">\n",
       "      <th></th>\n",
       "      <th></th>\n",
       "      <th>duration</th>\n",
       "      <th>calls</th>\n",
       "      <th>mb_used</th>\n",
       "      <th>messages</th>\n",
       "      <th>tariff</th>\n",
       "      <th>city</th>\n",
       "    </tr>\n",
       "    <tr>\n",
       "      <th>user_id</th>\n",
       "      <th>month</th>\n",
       "      <th></th>\n",
       "      <th></th>\n",
       "      <th></th>\n",
       "      <th></th>\n",
       "      <th></th>\n",
       "      <th></th>\n",
       "    </tr>\n",
       "  </thead>\n",
       "  <tbody>\n",
       "    <tr>\n",
       "      <td rowspan=\"5\" valign=\"top\">1000</td>\n",
       "      <td>5</td>\n",
       "      <td>159.0</td>\n",
       "      <td>22.0</td>\n",
       "      <td>2256.0</td>\n",
       "      <td>22.0</td>\n",
       "      <td>ultra</td>\n",
       "      <td>Краснодар</td>\n",
       "    </tr>\n",
       "    <tr>\n",
       "      <td>6</td>\n",
       "      <td>172.0</td>\n",
       "      <td>43.0</td>\n",
       "      <td>23257.0</td>\n",
       "      <td>60.0</td>\n",
       "      <td>ultra</td>\n",
       "      <td>Краснодар</td>\n",
       "    </tr>\n",
       "    <tr>\n",
       "      <td>7</td>\n",
       "      <td>340.0</td>\n",
       "      <td>47.0</td>\n",
       "      <td>14016.0</td>\n",
       "      <td>75.0</td>\n",
       "      <td>ultra</td>\n",
       "      <td>Краснодар</td>\n",
       "    </tr>\n",
       "    <tr>\n",
       "      <td>8</td>\n",
       "      <td>408.0</td>\n",
       "      <td>52.0</td>\n",
       "      <td>14070.0</td>\n",
       "      <td>81.0</td>\n",
       "      <td>ultra</td>\n",
       "      <td>Краснодар</td>\n",
       "    </tr>\n",
       "    <tr>\n",
       "      <td>9</td>\n",
       "      <td>466.0</td>\n",
       "      <td>58.0</td>\n",
       "      <td>14581.0</td>\n",
       "      <td>57.0</td>\n",
       "      <td>ultra</td>\n",
       "      <td>Краснодар</td>\n",
       "    </tr>\n",
       "  </tbody>\n",
       "</table>\n",
       "</div>"
      ],
      "text/plain": [
       "               duration  calls  mb_used  messages tariff       city\n",
       "user_id month                                                      \n",
       "1000    5         159.0   22.0   2256.0      22.0  ultra  Краснодар\n",
       "        6         172.0   43.0  23257.0      60.0  ultra  Краснодар\n",
       "        7         340.0   47.0  14016.0      75.0  ultra  Краснодар\n",
       "        8         408.0   52.0  14070.0      81.0  ultra  Краснодар\n",
       "        9         466.0   58.0  14581.0      57.0  ultra  Краснодар"
      ]
     },
     "metadata": {},
     "output_type": "display_data"
    }
   ],
   "source": [
    "# создадим общую сводную таблицу\n",
    "users_pivot = calls_grouped.join([internet_grouped, messages_grouped], how='outer')\n",
    "users_pivot = users_pivot.join(users.loc[:,['user_id', 'tariff', 'city']].set_index('user_id'), how='outer')\n",
    "users_pivot.fillna(0, inplace=True)\n",
    "users_pivot.isnull().sum()\n",
    "\n",
    "display(users_pivot.head())"
   ]
  },
  {
   "cell_type": "markdown",
   "metadata": {},
   "source": [
    "**Рассчитаем помесячную выручку с каждого пользователя**"
   ]
  },
  {
   "cell_type": "code",
   "execution_count": 17,
   "metadata": {},
   "outputs": [],
   "source": [
    "# создадим переменную для расчета помесячной выручки с каждого пользователя\n",
    "def total_income_per_month(row):\n",
    "    calls = row['calls']\n",
    "    duration = row['duration']\n",
    "    mb_used = row['mb_used']\n",
    "    messages = row['messages']\n",
    "    tariff = row['tariff']\n",
    "    \n",
    "    megabytes_included = int(tariffs.loc[tariffs.loc[:,'tariff_name'] == tariff]['mb_per_month_included'])\n",
    "    messages_included = int(tariffs.loc[tariffs.loc[:,'tariff_name'] == tariff]['messages_included'])\n",
    "    minutes_included = int(tariffs.loc[tariffs.loc[:,'tariff_name'] == tariff]['minutes_included'])\n",
    "    monthly_fee = int(tariffs.loc[tariffs.loc[:,'tariff_name'] == tariff]['rub_monthly_fee'])\n",
    "    price_for_gb = int(tariffs.loc[tariffs.loc[:,'tariff_name'] == tariff]['rub_per_gb'])\n",
    "    price_for_message = int(tariffs.loc[tariffs.loc[:,'tariff_name'] == tariff]['rub_per_message'])\n",
    "    price_for_minute = int(tariffs.loc[tariffs.loc[:,'tariff_name'] == tariff]['rub_per_minute'])\n",
    "    \n",
    "# объявим переменные перерасхода для трафика, сообщений и звонков, при наличии перерасхода значения умножим на стоимость\n",
    "    over_mb = 0                \n",
    "    over_msg = 0               \n",
    "    over_calls = 0             \n",
    "    \n",
    "# для получения цены умножим значения перерасхода на стоимость\n",
    "    if mb_used > megabytes_included:\n",
    "        over_mb = ((mb_used - megabytes_included) / 1024) * price_for_gb\n",
    "    \n",
    "# значения минут и сообщений округлим\n",
    "    if duration > minutes_included:\n",
    "        over_calls = (duration - minutes_included) * price_for_minute\n",
    "        \n",
    "    if messages > messages_included:\n",
    "        over_msg = (messages - messages_included) * price_for_message \n",
    "    \n",
    "# посчитаем суммарную выручку с пользователя, добавив ко всем перерасходам абонентскую плату\n",
    "    return over_mb + over_msg + over_calls + monthly_fee"
   ]
  },
  {
   "cell_type": "code",
   "execution_count": 18,
   "metadata": {},
   "outputs": [
    {
     "data": {
      "text/html": [
       "<div>\n",
       "<style scoped>\n",
       "    .dataframe tbody tr th:only-of-type {\n",
       "        vertical-align: middle;\n",
       "    }\n",
       "\n",
       "    .dataframe tbody tr th {\n",
       "        vertical-align: top;\n",
       "    }\n",
       "\n",
       "    .dataframe thead th {\n",
       "        text-align: right;\n",
       "    }\n",
       "</style>\n",
       "<table border=\"1\" class=\"dataframe\">\n",
       "  <thead>\n",
       "    <tr style=\"text-align: right;\">\n",
       "      <th></th>\n",
       "      <th></th>\n",
       "      <th>duration</th>\n",
       "      <th>calls</th>\n",
       "      <th>mb_used</th>\n",
       "      <th>messages</th>\n",
       "      <th>tariff</th>\n",
       "      <th>city</th>\n",
       "      <th>total_income</th>\n",
       "    </tr>\n",
       "    <tr>\n",
       "      <th>user_id</th>\n",
       "      <th>month</th>\n",
       "      <th></th>\n",
       "      <th></th>\n",
       "      <th></th>\n",
       "      <th></th>\n",
       "      <th></th>\n",
       "      <th></th>\n",
       "      <th></th>\n",
       "    </tr>\n",
       "  </thead>\n",
       "  <tbody>\n",
       "    <tr>\n",
       "      <td rowspan=\"5\" valign=\"top\">1000</td>\n",
       "      <td>5</td>\n",
       "      <td>159.0</td>\n",
       "      <td>22.0</td>\n",
       "      <td>2256.0</td>\n",
       "      <td>22.0</td>\n",
       "      <td>ultra</td>\n",
       "      <td>Краснодар</td>\n",
       "      <td>1950.0</td>\n",
       "    </tr>\n",
       "    <tr>\n",
       "      <td>6</td>\n",
       "      <td>172.0</td>\n",
       "      <td>43.0</td>\n",
       "      <td>23257.0</td>\n",
       "      <td>60.0</td>\n",
       "      <td>ultra</td>\n",
       "      <td>Краснодар</td>\n",
       "      <td>1950.0</td>\n",
       "    </tr>\n",
       "    <tr>\n",
       "      <td>7</td>\n",
       "      <td>340.0</td>\n",
       "      <td>47.0</td>\n",
       "      <td>14016.0</td>\n",
       "      <td>75.0</td>\n",
       "      <td>ultra</td>\n",
       "      <td>Краснодар</td>\n",
       "      <td>1950.0</td>\n",
       "    </tr>\n",
       "    <tr>\n",
       "      <td>8</td>\n",
       "      <td>408.0</td>\n",
       "      <td>52.0</td>\n",
       "      <td>14070.0</td>\n",
       "      <td>81.0</td>\n",
       "      <td>ultra</td>\n",
       "      <td>Краснодар</td>\n",
       "      <td>1950.0</td>\n",
       "    </tr>\n",
       "    <tr>\n",
       "      <td>9</td>\n",
       "      <td>466.0</td>\n",
       "      <td>58.0</td>\n",
       "      <td>14581.0</td>\n",
       "      <td>57.0</td>\n",
       "      <td>ultra</td>\n",
       "      <td>Краснодар</td>\n",
       "      <td>1950.0</td>\n",
       "    </tr>\n",
       "  </tbody>\n",
       "</table>\n",
       "</div>"
      ],
      "text/plain": [
       "               duration  calls  mb_used  messages tariff       city  \\\n",
       "user_id month                                                         \n",
       "1000    5         159.0   22.0   2256.0      22.0  ultra  Краснодар   \n",
       "        6         172.0   43.0  23257.0      60.0  ultra  Краснодар   \n",
       "        7         340.0   47.0  14016.0      75.0  ultra  Краснодар   \n",
       "        8         408.0   52.0  14070.0      81.0  ultra  Краснодар   \n",
       "        9         466.0   58.0  14581.0      57.0  ultra  Краснодар   \n",
       "\n",
       "               total_income  \n",
       "user_id month                \n",
       "1000    5            1950.0  \n",
       "        6            1950.0  \n",
       "        7            1950.0  \n",
       "        8            1950.0  \n",
       "        9            1950.0  "
      ]
     },
     "metadata": {},
     "output_type": "display_data"
    }
   ],
   "source": [
    "users_pivot['total_income'] = users_pivot.apply(total_income_per_month, axis = 1)\n",
    "\n",
    "display(users_pivot.head())"
   ]
  },
  {
   "cell_type": "markdown",
   "metadata": {},
   "source": [
    "**Вывод:**  \n",
    "В данных о длительности звонков и трафике изменили типы данных на int и округлили данные в большую сторону.  \n",
    "В графе с датой отключения заменили пропуски на '0'.  \n",
    "В колонках с датами изменили формат данных на %Y-%m-%d  \n",
    "Создали новую таблицу с идентификационным номером абонента, тарифом и городом добавив колонку с месяцами.  "
   ]
  },
  {
   "cell_type": "markdown",
   "metadata": {},
   "source": [
    "# 3. Проанализируем данные"
   ]
  },
  {
   "cell_type": "markdown",
   "metadata": {},
   "source": [
    "**Посчитаем среднее количество минут в месяц**"
   ]
  },
  {
   "cell_type": "code",
   "execution_count": 19,
   "metadata": {
    "scrolled": false
   },
   "outputs": [],
   "source": [
    "# создадим датафрейм в котором будет среднее количество минут для каждого месяца для тарифа \"Smart\"\n",
    "smart_data_calls = users_pivot.query('tariff == \"smart\"').groupby(['tariff','month']).agg({'duration':'mean'}).reset_index()\n",
    "\n",
    "# создадим датафрейм в котором будет среднее количество минут для каждого месяца для тарифа \"Ultra\"\n",
    "ultra_data_calls = users_pivot.query('tariff == \"ultra\"').groupby(['tariff','month']).agg({'duration':'mean'}).reset_index()\n",
    " "
   ]
  },
  {
   "cell_type": "code",
   "execution_count": 20,
   "metadata": {},
   "outputs": [
    {
     "data": {
      "image/png": "[encoded data removed]",
      "text/plain": [
       "<Figure size 1008x504 with 1 Axes>"
      ]
     },
     "metadata": {
      "needs_background": "light"
     },
     "output_type": "display_data"
    }
   ],
   "source": [
    "# нарисуем график для тарифа \"Smart\" зеленым цветом\n",
    "ax = (\n",
    "    smart_data_calls\n",
    "    .sort_values(by='duration', ascending=False)\n",
    "    .plot(y='duration', x='month', kind='bar', title='Среднее количество минут в месяц', figsize=(14, 7), alpha=0.4, color='green', grid=True, legend=False)\n",
    ")\n",
    "# нарисуем график для тарифа \"Ultra\" желтым цветом\n",
    "(\n",
    "    ultra_data_calls\n",
    "    .sort_values(by='duration', ascending=False)\n",
    "    .plot(y='duration', x='month', ax=ax, kind='bar', color='yellow', alpha=0.5, legend=False)\n",
    ")\n",
    "plt.xticks(rotation=0)\n",
    "plt.xlabel('Месяц')\n",
    "plt.ylabel('Минуты')\n",
    "plt.show()"
   ]
  },
  {
   "cell_type": "markdown",
   "metadata": {},
   "source": [
    "Количество израсходованных минут у тарифа Ultra во все месяцы больше чем у тарифа Smart."
   ]
  },
  {
   "cell_type": "markdown",
   "metadata": {},
   "source": [
    "**Посчитаем среднее количество, дисперсию и стандартное отклонение**"
   ]
  },
  {
   "cell_type": "code",
   "execution_count": 21,
   "metadata": {},
   "outputs": [
    {
     "name": "stdout",
     "output_type": "stream",
     "text": [
      "Среднее количество минут для тарифа \"Smart\": 386 минут\n",
      "Среднее количество минут для тарифа \"Ultra\": 495 минут\n",
      "Разница: -109 минут\n",
      "\n"
     ]
    }
   ],
   "source": [
    "# рассчитаем среднее количество минут для двух тарифов\n",
    "smart_mean = int(smart_data_calls['duration'].mean()) \n",
    "ultra_mean = int(ultra_data_calls['duration'].mean()) \n",
    "\n",
    "# посчитаем среднее значение для каждого тарифа\n",
    "print('Среднее количество минут для тарифа \"Smart\":', smart_mean, 'минут')\n",
    "print('Среднее количество минут для тарифа \"Ultra\":', ultra_mean, 'минут')\n",
    "print('Разница:', smart_mean - ultra_mean, 'минут')\n",
    "print()"
   ]
  },
  {
   "cell_type": "code",
   "execution_count": 22,
   "metadata": {},
   "outputs": [
    {
     "name": "stdout",
     "output_type": "stream",
     "text": [
      "Дисперсия тарифа \"Smart\": 36219.32\n",
      "Дисперсия тарифа \"ultra\": 100873.63\n",
      "\n"
     ]
    }
   ],
   "source": [
    "# рассчитаем дисперсию для тарифа \"Smart\"\n",
    "smart = users_pivot.query('tariff == \"smart\"')['duration'] \n",
    "smart_var = np.var(smart, ddof=1)  \n",
    "print('Дисперсия тарифа \"Smart\":', '{:.2f}'.format(smart_var))\n",
    "\n",
    "# рассчитаем дисперсию для тарифа \"Ultra\"\n",
    "ultra = users_pivot.query('tariff == \"ultra\"')['duration'] # df с тарифом \"ultra\"\n",
    "ultra_var = np.var(ultra, ddof=1) # расчёт дисперсии\n",
    "print('Дисперсия тарифа \"ultra\":', '{:.2f}'.format(ultra_var))\n",
    "print('')\n"
   ]
  },
  {
   "cell_type": "code",
   "execution_count": 23,
   "metadata": {},
   "outputs": [
    {
     "name": "stdout",
     "output_type": "stream",
     "text": [
      "Стандартное отклонение для тарифа \"Smart\": 190.31\n",
      "Стандартное отклонение для \"Ultra\": 317.61\n",
      "Разница: 40.08 %\n"
     ]
    }
   ],
   "source": [
    "# рассчитаем стандартное отклонение для тарифа \"Smart\"\n",
    "smart_std = np.std(smart, ddof=1) \n",
    "print('Стандартное отклонение для тарифа \"Smart\":', '{:.2f}'.format(smart_std))\n",
    "\n",
    "# рассчитаем стандартное отклонени для тарифа \"Ultra\"\n",
    "ultra_std = np.std(ultra, ddof=1) \n",
    "print('Стандартное отклонение для \"Ultra\":', '{:.2f}'.format(ultra_std))\n",
    "\n",
    "print('Разница:', '{:.2f}'.format(100 - (smart_std / ultra_std * 100)), '%')"
   ]
  },
  {
   "cell_type": "markdown",
   "metadata": {},
   "source": [
    "**Вывод**  \n",
    "Среднее количество израсходованных минут у тарифа Ultra на 109 минут больше чем у тарифа Smart.  \n",
    "Стандартное отклонения для тарифа Ultra на 40% больше чем для тарифа Smart.  \n",
    "Больше всего минут для обоих тарифов было израсходовано в декабре, а меньше всего в феврале.  \n",
    "Данные показатели говорят о том, что пользователи с тарифом Ultra расходуют в среднем на 22% минут больше, чем пользователи с тарифом Smart."
   ]
  },
  {
   "cell_type": "markdown",
   "metadata": {},
   "source": [
    "**Посчитаем количество собщений в месяц**"
   ]
  },
  {
   "cell_type": "code",
   "execution_count": 24,
   "metadata": {},
   "outputs": [],
   "source": [
    "# создадим датафрейм в котором будет среднее количество смс для каждого месяца для тарифа \"Smart\"\n",
    "smart_data_messages = users_pivot.query('tariff == \"smart\"').groupby(['tariff','month']).agg({'messages':'mean'}).reset_index()\n",
    "\n",
    "# создадим датафрейм в котором будет среднее количество смс для каждого месяца для тарифа \"Ultra\"\n",
    "ultra_data_messages = users_pivot.query('tariff == \"ultra\"').groupby(['tariff','month']).agg({'messages':'mean'}).reset_index()\n",
    "\n"
   ]
  },
  {
   "cell_type": "code",
   "execution_count": 25,
   "metadata": {},
   "outputs": [
    {
     "data": {
      "image/png": "[encoded data removed]",
      "text/plain": [
       "<Figure size 1008x504 with 1 Axes>"
      ]
     },
     "metadata": {
      "needs_background": "light"
     },
     "output_type": "display_data"
    }
   ],
   "source": [
    "# нарисуем график для тарифа \"Smart\" желтым цветом\n",
    "ax = (\n",
    "    smart_data_messages\n",
    "    .sort_values(by='messages', ascending=False)\n",
    "    .plot(y='messages', x='month', kind='bar', title='Среднее количество SMS в месяц', figsize=(14, 7), alpha=0.8, color='blue', grid=True, legend=False)\n",
    ")\n",
    "\n",
    "# нарисуем график для тарифа \"Ultra\" оранжевым цветом\n",
    "(\n",
    "    ultra_data_messages\n",
    "    .sort_values(by='messages', ascending=False)\n",
    "    .plot(y='messages', x='month', ax=ax, kind='bar', color='orange', alpha=0.5, legend=False)\n",
    ")\n",
    "\n",
    "plt.xticks(rotation=0)\n",
    "plt.xlabel('Месяц')\n",
    "plt.ylabel('SMS')\n",
    "plt.show() \n",
    "\n"
   ]
  },
  {
   "cell_type": "code",
   "execution_count": 27,
   "metadata": {},
   "outputs": [
    {
     "name": "stdout",
     "output_type": "stream",
     "text": [
      "Среднее количество смс для тарифа \"Smart\": 31 SMS\n",
      "Среднее количество смс для тарифа \"Ultra\": 43 SMS\n",
      "Разница: -12 SMS\n",
      "\n"
     ]
    }
   ],
   "source": [
    "# рассчитаем среднее количество смс\n",
    "smart_mean = int(smart_data_messages['messages'].mean()) \n",
    "ultra_mean = int(ultra_data_messages['messages'].mean()) \n",
    "\n",
    "# рассчитаем средние значения для каждого тарифа\n",
    "print('Среднее количество смс для тарифа \"Smart\":', smart_mean, 'SMS')\n",
    "print('Среднее количество смс для тарифа \"Ultra\":', ultra_mean, 'SMS')\n",
    "print('Разница:', smart_mean - ultra_mean, 'SMS')\n",
    "print()"
   ]
  },
  {
   "cell_type": "code",
   "execution_count": 28,
   "metadata": {},
   "outputs": [
    {
     "name": "stdout",
     "output_type": "stream",
     "text": [
      "Дисперсия тарифа \"Smart\": 796.81\n",
      "Дисперсия тарифа \"Ultra\": 2285.27\n",
      "\n"
     ]
    }
   ],
   "source": [
    "# рассчитаем дисперсию для тарифа \"Smart\"\n",
    "smart = users_pivot.query('tariff == \"smart\"')['messages'] \n",
    "smart_var = np.var(smart, ddof=1)  \n",
    "print('Дисперсия тарифа \"Smart\":',  '{:.2f}'.format(smart_var))\n",
    "\n",
    "# рассчитаем дисперсию для тарифа \"Ultra\"\n",
    "ultra = users_pivot.query('tariff == \"ultra\"')['messages'] \n",
    "ultra_var = np.var(ultra, ddof=1) \n",
    "print('Дисперсия тарифа \"Ultra\":', '{:.2f}'.format(ultra_var))\n",
    "print('')"
   ]
  },
  {
   "cell_type": "code",
   "execution_count": 29,
   "metadata": {},
   "outputs": [
    {
     "name": "stdout",
     "output_type": "stream",
     "text": [
      "Стандартное отклонение для тарифа \"Smart\": 28.23\n",
      "Стандартное отклонение для \"Ultra\": 47.80\n",
      "Разница составляет: 40.95 %\n"
     ]
    }
   ],
   "source": [
    "# рассчитаем стандартное отклонение для тарифа \"Smart\"\n",
    "smart_std = np.std(smart, ddof=1) \n",
    "print('Стандартное отклонение для тарифа \"Smart\":', '{:.2f}'.format(smart_std))\n",
    "\n",
    "# рассчитаем стандартное отклонение для тарифа \"Ultra\"\n",
    "ultra_std = np.std(ultra, ddof=1) \n",
    "print('Стандартное отклонение для \"Ultra\":', '{:.2f}'.format(ultra_std))\n",
    "\n",
    "print('Разница составляет:', '{:.2f}'.format(100 - (smart_std / ultra_std * 100)), '%')"
   ]
  },
  {
   "cell_type": "markdown",
   "metadata": {},
   "source": [
    "**Вывод**  \n",
    "Количество отправленных SMS для тарифа Ultra во всех месяцах больше чем для тарифа Smart (в январе и марте количество практически одинаковое у обоих тарифов).  \n",
    "Среднее количество отправленных SMS в тарифе Ultra на 12 смс больше чем в тарифе Smart.  \n",
    "Стандартное отклонения для тарифа Ultra на 41% больше чем для тарифа Smart.  \n",
    "Больше всего минут для обоих тарифов было израсходовано в декабре, а меньше всего в феврале.  \n",
    "Данные показатели говорят о том, что пользователи с тарифом Ultra расходуют в среднем на 28% больше смс сообщений, чем пользователи тарифа Smart."
   ]
  },
  {
   "cell_type": "markdown",
   "metadata": {},
   "source": [
    "**Рассчитаем объем интернет-трафика в месяц**"
   ]
  },
  {
   "cell_type": "code",
   "execution_count": 30,
   "metadata": {},
   "outputs": [],
   "source": [
    "# создадим датафрейм в котором будет средний объем трафика для каждого месяца для тарифа \"Smart\"\n",
    "smart_data_internet = users_pivot.query('tariff == \"smart\"').groupby(['tariff','month']).agg({'mb_used':'mean'}).reset_index()\n",
    "\n",
    "# создадим датафрейм в котором будет средний объём трафика для каждого месяца для тарифа \"ultra\"\n",
    "ultra_data_internet = users_pivot.query('tariff == \"ultra\"').groupby(['tariff','month']).agg({'mb_used':'mean'}).reset_index()"
   ]
  },
  {
   "cell_type": "code",
   "execution_count": 31,
   "metadata": {},
   "outputs": [
    {
     "data": {
      "image/png": "[encoded data removed]",
      "text/plain": [
       "<Figure size 1008x504 with 1 Axes>"
      ]
     },
     "metadata": {
      "needs_background": "light"
     },
     "output_type": "display_data"
    }
   ],
   "source": [
    "# нарисуем график для тарифа \"Smart\" фиолетовым цветом\n",
    "ax = (\n",
    "    smart_data_internet\n",
    "    .sort_values(by='mb_used', ascending=False)\n",
    "    .plot(y='mb_used', x='month', kind='bar', title='Средний объем трафика в месяц (в МБайт)', figsize=(14, 7), alpha=0.6, color='purple', grid=True, legend=False)\n",
    ")\n",
    "\n",
    "# нарисуем график для тарифа \"Ultra\" розовым цветом\n",
    "(\n",
    "    ultra_data_internet\n",
    "    .sort_values(by='mb_used', ascending=False)\n",
    "    .plot(y='mb_used', x='month', ax=ax, kind='bar', color='pink', alpha=0.7, legend=False)\n",
    ")\n",
    "\n",
    "plt.xticks(rotation=0)\n",
    "plt.xlabel('Месяц')\n",
    "plt.ylabel('Трафик')\n",
    "plt.show() "
   ]
  },
  {
   "cell_type": "code",
   "execution_count": 32,
   "metadata": {},
   "outputs": [
    {
     "name": "stdout",
     "output_type": "stream",
     "text": [
      "Средний объём трафика для тарифа \"Smart\": 15077 МБайт\n",
      "Средний объём трафика для тарифа \"Ultra\": 18222 МБайт\n",
      "Разница: -3145 мб\n",
      "\n"
     ]
    }
   ],
   "source": [
    "# рассчитаем средний трафик для двух тарифов\n",
    "smart_mean = int(smart_data_internet['mb_used'].mean()) \n",
    "ultra_mean = int(ultra_data_internet['mb_used'].mean()) \n",
    "\n",
    "# рассчитаем средние значения для каждого тарифа\n",
    "print('Средний объём трафика для тарифа \"Smart\":', smart_mean, 'МБайт')\n",
    "print('Средний объём трафика для тарифа \"Ultra\":', ultra_mean, 'МБайт')\n",
    "print('Разница:', smart_mean - ultra_mean, 'мб')\n",
    "print()"
   ]
  },
  {
   "cell_type": "code",
   "execution_count": 33,
   "metadata": {},
   "outputs": [
    {
     "name": "stdout",
     "output_type": "stream",
     "text": [
      "Дисперсия тарифа \"Smart\": 34545911.13\n",
      "Дисперсия тарифа \"Ultra\": 101935621.05\n",
      "\n"
     ]
    }
   ],
   "source": [
    "# рассчитаем дисперсию для тарифа \"Smart\"\n",
    "smart = users_pivot.query('tariff == \"smart\"')['mb_used'] # df с тарифом \"smart\"\n",
    "smart_var = np.var(smart, ddof=1)  # расчёт дисперсии\n",
    "print('Дисперсия тарифа \"Smart\":', '{:.2f}'.format(smart_var))\n",
    "\n",
    "# рассчитаем дисперсию для тарифа \"Ultra\"\n",
    "ultra = users_pivot.query('tariff == \"ultra\"')['mb_used'] # df с тарифом \"ultra\"\n",
    "ultra_var = np.var(ultra, ddof=1) # расчёт дисперсии\n",
    "print('Дисперсия тарифа \"Ultra\":', '{:.2f}'.format(ultra_var))\n",
    "print('')"
   ]
  },
  {
   "cell_type": "code",
   "execution_count": 34,
   "metadata": {},
   "outputs": [
    {
     "name": "stdout",
     "output_type": "stream",
     "text": [
      "Стандартное отклонение для тарифа \"Smart\": 5877.58\n",
      "Стандартное отклонение для \"Ultra\": 10096.32\n",
      "Разница: 41.78 %\n"
     ]
    }
   ],
   "source": [
    "# рассчитаем стандартное отклонение для тарифа \"Smart\"\n",
    "smart_std = np.std(smart, ddof=1) # расчёт стандартного отклонения\n",
    "print('Стандартное отклонение для тарифа \"Smart\":', '{:.2f}'.format(smart_std))\n",
    "\n",
    "# рассчитаем стандартное отклонение для тарифа \"ultra\"\n",
    "ultra_std = np.std(ultra, ddof=1) # расчёт стандартного отклонения\n",
    "print('Стандартное отклонение для \"Ultra\":', '{:.2f}'.format(ultra_std))\n",
    "\n",
    "print('Разница:', '{:.2f}'.format(100 - (smart_std / ultra_std * 100)), '%')"
   ]
  },
  {
   "cell_type": "markdown",
   "metadata": {},
   "source": [
    "**Вывод**  \n",
    "Объем интернет-трафика для тарифа Ultra в каждом месяце больше чем для тарифа Smart.  \n",
    "Средний объем трафика для тарифа Ultra на 3.1 гб больше чем для тарифа Smart.  \n",
    "Стандартное отклонения для тарифа Ultra почти на 42% больше чем для тарифа Smart.  \n",
    "Больше всего интернет трафика для обоих тарифов было израсходовано в декабре, а меньше всего в январе.  \n",
    "Данные показатели говорят о том, что пользователи с тарифом Ultra расходуют в среднем на 17% больше интернет-трафика, чем пользователи с тарифом Smart."
   ]
  },
  {
   "cell_type": "markdown",
   "metadata": {},
   "source": [
    "**Рассчитаем суммарную выручку по тарифному плану в месяц**"
   ]
  },
  {
   "cell_type": "code",
   "execution_count": 35,
   "metadata": {
    "scrolled": false
   },
   "outputs": [],
   "source": [
    "# рассчитаем выручку по тарифному плану \"Ultra\"\n",
    "ultra_revenue = users_pivot.query('tariff ==\"ultra\"').groupby(by='month').agg({'total_income':'sum'}).reset_index()\n",
    "\n",
    "# рассчитаем выручку  плану \"Smart\"\n",
    "smart_revenue = users_pivot.query('tariff ==\"smart\"').groupby(by='month').agg({'total_income':'sum'}).reset_index()"
   ]
  },
  {
   "cell_type": "code",
   "execution_count": 36,
   "metadata": {},
   "outputs": [
    {
     "data": {
      "image/png": "[encoded data removed]",
      "text/plain": [
       "<Figure size 1008x504 with 1 Axes>"
      ]
     },
     "metadata": {
      "needs_background": "light"
     },
     "output_type": "display_data"
    }
   ],
   "source": [
    "# нарисуем график для тарифа \"ultra\" синим цветом\n",
    "ax = (\n",
    "    ultra_revenue\n",
    "    .sort_values(by='total_income', ascending=False)\n",
    "    .plot(y='total_income', x='month', kind='bar', title='Выручка по тарифному плану', figsize=(14, 7), alpha=0.4, color='lime', grid=True, legend=False)\n",
    ")\n",
    "\n",
    "# нарисуем график для тарифа \"smart\" фиолетовым цветом\n",
    "(\n",
    "    smart_revenue\n",
    "    .sort_values(by='total_income', ascending=False)\n",
    "    .plot(y='total_income', x='month', ax=ax, kind='bar', color='blue', alpha=0.4, legend=False)\n",
    ")\n",
    "\n",
    "plt.xticks(rotation=0)\n",
    "plt.xlabel('Месяц')\n",
    "plt.ylabel('Выручка')\n",
    "plt.show() "
   ]
  },
  {
   "cell_type": "code",
   "execution_count": 37,
   "metadata": {},
   "outputs": [
    {
     "name": "stdout",
     "output_type": "stream",
     "text": [
      "Средний объем ежемесячной выручки для тарифа \"Smart\": 229094.66 руб\n",
      "Средний объем ежемесячной выручки для тарифа \"Ultra\": 169135.17 руб\n",
      "Разница: 35.5 %\n"
     ]
    }
   ],
   "source": [
    "# рассчитаем средние значения для каждого тарифа\n",
    "print('Средний объем ежемесячной выручки для тарифа \"Smart\":', '{:.2f}'.format(smart_revenue['total_income'].mean()), 'руб')\n",
    "print('Средний объем ежемесячной выручки для тарифа \"Ultra\":', '{:.2f}'.format(ultra_revenue['total_income'].mean()), 'руб')\n",
    "print('Разница:', '{:.1f}'.format((smart_revenue['total_income'].mean() / ultra_revenue['total_income'].mean() * 100) - 100), '%')"
   ]
  },
  {
   "cell_type": "markdown",
   "metadata": {},
   "source": [
    "**Вывод**\n",
    "Ежемесячная выручка тарифа Smart на 47% больше, чем выручка тарифа Ultra.  \n",
    "Пользователи тарифа \"Ultra\" пользуются услугами оператора более свободно: они больше разговаривают, больше проводят времени в интернете, отправляют больше сообщений чем пользователи тарифа \"Smart\"."
   ]
  },
  {
   "cell_type": "markdown",
   "metadata": {},
   "source": [
    "# 4. Проверка гипотез"
   ]
  },
  {
   "cell_type": "markdown",
   "metadata": {},
   "source": [
    "**Проверим гипотезу \"Средняя выручка пользователей тарифов «Ультра» и «Смарт» различается\".**"
   ]
  },
  {
   "cell_type": "markdown",
   "metadata": {},
   "source": [
    "\n",
    "**Сформулируем нулевую гипотезу**: Средняя выручка пользователей тарифа «Ultra» равна средней выручке пользователей тарифа «Smart».   \n",
    "  \n",
    "**Сформулируем альтернативную гипотезу**: средняя выручка пользователей тарифа «Ultra» не равна средней выручке пользователей тарифа «Smart».\n"
   ]
  },
  {
   "cell_type": "code",
   "execution_count": 38,
   "metadata": {},
   "outputs": [],
   "source": [
    "# создадим таблицу для тарифа \"Smart\", где для каждого user_id будет посчитано средняя сумма расходов\n",
    "array_smart = users_pivot.query('tariff == \"smart\"').groupby('user_id').agg({'total_income':'mean'}).reset_index()\n",
    "\n",
    "# создадим таблицу для тарифа \"Ultra\", где для каждого user_id будет посчитано средняя сумма расходов\n",
    "array_ultra = users_pivot.query('tariff == \"ultra\"').groupby('user_id').agg({'total_income':'mean'}).reset_index()"
   ]
  },
  {
   "cell_type": "code",
   "execution_count": 39,
   "metadata": {},
   "outputs": [],
   "source": [
    "# сделаем выборку из 100 строк для проверки гипотезы\n",
    "array_smart = array_smart[0:100]['total_income'].tolist()\n",
    "array_ultra = array_ultra[0:100]['total_income'].tolist()"
   ]
  },
  {
   "cell_type": "code",
   "execution_count": 40,
   "metadata": {},
   "outputs": [
    {
     "name": "stdout",
     "output_type": "stream",
     "text": [
      "p-значение составляет: 2.1798976911434033e-30\n",
      "Гипотеза - Средняя выручка пользователей тарифов «Ultra» и «Smart» равна - отвергнута\n"
     ]
    }
   ],
   "source": [
    "# критический уровень статистической значимости\n",
    "alpha = 0.05 \n",
    "\n",
    "# если p-value окажется меньше него - отвергнем гипотезу\n",
    "# проверка нулевой гипотезы\n",
    "\n",
    "results = st.ttest_ind(array_smart, array_ultra)\n",
    "\n",
    "print('p-значение составляет:', results.pvalue)\n",
    "\n",
    "if (results.pvalue < alpha):\n",
    "    print(\"Гипотеза - Средняя выручка пользователей тарифов «Ultra» и «Smart» равна - отвергнута\")\n",
    "else:\n",
    "    print(\"Гипотеза - Средняя выручка пользователей тарифов «Ultra» и «Smart» различается - подтверждена\")"
   ]
  },
  {
   "cell_type": "markdown",
   "metadata": {},
   "source": [
    "**Вывод**  \n",
    "Полученное p-значение говорит о том, что средняя выручка пользователей тарифов «Ultra» и «Smart» различается и она не равна."
   ]
  },
  {
   "cell_type": "markdown",
   "metadata": {},
   "source": [
    "**Проверим гипотезу \"Средняя выручка пользователей из Москвы отличается от выручки пользователей из других регионов\"**"
   ]
  },
  {
   "cell_type": "markdown",
   "metadata": {},
   "source": [
    "**Сформулируем нулевую гипотезу**: : средняя выручка пользователей из Москвы равна средней выручке пользователей из других регионов.  \n",
    "  \n",
    "**Сформулируем альтернативную гипотезу**: средняя выручка пользователей из Москвы отличается от средней выручки пользователей из других регионов.  "
   ]
  },
  {
   "cell_type": "code",
   "execution_count": 41,
   "metadata": {
    "scrolled": true
   },
   "outputs": [],
   "source": [
    "# создадим таблицу для Москвы где для каждого user_id будет посчитано средняя сумма расходов\n",
    "array_moskow = users_pivot.query('city == \"Москва\"').groupby('user_id').agg({'total_income':'mean'}).reset_index()\n",
    "\n",
    "# создадим таблицу для Регионов где для каждого user_id будет посчитано средняя сумма расходов\n",
    "array_other_city = users_pivot.query('city != \"Москва\"').groupby('user_id').agg({'total_income':'mean'}).reset_index()"
   ]
  },
  {
   "cell_type": "code",
   "execution_count": 42,
   "metadata": {},
   "outputs": [],
   "source": [
    "# сделаем выборку из 100 строк для проверки гипотезы\n",
    "array_moskow = array_moskow[0:100]['total_income'].tolist()\n",
    "array_other_city = array_other_city[0:100]['total_income'].tolist()"
   ]
  },
  {
   "cell_type": "code",
   "execution_count": 43,
   "metadata": {},
   "outputs": [
    {
     "name": "stdout",
     "output_type": "stream",
     "text": [
      "p-значение составляет: 0.9748655094296108\n",
      "Гипотеза - Средняя выручка пользователей из Москвы равна средней выручке пользователей из других регионов - подтверждена\n"
     ]
    }
   ],
   "source": [
    "# критический уровень статистической значимости\n",
    "alpha = .05 \n",
    "\n",
    "# если p-value окажется меньше него - отвергнем гипотезу\n",
    "# проверка нулевой гипотезы\n",
    "\n",
    "results = st.ttest_ind(array_moskow, array_other_city)\n",
    "\n",
    "print('p-значение составляет:', results.pvalue)\n",
    "\n",
    "if (results.pvalue < alpha):\n",
    "    print(\"Гипотеза - Средняя выручка пользователей из Москвы равна средней выручке пользователей из других регионов - отвергнута\")\n",
    "else:\n",
    "    print(\"Гипотеза - Средняя выручка пользователей из Москвы равна средней выручке пользователей из других регионов - подтверждена\")"
   ]
  },
  {
   "cell_type": "markdown",
   "metadata": {},
   "source": [
    "**Вывод**  \n",
    "\n",
    "Средняя выручка пользователей из Москвы равна средней выручке пользователей из других регионов.\n"
   ]
  },
  {
   "cell_type": "markdown",
   "metadata": {},
   "source": [
    "# Общий вывод"
   ]
  },
  {
   "cell_type": "markdown",
   "metadata": {},
   "source": [
    "Для анализа была предоставлена информация о пользователях телекомуникационной компании «Мегалайн» за 2018 год. Вся необходимая информация была сохранена в 5 датасетах, содержащих общую информацию о клиентах, информацию о датах и продолжительности звонков, отправленных сообщениях, интернет сессиях и использованном трафике, а так же общую информацию о тарифах компании.\n",
    "Во время изучения общей информации нам удалось выяснить, что в представленной выборке клиентов содержится 500 пользователей.\n",
    "\n",
    "В ходе анализа были удалены строки с нулевыми значениями.\n",
    "\n",
    "Статистические характеристики и графики позволили сделать вывод о том, что в целом пользователи тарифа \"Ultra\" пользуются услугами оператора более свободно: они больше разговаривают, больше проводят времени в интернете, отправляют больше сообщений, при этом среднестатистический пользователь тарифа \"Ultra\" не превышает тарифные лимиты. С другой стороны среднестатистическому пользователю тарифа \"Smart\" приходится докупать трафик сверх лимита.\n",
    "\n",
    "В конце года расходы по всем параметрам обоих тарифов повышаются, а в начале года падают.\n",
    "\n",
    "**Пользователи тарифа «Smart» приносят больше прибыли, чем пользователи тарифа «Ultra».\n",
    "Однако средняя выручка от тарифа «Ultra» больше, чем от тарифа «Smart». \n",
    "Среди пользователей тарифа «Smart» заметна тенденция к увеличению потребления услуг компании, что в конечном итоге может привести их к более дорогому «Ultra». Увеличение количества пользователей этого тарифа смогло бы значительно увеличить выручку компании.** \n",
    "\n",
    "Гипотеза \"Средняя выручка пользователей тарифов «Ultra» и «Smart» равна\" отвергнута.  \n",
    "Гипотеза \"Средняя выручка пользователей из Москвы равна средней выручке пользователей из других регионов\" подтверждена.  \n",
    "  \n",
    "Средняя выручка пользователей из Москвы равна средней выручке пользователей из других регионов.\n"
   ]
  },
  {
   "cell_type": "code",
   "execution_count": null,
   "metadata": {},
   "outputs": [],
   "source": []
  }
 ],
 "metadata": {
  "ExecuteTimeLog": [
   {
    "duration": 104,
    "start_time": "2021-10-03T20:43:05.003Z"
   },
   {
    "duration": 92,
    "start_time": "2021-10-03T20:43:10.908Z"
   },
   {
    "duration": 2250,
    "start_time": "2021-10-03T20:48:30.794Z"
   },
   {
    "duration": 213,
    "start_time": "2021-10-03T20:51:32.910Z"
   },
   {
    "duration": 11,
    "start_time": "2021-10-03T20:51:41.145Z"
   },
   {
    "duration": 9,
    "start_time": "2021-10-03T20:51:55.131Z"
   },
   {
    "duration": 12,
    "start_time": "2021-10-03T20:51:58.693Z"
   },
   {
    "duration": 118,
    "start_time": "2021-10-03T20:53:11.514Z"
   },
   {
    "duration": 587,
    "start_time": "2021-10-03T20:54:16.643Z"
   },
   {
    "duration": 17,
    "start_time": "2021-10-03T20:54:24.010Z"
   },
   {
    "duration": 487,
    "start_time": "2021-10-03T20:54:36.246Z"
   },
   {
    "duration": 52,
    "start_time": "2021-10-03T20:54:42.884Z"
   },
   {
    "duration": 11,
    "start_time": "2021-10-03T20:57:12.518Z"
   },
   {
    "duration": 26724,
    "start_time": "2021-10-03T20:57:47.950Z"
   },
   {
    "duration": 554,
    "start_time": "2021-10-03T20:58:56.628Z"
   },
   {
    "duration": 478,
    "start_time": "2021-10-03T20:59:16.799Z"
   },
   {
    "duration": 590,
    "start_time": "2021-10-03T20:59:45.788Z"
   },
   {
    "duration": 491,
    "start_time": "2021-10-03T20:59:56.993Z"
   },
   {
    "duration": 602,
    "start_time": "2021-10-03T21:00:02.236Z"
   },
   {
    "duration": 25,
    "start_time": "2021-10-03T21:00:30.853Z"
   },
   {
    "duration": 477,
    "start_time": "2021-10-03T21:00:37.444Z"
   },
   {
    "duration": 7,
    "start_time": "2021-10-03T21:01:24.407Z"
   },
   {
    "duration": 16,
    "start_time": "2021-10-03T21:01:34.467Z"
   },
   {
    "duration": 8,
    "start_time": "2021-10-03T21:01:41.567Z"
   },
   {
    "duration": 23,
    "start_time": "2021-10-03T21:02:12.264Z"
   },
   {
    "duration": 480,
    "start_time": "2021-10-03T21:02:26.502Z"
   },
   {
    "duration": 8,
    "start_time": "2021-10-03T21:02:45.398Z"
   },
   {
    "duration": 10,
    "start_time": "2021-10-03T21:02:52.806Z"
   },
   {
    "duration": 17,
    "start_time": "2021-10-03T21:03:03.560Z"
   },
   {
    "duration": 9,
    "start_time": "2021-10-03T21:03:09.567Z"
   },
   {
    "duration": 480,
    "start_time": "2021-10-03T21:03:57.346Z"
   },
   {
    "duration": 472,
    "start_time": "2021-10-03T21:04:02.576Z"
   },
   {
    "duration": 23,
    "start_time": "2021-10-03T21:04:17.347Z"
   },
   {
    "duration": 470,
    "start_time": "2021-10-03T21:04:45.496Z"
   },
   {
    "duration": 7,
    "start_time": "2021-10-03T21:04:56.664Z"
   },
   {
    "duration": 16,
    "start_time": "2021-10-03T21:05:06.232Z"
   },
   {
    "duration": 8,
    "start_time": "2021-10-03T21:05:11.836Z"
   },
   {
    "duration": 19,
    "start_time": "2021-10-03T21:05:51.366Z"
   },
   {
    "duration": 611,
    "start_time": "2021-10-03T21:06:14.003Z"
   },
   {
    "duration": 9,
    "start_time": "2021-10-03T21:06:26.581Z"
   },
   {
    "duration": 20,
    "start_time": "2021-10-03T21:09:39.379Z"
   },
   {
    "duration": 5,
    "start_time": "2021-10-03T21:09:51.996Z"
   },
   {
    "duration": 6,
    "start_time": "2021-10-03T21:09:55.863Z"
   },
   {
    "duration": 19,
    "start_time": "2021-10-03T21:12:23.630Z"
   },
   {
    "duration": 5,
    "start_time": "2021-10-03T21:12:41.320Z"
   },
   {
    "duration": 7,
    "start_time": "2021-10-03T21:12:45.094Z"
   },
   {
    "duration": 3056,
    "start_time": "2021-10-03T21:14:45.465Z"
   },
   {
    "duration": 42,
    "start_time": "2021-10-03T21:14:48.524Z"
   },
   {
    "duration": 42,
    "start_time": "2021-10-03T21:14:50.027Z"
   },
   {
    "duration": 41,
    "start_time": "2021-10-03T21:14:51.445Z"
   },
   {
    "duration": 21,
    "start_time": "2021-10-03T21:14:52.835Z"
   },
   {
    "duration": 45,
    "start_time": "2021-10-03T21:14:54.212Z"
   },
   {
    "duration": 292,
    "start_time": "2021-10-03T21:14:56.371Z"
   },
   {
    "duration": 315,
    "start_time": "2021-10-03T21:15:11.303Z"
   },
   {
    "duration": 39,
    "start_time": "2021-10-03T21:15:14.389Z"
   },
   {
    "duration": 119,
    "start_time": "2021-10-03T21:15:15.047Z"
   },
   {
    "duration": 9,
    "start_time": "2021-10-03T21:15:15.734Z"
   },
   {
    "duration": 9,
    "start_time": "2021-10-03T21:15:16.455Z"
   },
   {
    "duration": 114,
    "start_time": "2021-10-03T21:15:18.102Z"
   },
   {
    "duration": 535,
    "start_time": "2021-10-03T21:15:18.854Z"
   },
   {
    "duration": 53,
    "start_time": "2021-10-03T21:15:19.583Z"
   },
   {
    "duration": 10,
    "start_time": "2021-10-03T21:15:31.158Z"
   },
   {
    "duration": 25793,
    "start_time": "2021-10-03T21:15:31.695Z"
   },
   {
    "duration": 24,
    "start_time": "2021-10-03T21:16:04.148Z"
   },
   {
    "duration": 490,
    "start_time": "2021-10-03T21:16:04.966Z"
   },
   {
    "duration": 9,
    "start_time": "2021-10-03T21:16:18.638Z"
   },
   {
    "duration": 17,
    "start_time": "2021-10-03T21:16:19.536Z"
   },
   {
    "duration": 9,
    "start_time": "2021-10-03T21:16:25.073Z"
   },
   {
    "duration": 25,
    "start_time": "2021-10-03T21:16:31.406Z"
   },
   {
    "duration": 471,
    "start_time": "2021-10-03T21:16:32.288Z"
   },
   {
    "duration": 7,
    "start_time": "2021-10-03T21:16:33.758Z"
   },
   {
    "duration": 16,
    "start_time": "2021-10-03T21:16:34.901Z"
   },
   {
    "duration": 8,
    "start_time": "2021-10-03T21:16:36.310Z"
   },
   {
    "duration": 23,
    "start_time": "2021-10-03T21:16:43.061Z"
   },
   {
    "duration": 521,
    "start_time": "2021-10-03T21:16:44.027Z"
   },
   {
    "duration": 7,
    "start_time": "2021-10-03T21:16:47.070Z"
   },
   {
    "duration": 16,
    "start_time": "2021-10-03T21:16:48.086Z"
   },
   {
    "duration": 9,
    "start_time": "2021-10-03T21:16:48.998Z"
   },
   {
    "duration": 19,
    "start_time": "2021-10-03T21:16:53.286Z"
   },
   {
    "duration": 476,
    "start_time": "2021-10-03T21:16:54.966Z"
   },
   {
    "duration": 9,
    "start_time": "2021-10-03T21:17:00.767Z"
   },
   {
    "duration": 20,
    "start_time": "2021-10-03T21:17:09.358Z"
   },
   {
    "duration": 5,
    "start_time": "2021-10-03T21:17:10.095Z"
   },
   {
    "duration": 7,
    "start_time": "2021-10-03T21:17:11.190Z"
   },
   {
    "duration": 6,
    "start_time": "2021-10-03T21:17:23.896Z"
   },
   {
    "duration": 20,
    "start_time": "2021-10-03T21:17:33.639Z"
   },
   {
    "duration": 5,
    "start_time": "2021-10-03T21:17:34.431Z"
   },
   {
    "duration": 7,
    "start_time": "2021-10-03T21:17:35.308Z"
   },
   {
    "duration": 227,
    "start_time": "2021-10-03T21:18:33.809Z"
   },
   {
    "duration": 230,
    "start_time": "2021-10-03T21:18:38.120Z"
   },
   {
    "duration": 131,
    "start_time": "2021-10-03T21:19:01.768Z"
   },
   {
    "duration": 143,
    "start_time": "2021-10-03T21:19:08.816Z"
   },
   {
    "duration": 10,
    "start_time": "2021-10-03T21:19:15.904Z"
   },
   {
    "duration": 2082,
    "start_time": "2021-10-03T21:19:31.876Z"
   },
   {
    "duration": 24,
    "start_time": "2021-10-03T21:19:38.097Z"
   },
   {
    "duration": 44,
    "start_time": "2021-10-03T21:19:40.073Z"
   },
   {
    "duration": 42,
    "start_time": "2021-10-03T21:19:41.842Z"
   },
   {
    "duration": 20,
    "start_time": "2021-10-03T21:19:43.577Z"
   },
   {
    "duration": 42,
    "start_time": "2021-10-03T21:19:45.145Z"
   },
   {
    "duration": 305,
    "start_time": "2021-10-03T21:19:49.777Z"
   },
   {
    "duration": 37,
    "start_time": "2021-10-03T21:19:56.306Z"
   },
   {
    "duration": 107,
    "start_time": "2021-10-03T21:19:57.300Z"
   },
   {
    "duration": 9,
    "start_time": "2021-10-03T21:19:58.162Z"
   },
   {
    "duration": 11,
    "start_time": "2021-10-03T21:19:59.122Z"
   },
   {
    "duration": 120,
    "start_time": "2021-10-03T21:20:03.027Z"
   },
   {
    "duration": 263,
    "start_time": "2021-10-03T21:20:03.887Z"
   },
   {
    "duration": 135,
    "start_time": "2021-10-03T21:20:04.867Z"
   },
   {
    "duration": 164,
    "start_time": "2021-10-03T21:20:05.673Z"
   },
   {
    "duration": 54,
    "start_time": "2021-10-03T21:20:06.379Z"
   },
   {
    "duration": 9,
    "start_time": "2021-10-03T21:20:07.898Z"
   },
   {
    "duration": 26251,
    "start_time": "2021-10-03T21:20:08.635Z"
   },
   {
    "duration": 23,
    "start_time": "2021-10-03T21:20:34.889Z"
   },
   {
    "duration": 508,
    "start_time": "2021-10-03T21:20:34.916Z"
   },
   {
    "duration": 8,
    "start_time": "2021-10-03T21:20:51.931Z"
   },
   {
    "duration": 17,
    "start_time": "2021-10-03T21:20:52.788Z"
   },
   {
    "duration": 9,
    "start_time": "2021-10-03T21:20:53.634Z"
   },
   {
    "duration": 25,
    "start_time": "2021-10-03T21:20:55.690Z"
   },
   {
    "duration": 479,
    "start_time": "2021-10-03T21:20:56.922Z"
   },
   {
    "duration": 7,
    "start_time": "2021-10-03T21:39:05.535Z"
   },
   {
    "duration": 8,
    "start_time": "2021-10-03T21:39:08.848Z"
   },
   {
    "duration": 16,
    "start_time": "2021-10-03T21:39:09.990Z"
   },
   {
    "duration": 8,
    "start_time": "2021-10-03T21:39:17.871Z"
   },
   {
    "duration": 23,
    "start_time": "2021-10-03T21:39:21.245Z"
   },
   {
    "duration": 540,
    "start_time": "2021-10-03T21:39:22.002Z"
   },
   {
    "duration": 9,
    "start_time": "2021-10-03T21:39:22.887Z"
   },
   {
    "duration": 17,
    "start_time": "2021-10-03T21:39:23.679Z"
   },
   {
    "duration": 9,
    "start_time": "2021-10-03T21:39:24.368Z"
   },
   {
    "duration": 20,
    "start_time": "2021-10-03T21:39:26.509Z"
   },
   {
    "duration": 480,
    "start_time": "2021-10-03T21:39:27.271Z"
   },
   {
    "duration": 9,
    "start_time": "2021-10-03T21:39:28.127Z"
   },
   {
    "duration": 19,
    "start_time": "2021-10-03T21:39:34.815Z"
   },
   {
    "duration": 5,
    "start_time": "2021-10-03T21:39:35.519Z"
   },
   {
    "duration": 8,
    "start_time": "2021-10-03T21:39:36.319Z"
   },
   {
    "duration": 19,
    "start_time": "2021-10-03T21:39:41.228Z"
   },
   {
    "duration": 5,
    "start_time": "2021-10-03T21:39:42.159Z"
   },
   {
    "duration": 7,
    "start_time": "2021-10-03T21:39:43.799Z"
   }
  ],
  "kernelspec": {
   "display_name": "Python 3",
   "language": "python",
   "name": "python3"
  },
  "language_info": {
   "codemirror_mode": {
    "name": "ipython",
    "version": 3
   },
   "file_extension": ".py",
   "mimetype": "text/x-python",
   "name": "python",
   "nbconvert_exporter": "python",
   "pygments_lexer": "ipython3",
   "version": "3.7.8"
  },
  "toc": {
   "base_numbering": 1,
   "nav_menu": {},
   "number_sections": true,
   "sideBar": true,
   "skip_h1_title": true,
   "title_cell": "Table of Contents",
   "title_sidebar": "Contents",
   "toc_cell": false,
   "toc_position": {},
   "toc_section_display": true,
   "toc_window_display": false
  }
 },
 "nbformat": 4,
 "nbformat_minor": 2
}
